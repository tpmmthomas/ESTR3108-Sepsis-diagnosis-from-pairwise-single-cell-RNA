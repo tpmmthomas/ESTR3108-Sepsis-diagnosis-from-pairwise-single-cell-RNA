{
 "cells": [
  {
   "cell_type": "markdown",
   "metadata": {},
   "source": [
    "# 401 CNN\n",
    "\n",
    "View more, visit my tutorial page: https://morvanzhou.github.io/tutorials/\n",
    "My Youtube Channel: https://www.youtube.com/user/MorvanZhou\n",
    "\n",
    "Dependencies:\n",
    "* torch: 0.1.11\n",
    "* torchvision\n",
    "* matplotlib"
   ]
  },
  {
   "cell_type": "code",
   "execution_count": 1,
   "metadata": {},
   "outputs": [],
   "source": [
    "# importing the libraries\n",
    "import pandas as pd\n",
    "import numpy as np\n",
    "\n",
    "# for reading and displaying images\n",
    "from skimage.io import imread\n",
    "import matplotlib.pyplot as plt\n",
    "%matplotlib inline\n",
    "\n",
    "# for creating validation set\n",
    "from sklearn.model_selection import train_test_split\n",
    "\n",
    "# for evaluating the model\n",
    "from sklearn.metrics import accuracy_score\n",
    "from tqdm import tqdm\n",
    "\n",
    "# PyTorch libraries and modules\n",
    "import torch\n",
    "from torch.autograd import Variable\n",
    "import torch.nn as nn\n",
    "from torch.optim import Adam, SGD"
   ]
  },
  {
   "cell_type": "code",
   "execution_count": 2,
   "metadata": {},
   "outputs": [
    {
     "name": "stdout",
     "output_type": "stream",
     "text": [
      "done\n",
      "(500, 1, 8949)\n",
      "(500, 1, 8949)\n",
      "(500,)\n",
      "(500,)\n"
     ]
    }
   ],
   "source": [
    "# Load training data set (small amount to test if it works first)\n",
    "\n",
    "xtrain = r\"data/training_sample2.csv.gz\"\n",
    "ytrain = r\"data/training_label2_int.csv.gz\"\n",
    "xtest = r\"data/testing_sample2.csv.gz\"\n",
    "ytest = r\"data/testing_label2_int.csv.gz\"\n",
    "\n",
    "samplesdf = pd.read_csv(xtrain,compression =\"gzip\",delimiter=',', nrows = 500, header=0)\n",
    "x_train = samplesdf.to_numpy()\n",
    "\n",
    "samplesdf = pd.read_csv(ytrain,compression =\"gzip\",delimiter=',', nrows = 500, header=0)\n",
    "y_train = samplesdf.to_numpy()\n",
    "\n",
    "samplesdf = pd.read_csv(xtest,compression =\"gzip\",delimiter=',',nrows = 500, header=0)\n",
    "x_test = samplesdf.to_numpy()\n",
    "\n",
    "samplesdf = pd.read_csv(ytest,compression =\"gzip\",delimiter=',', nrows = 500, header=0)\n",
    "y_test = samplesdf.to_numpy()\n",
    "print(\"done\")\n",
    "\n",
    "t , dummy = x_train.shape\n",
    "k, dummy = x_test.shape\n",
    "x_train = x_train.reshape(t,1,8949)\n",
    "x_test = x_test.reshape(k,1,8949)\n",
    "y_train = y_train.reshape(t)\n",
    "y_test = y_test.reshape(k)\n",
    "print(x_train.shape)\n",
    "print(x_test.shape)\n",
    "print(y_train.shape)\n",
    "print(y_test.shape)\n"
   ]
  },
  {
   "cell_type": "code",
   "execution_count": 3,
   "metadata": {},
   "outputs": [
    {
     "data": {
      "text/plain": [
       "(torch.Size([500, 1, 8949]), torch.Size([500]))"
      ]
     },
     "execution_count": 3,
     "metadata": {},
     "output_type": "execute_result"
    }
   ],
   "source": [
    "#convert into torch format\n",
    "x_train = torch.from_numpy(x_train).double()\n",
    "y_train = torch.from_numpy(y_train).long()\n",
    "x_train.shape,y_train.shape             "
   ]
  },
  {
   "cell_type": "code",
   "execution_count": 4,
   "metadata": {},
   "outputs": [
    {
     "data": {
      "text/plain": [
       "(torch.Size([500, 1, 8949]), torch.Size([500]))"
      ]
     },
     "execution_count": 4,
     "metadata": {},
     "output_type": "execute_result"
    }
   ],
   "source": [
    "#convert into torch format\n",
    "x_test = torch.from_numpy(x_test).double()\n",
    "y_test = torch.from_numpy(y_test).long()\n",
    "x_test.shape,y_test.shape        "
   ]
  },
  {
   "cell_type": "code",
   "execution_count": 5,
   "metadata": {},
   "outputs": [],
   "source": [
    "# Hyper Parameters\n",
    "EPOCH = 25             # train the training data n times, to save time, we just train 1 epoch\n",
    "LR = 0.001              # learning rate\n"
   ]
  },
  {
   "cell_type": "code",
   "execution_count": 6,
   "metadata": {},
   "outputs": [],
   "source": [
    "class CNN(nn.Module):\n",
    "    def __init__(self):\n",
    "        super(CNN, self).__init__()\n",
    "        self.conv1 = nn.Sequential(         # input shape (x,1, 8949)\n",
    "            nn.Conv1d(\n",
    "                in_channels=1,              # input height\n",
    "                out_channels=4,            # n_filters\n",
    "                kernel_size=3,              # filter size\n",
    "                stride=1,                   # filter movement/step\n",
    "                padding=1,                  # if want same width and length of this image after con2d, padding=(kernel_size-1)/2 if stride=1\n",
    "            ),                              # output shape (x,64,8949)\n",
    "            nn.BatchNorm1d(4),\n",
    "            nn.ReLU(),                      # activation\n",
    "        )\n",
    "        self.conv2 = nn.Sequential(         # input shape (x,64, 8949)\n",
    "            nn.Conv1d(4,4,3,1,1),            \n",
    "            nn.ReLU(),  \n",
    "            nn.Dropout(p=0.4),\n",
    "            nn.MaxPool1d(kernel_size =2, stride=2,ceil_mode = True),                # output shape (x,64,4478)\n",
    "        )\n",
    "        self.conv3 = nn.Sequential(         # input shape (x,64,4478)\n",
    "            nn.Conv1d(4, 4, 3, 1, 1),     # output shape (x,128,4478)\n",
    "            nn.ReLU(),                      # activation\n",
    "            nn.MaxPool1d(kernel_size =2, stride=2,ceil_mode = True),                # output shape (x,128,2238)\n",
    "        )\n",
    "        self.out = nn.Linear(17900 , 7)   # fully connected layer, output 10 classes\n",
    "\n",
    "    def forward(self, x):\n",
    "        x = self.conv1(x)\n",
    "        x = self.conv2(x)\n",
    "        s = self.conv3(x)\n",
    "        x = x.view(x.size(0), -1)           \n",
    "        output = self.out(x)\n",
    "        return output  "
   ]
  },
  {
   "cell_type": "code",
   "execution_count": 7,
   "metadata": {},
   "outputs": [
    {
     "name": "stdout",
     "output_type": "stream",
     "text": [
      "CNN(\n",
      "  (conv1): Sequential(\n",
      "    (0): Conv1d(1, 4, kernel_size=(3,), stride=(1,), padding=(1,))\n",
      "    (1): BatchNorm1d(4, eps=1e-05, momentum=0.1, affine=True, track_running_stats=True)\n",
      "    (2): ReLU()\n",
      "  )\n",
      "  (conv2): Sequential(\n",
      "    (0): Conv1d(4, 4, kernel_size=(3,), stride=(1,), padding=(1,))\n",
      "    (1): ReLU()\n",
      "    (2): Dropout(p=0.4, inplace=False)\n",
      "    (3): MaxPool1d(kernel_size=2, stride=2, padding=0, dilation=1, ceil_mode=True)\n",
      "  )\n",
      "  (conv3): Sequential(\n",
      "    (0): Conv1d(4, 4, kernel_size=(3,), stride=(1,), padding=(1,))\n",
      "    (1): ReLU()\n",
      "    (2): MaxPool1d(kernel_size=2, stride=2, padding=0, dilation=1, ceil_mode=True)\n",
      "  )\n",
      "  (out): Linear(in_features=17900, out_features=7, bias=True)\n",
      ")\n"
     ]
    }
   ],
   "source": [
    "cnn = CNN()\n",
    "optimizer = torch.optim.Adam(cnn.parameters(), lr=LR)   # optimize all cnn parameters\n",
    "loss_func = nn.CrossEntropyLoss()                       # the target label is not one-hotted\n",
    "if torch.cuda.is_available():\n",
    "    cnn = cnn.cuda()\n",
    "    loss_func = loss_func.cuda()\n",
    "cnn = cnn.double()    \n",
    "print(cnn)"
   ]
  },
  {
   "cell_type": "code",
   "execution_count": 8,
   "metadata": {
    "scrolled": false
   },
   "outputs": [],
   "source": [
    "def train(epoch):\n",
    "    cnn.train()\n",
    "    tr_loss = 0\n",
    "    # getting the training set\n",
    "    xtrain, ytrain = Variable(x_train), Variable(y_train)\n",
    "    # getting the validation set\n",
    "    xval, yval = Variable(x_test), Variable(y_test)\n",
    "    # converting the data into GPU format\n",
    "    if torch.cuda.is_available():\n",
    "        xtrain = xtrain.cuda()\n",
    "        ytrain = ytrain.cuda()\n",
    "        xval = xval.cuda()\n",
    "        yval = yval.cuda()\n",
    "\n",
    "    # clearing the Gradients of the model parameters\n",
    "    optimizer.zero_grad()\n",
    "    \n",
    "    # prediction for training and validation set\n",
    "    output_train = cnn(xtrain.double())\n",
    "    output_val = cnn(xval.double())\n",
    "\n",
    "    # computing the training and validation loss\n",
    "    loss_train = loss_func(output_train, ytrain)\n",
    "    loss_val = loss_func(output_val, yval)\n",
    "    train_losses.append(loss_train)\n",
    "    val_losses.append(loss_val)\n",
    "\n",
    "    # computing the updated weights of all the model parameters\n",
    "    loss_train.backward()\n",
    "    optimizer.step()\n",
    "    tr_loss = loss_train.item()\n",
    "    if epoch%2 == 0:\n",
    "        # printing the validation loss\n",
    "        print('Epoch : ',epoch+1, '\\t', 'loss :', loss_val)"
   ]
  },
  {
   "cell_type": "code",
   "execution_count": 9,
   "metadata": {},
   "outputs": [
    {
     "name": "stdout",
     "output_type": "stream",
     "text": [
      "Epoch :  1 \t loss : tensor(1.9672, dtype=torch.float64, grad_fn=<NllLossBackward>)\n",
      "Epoch :  3 \t loss : tensor(3.0734, dtype=torch.float64, grad_fn=<NllLossBackward>)\n",
      "Epoch :  5 \t loss : tensor(2.5274, dtype=torch.float64, grad_fn=<NllLossBackward>)\n",
      "Epoch :  7 \t loss : tensor(2.2366, dtype=torch.float64, grad_fn=<NllLossBackward>)\n",
      "Epoch :  9 \t loss : tensor(1.9926, dtype=torch.float64, grad_fn=<NllLossBackward>)\n",
      "Epoch :  11 \t loss : tensor(1.8435, dtype=torch.float64, grad_fn=<NllLossBackward>)\n",
      "Epoch :  13 \t loss : tensor(1.8943, dtype=torch.float64, grad_fn=<NllLossBackward>)\n",
      "Epoch :  15 \t loss : tensor(1.7584, dtype=torch.float64, grad_fn=<NllLossBackward>)\n",
      "Epoch :  17 \t loss : tensor(1.8063, dtype=torch.float64, grad_fn=<NllLossBackward>)\n",
      "Epoch :  19 \t loss : tensor(1.6782, dtype=torch.float64, grad_fn=<NllLossBackward>)\n",
      "Epoch :  21 \t loss : tensor(1.6663, dtype=torch.float64, grad_fn=<NllLossBackward>)\n",
      "Epoch :  23 \t loss : tensor(1.6572, dtype=torch.float64, grad_fn=<NllLossBackward>)\n",
      "Epoch :  25 \t loss : tensor(1.6546, dtype=torch.float64, grad_fn=<NllLossBackward>)\n",
      "Done\n"
     ]
    }
   ],
   "source": [
    "# empty list to store training losses\n",
    "train_losses = []\n",
    "# empty list to store validation losses\n",
    "val_losses = []\n",
    "# training the model\n",
    "for epoch in range(EPOCH):\n",
    "    train(epoch)\n",
    "print(\"Done\")"
   ]
  },
  {
   "cell_type": "code",
   "execution_count": 10,
   "metadata": {},
   "outputs": [
    {
     "data": {
      "image/png": "[encoded data removed]",
      "text/plain": [
       "<Figure size 432x288 with 1 Axes>"
      ]
     },
     "metadata": {
      "needs_background": "light"
     },
     "output_type": "display_data"
    }
   ],
   "source": [
    "plt.plot(train_losses, label='Training loss')\n",
    "plt.plot(val_losses, label='Validation loss')\n",
    "plt.legend()\n",
    "plt.show()"
   ]
  },
  {
   "cell_type": "code",
   "execution_count": 11,
   "metadata": {},
   "outputs": [
    {
     "data": {
      "text/plain": [
       "0.842"
      ]
     },
     "execution_count": 11,
     "metadata": {},
     "output_type": "execute_result"
    }
   ],
   "source": [
    "# prediction for testing set\n",
    "with torch.no_grad():\n",
    "    output = cnn(x_train)\n",
    "    \n",
    "softmax = torch.exp(output).cpu()\n",
    "prob = list(softmax.numpy())\n",
    "predictions = np.argmax(prob, axis=1)\n",
    "\n",
    "# accuracy on testing set\n",
    "accuracy_score(y_train, predictions)"
   ]
  },
  {
   "cell_type": "code",
   "execution_count": 12,
   "metadata": {},
   "outputs": [
    {
     "data": {
      "text/plain": [
       "0.436"
      ]
     },
     "execution_count": 12,
     "metadata": {},
     "output_type": "execute_result"
    }
   ],
   "source": [
    "# prediction for testing set\n",
    "with torch.no_grad():\n",
    "    output = cnn(x_test)\n",
    "    \n",
    "softmax = torch.exp(output).cpu()\n",
    "prob = list(softmax.numpy())\n",
    "predictions = np.argmax(prob, axis=1)\n",
    "\n",
    "# accuracy on testing set\n",
    "accuracy_score(y_test, predictions)"
   ]
  }
 ],
 "metadata": {
  "kernelspec": {
   "display_name": "Python 3",
   "language": "python",
   "name": "python3"
  },
  "language_info": {
   "codemirror_mode": {
    "name": "ipython",
    "version": 3
   },
   "file_extension": ".py",
   "mimetype": "text/x-python",
   "name": "python",
   "nbconvert_exporter": "python",
   "pygments_lexer": "ipython3",
   "version": "3.7.3"
  }
 },
 "nbformat": 4,
 "nbformat_minor": 2
}
