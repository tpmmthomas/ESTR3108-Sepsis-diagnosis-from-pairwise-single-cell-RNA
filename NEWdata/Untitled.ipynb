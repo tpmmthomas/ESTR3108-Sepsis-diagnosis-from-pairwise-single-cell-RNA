{
 "cells": [
  {
   "cell_type": "code",
   "execution_count": 1,
   "id": "pressing-alignment",
   "metadata": {},
   "outputs": [],
   "source": [
    "import numpy as np\n",
    "import pandas as pd"
   ]
  },
  {
   "cell_type": "code",
   "execution_count": 2,
   "id": "sharp-colombia",
   "metadata": {},
   "outputs": [],
   "source": [
    "ytest = r\"NEW_testing_label.csv.gz\"\n",
    "xtest = r\"NEW_testing_sample.csv.gz\""
   ]
  },
  {
   "cell_type": "code",
   "execution_count": 3,
   "id": "based-pride",
   "metadata": {},
   "outputs": [
    {
     "name": "stdout",
     "output_type": "stream",
     "text": [
      "         0    1     2     3     4    5     6     7     8     9  ...  3020  \\\n",
      "0     1.46  0.0  1.46  0.00  1.46  0.0  0.00  1.46  1.46  1.46  ...  4.39   \n",
      "1     0.00  0.0  1.63  1.63  0.00  0.0  2.58  0.00  1.63  0.00  ...  5.32   \n",
      "2     0.00  0.0  0.00  0.00  0.00  0.0  2.05  0.00  0.00  0.00  ...  5.56   \n",
      "3     0.00  0.0  0.00  0.00  0.00  0.0  0.00  0.00  0.00  0.00  ...  5.13   \n",
      "4     0.00  0.0  0.00  0.00  0.00  0.0  0.00  2.23  0.00  0.00  ...  4.52   \n",
      "...    ...  ...   ...   ...   ...  ...   ...   ...   ...   ...  ...   ...   \n",
      "4260  0.00  0.0  0.00  0.00  0.00  0.0  0.00  1.62  0.00  0.00  ...  4.41   \n",
      "4261  0.00  0.0  0.00  0.00  0.00  0.0  0.00  1.48  0.00  0.00  ...  4.33   \n",
      "4262  1.91  0.0  0.00  0.00  0.00  0.0  2.52  0.00  1.91  0.00  ...  4.70   \n",
      "4263  0.00  0.0  0.00  0.00  1.93  0.0  0.00  0.00  0.00  0.00  ...  4.62   \n",
      "4264  0.00  0.0  0.00  0.00  0.00  0.0  0.00  1.48  0.00  1.48  ...  4.94   \n",
      "\n",
      "      3021  3022  3023  3024  3025  3026  3027  3028  3029  \n",
      "0     4.11  3.43  4.05  3.19  1.46  4.54  2.39   0.0  3.53  \n",
      "1     5.00  3.52  4.60  3.24  0.00  4.31  3.39   0.0  3.83  \n",
      "2     4.97  3.56  4.57  2.68  2.05  4.13  2.68   0.0  3.73  \n",
      "3     4.96  3.31  4.39  2.29  0.00  3.31  0.00   0.0  3.99  \n",
      "4     4.08  2.23  4.32  2.23  0.00  4.21  2.86   0.0  3.75  \n",
      "...    ...   ...   ...   ...   ...   ...   ...   ...   ...  \n",
      "4260  3.99  3.23  3.51  3.38  2.21  3.82  3.06   0.0  2.58  \n",
      "4261  4.24  3.07  4.33  3.21  0.00  3.89  1.48   0.0  2.89  \n",
      "4262  3.85  3.39  3.72  2.52  0.00  3.72  2.52   0.0  2.90  \n",
      "4263  4.78  3.99  3.87  3.99  2.55  4.62  1.93   0.0  4.62  \n",
      "4264  4.01  4.28  3.73  4.01  1.48  4.52  3.20   0.0  3.73  \n",
      "\n",
      "[4265 rows x 3030 columns]\n",
      "(4265, 3030)\n"
     ]
    }
   ],
   "source": [
    "df = pd.read_csv(ytest,compression =\"gzip\", header = 0)\n",
    "print(df)\n",
    "df = df.to_numpy()\n",
    "print(df.shape)"
   ]
  }
 ],
 "metadata": {
  "kernelspec": {
   "display_name": "Python 3",
   "language": "python",
   "name": "python3"
  },
  "language_info": {
   "codemirror_mode": {
    "name": "ipython",
    "version": 3
   },
   "file_extension": ".py",
   "mimetype": "text/x-python",
   "name": "python",
   "nbconvert_exporter": "python",
   "pygments_lexer": "ipython3",
   "version": "3.8.3"
  }
 },
 "nbformat": 4,
 "nbformat_minor": 5
}
