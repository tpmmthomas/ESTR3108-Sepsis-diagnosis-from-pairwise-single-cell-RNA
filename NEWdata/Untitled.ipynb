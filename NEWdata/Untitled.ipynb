{
 "cells": [
  {
   "cell_type": "code",
   "execution_count": 1,
   "id": "pressing-alignment",
   "metadata": {},
   "outputs": [],
   "source": [
    "import numpy as np\n",
    "import pandas as pd"
   ]
  },
  {
   "cell_type": "code",
   "execution_count": 2,
   "id": "sharp-colombia",
   "metadata": {},
   "outputs": [],
   "source": [
    "ytest = r\"NEW_testing_label.csv.gz\"\n",
    "xtest = r\"NEW_testing_sample.csv.gz\"\n",
    "ytrain = r\"NEW_training_label.csv.gz\"\n",
    "xtrain = r\"NEW_training_sample.csv.gz\""
   ]
  },
  {
   "cell_type": "code",
   "execution_count": 3,
   "id": "based-pride",
   "metadata": {},
   "outputs": [
    {
     "name": "stdout",
     "output_type": "stream",
     "text": [
      "          0     1     2     3     4     5     6     7     8     9  ...  3020  \\\n",
      "0      0.00  0.00  0.00  0.00  0.00  0.00  0.00  1.72  0.00  0.00  ...  5.42   \n",
      "1      0.00  0.00  0.00  0.00  1.81  0.00  0.00  0.00  1.81  0.00  ...  4.82   \n",
      "2      0.00  1.40  2.58  0.00  0.00  0.00  0.00  0.00  1.40  0.00  ...  4.97   \n",
      "3      1.04  1.04  2.86  1.04  0.00  1.04  1.87  1.04  0.00  1.04  ...  4.84   \n",
      "4      2.33  0.00  1.73  0.00  0.00  0.00  1.73  0.00  0.00  0.00  ...  4.87   \n",
      "...     ...   ...   ...   ...   ...   ...   ...   ...   ...   ...  ...   ...   \n",
      "38478  0.00  0.00  2.22  1.32  0.00  0.00  1.87  0.00  0.00  0.00  ...  5.41   \n",
      "38479  0.00  0.00  0.00  0.00  0.00  0.00  0.00  2.11  0.00  0.00  ...  5.12   \n",
      "38480  0.00  0.00  0.00  0.00  1.54  1.54  2.49  1.54  1.54  2.12  ...  4.71   \n",
      "38481  0.00  1.99  0.00  0.00  0.00  0.00  1.99  1.99  0.00  1.99  ...  4.56   \n",
      "38482  2.15  0.00  3.16  0.00  0.00  0.00  0.00  0.00  0.00  0.00  ...  5.07   \n",
      "\n",
      "       3021  3022  3023  3024  3025  3026  3027  3028  3029  \n",
      "0      4.96  4.10  4.79  3.84  0.00  4.62  1.72  0.00  4.24  \n",
      "1      4.42  2.80  3.96  1.81  0.00  4.05  2.80  0.00  3.96  \n",
      "2      4.81  3.78  3.71  3.24  2.58  4.31  2.96  0.00  3.35  \n",
      "3      4.48  3.21  4.54  2.12  0.00  3.52  1.54  1.04  3.84  \n",
      "4      4.38  4.11  4.94  4.03  1.73  4.25  0.00  1.73  4.18  \n",
      "...     ...   ...   ...   ...   ...   ...   ...   ...   ...  \n",
      "38478  5.09  3.97  4.87  4.20  1.32  4.82  2.86  1.87  3.80  \n",
      "38479  4.93  3.94  4.47  3.12  0.00  4.76  2.74  0.00  3.79  \n",
      "38480  3.96  2.49  3.96  2.96  0.00  3.14  0.00  0.00  3.29  \n",
      "38481  4.34  4.34  4.06  3.49  2.61  4.49  1.99  0.00  3.27  \n",
      "38482  4.12  2.15  4.43  3.44  0.00  3.99  2.78  0.00  3.16  \n",
      "\n",
      "[38483 rows x 3030 columns]\n",
      "(38483, 3030)\n"
     ]
    }
   ],
   "source": [
    "df = pd.read_csv(xtrain,compression =\"gzip\", header = 0)\n",
    "print(df)\n",
    "df = df.to_numpy()\n",
    "print(df.shape)"
   ]
  }
 ],
 "metadata": {
  "kernelspec": {
   "display_name": "Python 3",
   "language": "python",
   "name": "python3"
  },
  "language_info": {
   "codemirror_mode": {
    "name": "ipython",
    "version": 3
   },
   "file_extension": ".py",
   "mimetype": "text/x-python",
   "name": "python",
   "nbconvert_exporter": "python",
   "pygments_lexer": "ipython3",
   "version": "3.8.3"
  }
 },
 "nbformat": 4,
 "nbformat_minor": 5
}
