{
 "cells": [
  {
   "cell_type": "code",
   "execution_count": 1,
   "metadata": {},
   "outputs": [],
   "source": [
    "# importing the libraries\n",
    "import pandas as pd\n",
    "import numpy as np\n",
    "import os\n",
    "\n",
    "# for reading and displaying images\n",
    "from skimage.io import imread\n",
    "import matplotlib.pyplot as plt\n",
    "%matplotlib inline\n",
    "\n",
    "# for creating validation set\n",
    "from sklearn.model_selection import train_test_split\n",
    "\n",
    "# for evaluating the model\n",
    "from sklearn.metrics import accuracy_score\n",
    "from tqdm import tqdm\n",
    "\n",
    "# PyTorch libraries and modules\n",
    "import torch\n",
    "from torch.autograd import Variable\n",
    "import torch.nn as nn\n",
    "from torch.optim import Adam, SGD\n",
    "from torch.utils.data import Dataset, DataLoader\n",
    "\n",
    "#Transformers\n",
    "from module import *"
   ]
  },
  {
   "cell_type": "code",
   "execution_count": 2,
   "metadata": {},
   "outputs": [],
   "source": [
    "# Load training data set (small amount to test if it works first)\n",
    "\n",
    "xtrain = r\"data/training_sample_NoSparse.csv.gz\"\n",
    "ytrain = r\"data/training_label_NoSparse.csv.gz\"\n",
    "xtest = r\"data/testing_sample_NoSparse.csv.gz\"\n",
    "ytest = r\"data/testing_label_NoSparse.csv.gz\"\n"
   ]
  },
  {
   "cell_type": "code",
   "execution_count": 3,
   "metadata": {},
   "outputs": [
    {
     "data": {
      "text/plain": [
       "(15161, 14094)"
      ]
     },
     "execution_count": 3,
     "metadata": {},
     "output_type": "execute_result"
    }
   ],
   "source": [
    "#check balance\n",
    "samplesdf = pd.DataFrame()\n",
    "for df in  pd.read_csv(ytrain,compression =\"gzip\",delimiter=',', chunksize = 10000, header=0):\n",
    "    samplesdf = samplesdf.append(df)\n",
    "y_train = samplesdf.to_numpy()\n",
    "\n",
    "num0 = 0\n",
    "num1 = 0\n",
    "for x in y_train:\n",
    "    if x == 0:\n",
    "        num0 = num0 + 1\n",
    "    else:\n",
    "        num1 = num1 + 1\n",
    "num0,num1 #checking if it is balanced"
   ]
  },
  {
   "cell_type": "code",
   "execution_count": 4,
   "metadata": {
    "scrolled": true
   },
   "outputs": [
    {
     "name": "stdout",
     "output_type": "stream",
     "text": [
      "[[0.   0.   0.   ... 3.11 0.   3.69]\n",
      " [0.   0.   0.   ... 3.16 0.   3.33]\n",
      " [0.   0.   0.   ... 2.98 0.   3.64]\n",
      " ...\n",
      " [1.39 0.   0.   ... 1.95 0.   3.57]\n",
      " [0.   2.08 0.   ... 2.71 0.   3.09]\n",
      " [0.   0.   0.   ... 3.12 0.   2.85]]\n"
     ]
    }
   ],
   "source": [
    "df = pd.read_csv(xtrain,compression =\"gzip\",delimiter=',', nrows=123, header=0)\n",
    "x_train = df.to_numpy()\n",
    "print(x_train)"
   ]
  },
  {
   "cell_type": "code",
   "execution_count": 5,
   "metadata": {},
   "outputs": [],
   "source": [
    "class Dataset(Dataset):\n",
    "\n",
    "    def __init__(self,samples,labels,numrows):\n",
    "\n",
    "        self.data = pd.read_csv(samples,compression =\"gzip\",delimiter=',', nrows = numrows, header=0)\n",
    "        self.label = pd.read_csv(labels,compression =\"gzip\",delimiter=',', nrows = numrows, header=0)\n",
    "        \n",
    "    def __len__(self):\n",
    "        return len(self.data)\n",
    "\n",
    "    def __getitem__(self, idx):\n",
    "        if torch.is_tensor(idx):\n",
    "            idx = idx.tolist()\n",
    "\n",
    "        rna = self.data.iloc[idx]\n",
    "        seplb = self.label.iloc[idx]\n",
    "        rna = np.array([rna])\n",
    "        seplb = np.array([seplb])\n",
    "        rna = rna.astype('double').reshape(-1,3273)\n",
    "        sample = {'rna': rna, 'label': seplb}\n",
    "\n",
    "        return sample"
   ]
  },
  {
   "cell_type": "code",
   "execution_count": 6,
   "metadata": {},
   "outputs": [],
   "source": [
    "train_dataset = Dataset(samples=xtrain,labels=ytrain,numrows = 29255)\n",
    "test_dataset = Dataset(samples = xtest,labels = ytest,numrows = 3241)"
   ]
  },
  {
   "cell_type": "code",
   "execution_count": 7,
   "metadata": {},
   "outputs": [],
   "source": [
    "# Hyper Parameters\n",
    "EPOCH = 10             # train the training data n times, to save time, we just train 1 epoch\n",
    "LR = 0.005              # learning rate\n",
    "batch_size = 32\n",
    "wd = LR / EPOCH"
   ]
  },
  {
   "cell_type": "code",
   "execution_count": 8,
   "metadata": {},
   "outputs": [],
   "source": [
    "train_loader = DataLoader(dataset=train_dataset, batch_size=batch_size, shuffle=True)\n",
    "test_loader = DataLoader(dataset=test_dataset, batch_size=batch_size, shuffle=False)"
   ]
  },
  {
   "cell_type": "code",
   "execution_count": 9,
   "metadata": {},
   "outputs": [],
   "source": [
    "class CNN(nn.Module):\n",
    "    def __init__(self):\n",
    "        super(CNN, self).__init__()\n",
    "        self.conv1 = nn.Sequential(         # input shape (x,1, 8949)\n",
    "            nn.Conv1d(\n",
    "                in_channels=1,              # input height\n",
    "                out_channels=4,            # n_filters\n",
    "                kernel_size=3,              # filter size\n",
    "                stride=1,                   # filter movement/step\n",
    "                padding=1,                  # if want same width and length of this image after con2d, padding=(kernel_size-1)/2 if stride=1\n",
    "            ),                              # output shape (x,64,8949)\n",
    "            nn.BatchNorm1d(4),\n",
    "            nn.ReLU(),                      # activation\n",
    "        )\n",
    "        self.conv2 = nn.Sequential(         # input shape (x,64, 8949)\n",
    "            nn.Conv1d(4,4,3,1,1),            \n",
    "            nn.ReLU(),  \n",
    "            nn.Dropout(p=0.1),\n",
    "            nn.MaxPool1d(kernel_size =2, stride=2,ceil_mode = True),                # output shape (x,64,4478)\n",
    "        )\n",
    "        self.conv3 = nn.Sequential(         # input shape (x,64,4478)\n",
    "            nn.Conv1d(4, 4, 3, 1, 1),     # output shape (x,128,4478)\n",
    "            nn.ReLU(),                      # activation\n",
    "            nn.MaxPool1d(kernel_size =2, stride=2,ceil_mode = True),                # output shape (x,128,2238)\n",
    "        )\n",
    "        self.out = nn.Linear(3276 , 2)   # fully connected layer, output 10 classes\n",
    "\n",
    "    def forward(self, x):\n",
    "        x = self.conv1(x)\n",
    "        x = self.conv2(x)\n",
    "        x = self.conv3(x)\n",
    "        x = x.view(x.size(0), -1)\n",
    "        output = self.out(x)\n",
    "        return output  "
   ]
  },
  {
   "cell_type": "markdown",
   "metadata": {},
   "source": [
    "cnn = CNN()\n",
    "optimizer = torch.optim.Adam(cnn.parameters(), lr=LR)   # optimize all cnn parameters\n",
    "loss_func = nn.CrossEntropyLoss()                       # the target label is not one-hotted\n",
    "if torch.cuda.is_available():\n",
    "    cnn = cnn.cuda()\n",
    "    loss_func = loss_func.cuda()\n",
    "cnn = cnn.double()    \n",
    "print(cnn)"
   ]
  },
  {
   "cell_type": "code",
   "execution_count": 10,
   "metadata": {},
   "outputs": [],
   "source": [
    "class SetTransformer(nn.Module):\n",
    "    def __init__(self, dim_input, num_outputs, dim_output,\n",
    "            num_inds=32, dim_hidden=128, num_heads=2, ln=False):\n",
    "        super(SetTransformer, self).__init__()\n",
    "        self.enc = nn.Sequential(\n",
    "                ISAB(dim_input, dim_hidden, num_heads, num_inds, ln=ln),\n",
    "                ISAB(dim_hidden, dim_hidden, num_heads, num_inds, ln=ln))\n",
    "        self.dec = nn.Sequential(\n",
    "                PMA(dim_hidden, num_heads, num_outputs, ln=ln),\n",
    "                SAB(dim_hidden, dim_hidden, num_heads, ln=ln),\n",
    "                SAB(dim_hidden, dim_hidden, num_heads, ln=ln),\n",
    "                nn.Linear(dim_hidden, dim_output))\n",
    "\n",
    "    def forward(self, X):\n",
    "        return self.dec(self.enc(X))"
   ]
  },
  {
   "cell_type": "markdown",
   "metadata": {},
   "source": [
    "trans = SetTransformer(3273,2,1)\n",
    "optimizer = torch.optim.Adam(trans.parameters(), lr=LR)   \n",
    "loss_func = nn.CrossEntropyLoss()                      \n",
    "if torch.cuda.is_available():\n",
    "    loss_func = loss_func.cuda()\n",
    "    trans = trans.cuda()\n",
    "trans = trans.double()\n",
    "print(trans)"
   ]
  },
  {
   "cell_type": "code",
   "execution_count": 11,
   "metadata": {},
   "outputs": [],
   "source": [
    "class CNN_Trans(nn.Module):\n",
    "    def __init__(self, dim_input, num_outputs, dim_output,\n",
    "            num_inds=32, dim_hidden=128, num_heads=4, ln=False):\n",
    "        super(CNN_Trans, self).__init__()\n",
    "        self.conv1 = nn.Sequential(         # input shape (x,1, 8949)\n",
    "            nn.Conv1d(\n",
    "                in_channels=1,              # input height\n",
    "                out_channels=4,            # n_filters\n",
    "                kernel_size=3,              # filter size\n",
    "                stride=1,                   # filter movement/step\n",
    "                padding=1,                  # if want same width and length of this image after con2d, padding=(kernel_size-1)/2 if stride=1\n",
    "            ),                              # output shape (x,64,8949)\n",
    "            nn.BatchNorm1d(4),\n",
    "            nn.ReLU(),                      # activation\n",
    "        )\n",
    "        self.conv2 = nn.Sequential(         # input shape (x,64, 8949)\n",
    "            nn.Conv1d(4,4,3,1,1),            \n",
    "            nn.ReLU(),  \n",
    "            nn.Dropout(p=0.2),\n",
    "            nn.MaxPool1d(kernel_size =2, stride=2,ceil_mode = True),                # output shape (x,64,4478)\n",
    "        )\n",
    "        self.conv3 = nn.Sequential(         # input shape (x,64,4478)\n",
    "            nn.Conv1d(4, 4, 3, 1, 1),     # output shape (x,128,4478)\n",
    "            nn.ReLU(),                      # activation\n",
    "            nn.MaxPool1d(kernel_size =2, stride=2,ceil_mode = True),                # output shape (x,128,2238)\n",
    "        )\n",
    "        self.enc = nn.Sequential(\n",
    "                ISAB(dim_input, dim_hidden, num_heads, num_inds, ln=ln),\n",
    "                ISAB(dim_hidden, dim_hidden, num_heads, num_inds, ln=ln))\n",
    "        self.dec = nn.Sequential(\n",
    "                PMA(dim_hidden, num_heads, num_outputs, ln=ln),\n",
    "                SAB(dim_hidden, dim_hidden, num_heads, ln=ln),\n",
    "                SAB(dim_hidden, dim_hidden, num_heads, ln=ln),\n",
    "                nn.Linear(dim_hidden, dim_output))\n",
    "\n",
    "    def forward(self, x):\n",
    "        x = self.conv1(x)\n",
    "        x = self.conv2(x)\n",
    "        x = self.conv3(x)\n",
    "        x = x.view(x.size(0), -1)\n",
    "        x = x.reshape(-1,1,3276)\n",
    "        return self.dec(self.enc(x))"
   ]
  },
  {
   "cell_type": "code",
   "execution_count": 12,
   "metadata": {},
   "outputs": [
    {
     "name": "stdout",
     "output_type": "stream",
     "text": [
      "CNN_Trans(\n",
      "  (conv1): Sequential(\n",
      "    (0): Conv1d(1, 4, kernel_size=(3,), stride=(1,), padding=(1,))\n",
      "    (1): BatchNorm1d(4, eps=1e-05, momentum=0.1, affine=True, track_running_stats=True)\n",
      "    (2): ReLU()\n",
      "  )\n",
      "  (conv2): Sequential(\n",
      "    (0): Conv1d(4, 4, kernel_size=(3,), stride=(1,), padding=(1,))\n",
      "    (1): ReLU()\n",
      "    (2): Dropout(p=0.2, inplace=False)\n",
      "    (3): MaxPool1d(kernel_size=2, stride=2, padding=0, dilation=1, ceil_mode=True)\n",
      "  )\n",
      "  (conv3): Sequential(\n",
      "    (0): Conv1d(4, 4, kernel_size=(3,), stride=(1,), padding=(1,))\n",
      "    (1): ReLU()\n",
      "    (2): MaxPool1d(kernel_size=2, stride=2, padding=0, dilation=1, ceil_mode=True)\n",
      "  )\n",
      "  (enc): Sequential(\n",
      "    (0): ISAB(\n",
      "      (mab0): MAB(\n",
      "        (fc_q): Linear(in_features=128, out_features=128, bias=True)\n",
      "        (fc_k): Linear(in_features=3276, out_features=128, bias=True)\n",
      "        (fc_v): Linear(in_features=3276, out_features=128, bias=True)\n",
      "        (fc_o): Linear(in_features=128, out_features=128, bias=True)\n",
      "      )\n",
      "      (mab1): MAB(\n",
      "        (fc_q): Linear(in_features=3276, out_features=128, bias=True)\n",
      "        (fc_k): Linear(in_features=128, out_features=128, bias=True)\n",
      "        (fc_v): Linear(in_features=128, out_features=128, bias=True)\n",
      "        (fc_o): Linear(in_features=128, out_features=128, bias=True)\n",
      "      )\n",
      "    )\n",
      "    (1): ISAB(\n",
      "      (mab0): MAB(\n",
      "        (fc_q): Linear(in_features=128, out_features=128, bias=True)\n",
      "        (fc_k): Linear(in_features=128, out_features=128, bias=True)\n",
      "        (fc_v): Linear(in_features=128, out_features=128, bias=True)\n",
      "        (fc_o): Linear(in_features=128, out_features=128, bias=True)\n",
      "      )\n",
      "      (mab1): MAB(\n",
      "        (fc_q): Linear(in_features=128, out_features=128, bias=True)\n",
      "        (fc_k): Linear(in_features=128, out_features=128, bias=True)\n",
      "        (fc_v): Linear(in_features=128, out_features=128, bias=True)\n",
      "        (fc_o): Linear(in_features=128, out_features=128, bias=True)\n",
      "      )\n",
      "    )\n",
      "  )\n",
      "  (dec): Sequential(\n",
      "    (0): PMA(\n",
      "      (mab): MAB(\n",
      "        (fc_q): Linear(in_features=128, out_features=128, bias=True)\n",
      "        (fc_k): Linear(in_features=128, out_features=128, bias=True)\n",
      "        (fc_v): Linear(in_features=128, out_features=128, bias=True)\n",
      "        (fc_o): Linear(in_features=128, out_features=128, bias=True)\n",
      "      )\n",
      "    )\n",
      "    (1): SAB(\n",
      "      (mab): MAB(\n",
      "        (fc_q): Linear(in_features=128, out_features=128, bias=True)\n",
      "        (fc_k): Linear(in_features=128, out_features=128, bias=True)\n",
      "        (fc_v): Linear(in_features=128, out_features=128, bias=True)\n",
      "        (fc_o): Linear(in_features=128, out_features=128, bias=True)\n",
      "      )\n",
      "    )\n",
      "    (2): SAB(\n",
      "      (mab): MAB(\n",
      "        (fc_q): Linear(in_features=128, out_features=128, bias=True)\n",
      "        (fc_k): Linear(in_features=128, out_features=128, bias=True)\n",
      "        (fc_v): Linear(in_features=128, out_features=128, bias=True)\n",
      "        (fc_o): Linear(in_features=128, out_features=128, bias=True)\n",
      "      )\n",
      "    )\n",
      "    (3): Linear(in_features=128, out_features=2, bias=True)\n",
      "  )\n",
      ")\n"
     ]
    }
   ],
   "source": [
    "cnntrans = CNN_Trans(3276,1,2)\n",
    "optimizer = torch.optim.Adam(cnntrans.parameters(), lr=LR)   \n",
    "loss_func = nn.CrossEntropyLoss()                      \n",
    "if torch.cuda.is_available():\n",
    "    loss_func = loss_func.cuda()\n",
    "    cnntrans = cnntrans.cuda()\n",
    "cnntrans = cnntrans.double()\n",
    "print(cnntrans)"
   ]
  },
  {
   "cell_type": "code",
   "execution_count": 13,
   "metadata": {},
   "outputs": [],
   "source": [
    "def test(model):\n",
    "    model.eval()\n",
    "    with torch.no_grad():\n",
    "        correct = 0\n",
    "        total = 0\n",
    "        for batch in train_loader:\n",
    "            rna,labels = batch[\"rna\"], batch[\"label\"] \n",
    "            if torch.cuda.is_available():\n",
    "                rna = rna.cuda()\n",
    "                labels = labels.cuda()\n",
    "            labels = labels.reshape(-1)\n",
    "            outputs = model(rna)\n",
    "            outputs = outputs.reshape(-1,2)\n",
    "            _, predicted = torch.max(outputs.data, 1)\n",
    "            total += labels.size(0)\n",
    "            correct += (predicted == labels).sum().item()\n",
    "           # print(total,correct)\n",
    "\n",
    "        print('Train Accuracy of the model on the train rna: {} %'.format((correct / total) * 100))\n",
    "    with torch.no_grad():\n",
    "        correct = 0\n",
    "        total = 0\n",
    "        for batch in test_loader:\n",
    "            rna,labels = batch[\"rna\"], batch[\"label\"] \n",
    "            if torch.cuda.is_available():\n",
    "                rna = rna.cuda()\n",
    "                labels = labels.cuda()\n",
    "            labels = labels.reshape(-1)\n",
    "            outputs = model(rna)\n",
    "            outputs = outputs.reshape(-1,2)\n",
    "            _, predicted = torch.max(outputs.data, 1)\n",
    "            total += labels.size(0)\n",
    "            correct += (predicted == labels).sum().item()\n",
    "    #print(total,correct)\n",
    "\n",
    "        print('Test Accuracy of the model on the test rna: {} %'.format((correct / total) * 100))\n",
    "\n"
   ]
  },
  {
   "cell_type": "code",
   "execution_count": 14,
   "metadata": {
    "scrolled": false
   },
   "outputs": [],
   "source": [
    "def train(model): \n",
    "    total_step = len(train_loader)\n",
    "    num_epoch = EPOCH\n",
    "    for epoch in range(num_epoch):\n",
    "        model.train()\n",
    "        for i, batch in enumerate(train_loader):\n",
    "            # Run the forward pass\n",
    "            rna,labels = batch[\"rna\"], batch[\"label\"] \n",
    "            if torch.cuda.is_available():\n",
    "                rna = rna.cuda()\n",
    "                labels = labels.cuda()\n",
    "            outputs = model(rna)\n",
    "            labels = labels.long()\n",
    "            #print(outputs)\n",
    "            outputs = outputs.reshape(-1,2)\n",
    "            labels = labels.reshape(-1)\n",
    "            loss = loss_func(outputs, labels)\n",
    "            train_losses.append(loss.item())\n",
    "\n",
    "            # Backprop and perform Adam optimisation\n",
    "            optimizer.zero_grad()\n",
    "            loss.backward()\n",
    "            optimizer.step()\n",
    "\n",
    "            # Track the accuracy\n",
    "            total = labels.size(0)\n",
    "            _, predicted = torch.max(outputs.data, 1)\n",
    "            correct = (predicted == labels).sum().item()\n",
    "            train_acc.append(correct / total)\n",
    "            if i % 100 == 0:\n",
    "                print('Epoch [{}/{}], Step [{}/{}], Loss: {:.4f}, Accuracy: {:.2f}%'\n",
    "                        .format(epoch + 1, num_epoch , i + 1, total_step, loss.item(),\n",
    "                                (correct / total) * 100))\n",
    "        test(model)"
   ]
  },
  {
   "cell_type": "code",
   "execution_count": 15,
   "metadata": {},
   "outputs": [
    {
     "name": "stdout",
     "output_type": "stream",
     "text": [
      "Epoch [1/10], Step [1/915], Loss: 0.7219, Accuracy: 37.50%\n",
      "Epoch [1/10], Step [101/915], Loss: 0.6969, Accuracy: 40.62%\n",
      "Epoch [1/10], Step [201/915], Loss: 0.6550, Accuracy: 62.50%\n",
      "Epoch [1/10], Step [301/915], Loss: 0.7469, Accuracy: 53.12%\n",
      "Epoch [1/10], Step [401/915], Loss: 0.5721, Accuracy: 59.38%\n",
      "Epoch [1/10], Step [501/915], Loss: 0.5288, Accuracy: 68.75%\n",
      "Epoch [1/10], Step [601/915], Loss: 0.4613, Accuracy: 75.00%\n",
      "Epoch [1/10], Step [701/915], Loss: 0.4649, Accuracy: 78.12%\n",
      "Epoch [1/10], Step [801/915], Loss: 0.4419, Accuracy: 81.25%\n",
      "Epoch [1/10], Step [901/915], Loss: 0.5921, Accuracy: 65.62%\n",
      "Train Accuracy of the model on the train rna: 76.4074517176551 %\n",
      "Test Accuracy of the model on the test rna: 74.69916692378895 %\n",
      "Epoch [2/10], Step [1/915], Loss: 0.5291, Accuracy: 75.00%\n",
      "Epoch [2/10], Step [101/915], Loss: 0.4153, Accuracy: 84.38%\n",
      "Epoch [2/10], Step [201/915], Loss: 0.4168, Accuracy: 78.12%\n",
      "Epoch [2/10], Step [301/915], Loss: 0.5473, Accuracy: 75.00%\n",
      "Epoch [2/10], Step [401/915], Loss: 0.4245, Accuracy: 78.12%\n",
      "Epoch [2/10], Step [501/915], Loss: 0.5285, Accuracy: 75.00%\n",
      "Epoch [2/10], Step [601/915], Loss: 0.6010, Accuracy: 71.88%\n",
      "Epoch [2/10], Step [701/915], Loss: 0.6184, Accuracy: 62.50%\n",
      "Epoch [2/10], Step [801/915], Loss: 0.2813, Accuracy: 93.75%\n",
      "Epoch [2/10], Step [901/915], Loss: 0.5383, Accuracy: 81.25%\n",
      "Train Accuracy of the model on the train rna: 76.3014869253119 %\n",
      "Test Accuracy of the model on the test rna: 73.40327059549521 %\n",
      "Epoch [3/10], Step [1/915], Loss: 0.4616, Accuracy: 84.38%\n",
      "Epoch [3/10], Step [101/915], Loss: 0.4233, Accuracy: 81.25%\n",
      "Epoch [3/10], Step [201/915], Loss: 0.3293, Accuracy: 87.50%\n",
      "Epoch [3/10], Step [301/915], Loss: 0.3123, Accuracy: 87.50%\n",
      "Epoch [3/10], Step [401/915], Loss: 0.4044, Accuracy: 78.12%\n",
      "Epoch [3/10], Step [501/915], Loss: 0.3534, Accuracy: 81.25%\n",
      "Epoch [3/10], Step [601/915], Loss: 0.4933, Accuracy: 78.12%\n",
      "Epoch [3/10], Step [701/915], Loss: 0.2188, Accuracy: 93.75%\n",
      "Epoch [3/10], Step [801/915], Loss: 0.2582, Accuracy: 90.62%\n",
      "Epoch [3/10], Step [901/915], Loss: 0.4244, Accuracy: 78.12%\n",
      "Train Accuracy of the model on the train rna: 84.42659374465903 %\n",
      "Test Accuracy of the model on the test rna: 82.16599814871954 %\n",
      "Epoch [4/10], Step [1/915], Loss: 0.2872, Accuracy: 87.50%\n",
      "Epoch [4/10], Step [101/915], Loss: 0.5438, Accuracy: 65.62%\n",
      "Epoch [4/10], Step [201/915], Loss: 0.3791, Accuracy: 87.50%\n",
      "Epoch [4/10], Step [301/915], Loss: 0.3082, Accuracy: 81.25%\n",
      "Epoch [4/10], Step [401/915], Loss: 0.4480, Accuracy: 75.00%\n",
      "Epoch [4/10], Step [501/915], Loss: 0.9598, Accuracy: 71.88%\n",
      "Epoch [4/10], Step [601/915], Loss: 0.4817, Accuracy: 71.88%\n",
      "Epoch [4/10], Step [701/915], Loss: 0.4704, Accuracy: 78.12%\n",
      "Epoch [4/10], Step [801/915], Loss: 0.3824, Accuracy: 84.38%\n",
      "Epoch [4/10], Step [901/915], Loss: 0.3162, Accuracy: 84.38%\n",
      "Train Accuracy of the model on the train rna: 72.44231755255511 %\n",
      "Test Accuracy of the model on the test rna: 71.30515273063868 %\n",
      "Epoch [5/10], Step [1/915], Loss: 0.8544, Accuracy: 71.88%\n",
      "Epoch [5/10], Step [101/915], Loss: 170226.2065, Accuracy: 50.00%\n",
      "Epoch [5/10], Step [201/915], Loss: 15309.9245, Accuracy: 53.12%\n",
      "Epoch [5/10], Step [301/915], Loss: 14192.6117, Accuracy: 50.00%\n",
      "Epoch [5/10], Step [401/915], Loss: 1848.5677, Accuracy: 62.50%\n",
      "Epoch [5/10], Step [501/915], Loss: 1434.2774, Accuracy: 56.25%\n",
      "Epoch [5/10], Step [601/915], Loss: 567.7186, Accuracy: 62.50%\n",
      "Epoch [5/10], Step [701/915], Loss: 2200.9923, Accuracy: 50.00%\n",
      "Epoch [5/10], Step [801/915], Loss: 666.1669, Accuracy: 65.62%\n",
      "Epoch [5/10], Step [901/915], Loss: 1274.0755, Accuracy: 50.00%\n",
      "Train Accuracy of the model on the train rna: 51.82361989403521 %\n",
      "Test Accuracy of the model on the test rna: 50.5708114779389 %\n",
      "Epoch [6/10], Step [1/915], Loss: 1113.6863, Accuracy: 50.00%\n",
      "Epoch [6/10], Step [101/915], Loss: 610.4050, Accuracy: 43.75%\n",
      "Epoch [6/10], Step [201/915], Loss: 634.2862, Accuracy: 46.88%\n",
      "Epoch [6/10], Step [301/915], Loss: 407.9576, Accuracy: 68.75%\n",
      "Epoch [6/10], Step [401/915], Loss: 332.5591, Accuracy: 37.50%\n",
      "Epoch [6/10], Step [501/915], Loss: 499.4650, Accuracy: 59.38%\n",
      "Epoch [6/10], Step [601/915], Loss: 330.9128, Accuracy: 59.38%\n",
      "Epoch [6/10], Step [701/915], Loss: 272.1060, Accuracy: 43.75%\n",
      "Epoch [6/10], Step [801/915], Loss: 104.9928, Accuracy: 68.75%\n",
      "Epoch [6/10], Step [901/915], Loss: 165.1296, Accuracy: 40.62%\n",
      "Train Accuracy of the model on the train rna: 48.176380105964796 %\n",
      "Test Accuracy of the model on the test rna: 49.42918852206109 %\n",
      "Epoch [7/10], Step [1/915], Loss: 138.8181, Accuracy: 34.38%\n",
      "Epoch [7/10], Step [101/915], Loss: 81.6281, Accuracy: 43.75%\n",
      "Epoch [7/10], Step [201/915], Loss: 16.0729, Accuracy: 37.50%\n",
      "Epoch [7/10], Step [301/915], Loss: 1884.3695, Accuracy: 62.50%\n",
      "Epoch [7/10], Step [401/915], Loss: 60.2805, Accuracy: 56.25%\n",
      "Epoch [7/10], Step [501/915], Loss: 29.6266, Accuracy: 56.25%\n",
      "Epoch [7/10], Step [601/915], Loss: 120.2421, Accuracy: 37.50%\n",
      "Epoch [7/10], Step [701/915], Loss: 375.2884, Accuracy: 46.88%\n",
      "Epoch [7/10], Step [801/915], Loss: 71.0039, Accuracy: 50.00%\n",
      "Epoch [7/10], Step [901/915], Loss: 1533.4137, Accuracy: 40.62%\n",
      "Train Accuracy of the model on the train rna: 51.82361989403521 %\n",
      "Test Accuracy of the model on the test rna: 50.5708114779389 %\n",
      "Epoch [8/10], Step [1/915], Loss: 1179.0734, Accuracy: 59.38%\n",
      "Epoch [8/10], Step [101/915], Loss: 41.4624, Accuracy: 40.62%\n",
      "Epoch [8/10], Step [201/915], Loss: 94.8911, Accuracy: 56.25%\n",
      "Epoch [8/10], Step [301/915], Loss: 164.8700, Accuracy: 56.25%\n",
      "Epoch [8/10], Step [401/915], Loss: 360.9343, Accuracy: 53.12%\n",
      "Epoch [8/10], Step [501/915], Loss: 995.1186, Accuracy: 40.62%\n",
      "Epoch [8/10], Step [601/915], Loss: 18.4787, Accuracy: 50.00%\n",
      "Epoch [8/10], Step [701/915], Loss: 603.1223, Accuracy: 71.88%\n",
      "Epoch [8/10], Step [801/915], Loss: 218.8001, Accuracy: 62.50%\n",
      "Epoch [8/10], Step [901/915], Loss: 128.6824, Accuracy: 50.00%\n",
      "Train Accuracy of the model on the train rna: 51.82361989403521 %\n",
      "Test Accuracy of the model on the test rna: 50.5708114779389 %\n",
      "Epoch [9/10], Step [1/915], Loss: 51.5511, Accuracy: 65.62%\n",
      "Epoch [9/10], Step [101/915], Loss: 3227.3276, Accuracy: 56.25%\n",
      "Epoch [9/10], Step [201/915], Loss: 131.1648, Accuracy: 62.50%\n",
      "Epoch [9/10], Step [301/915], Loss: 2604.5830, Accuracy: 53.12%\n",
      "Epoch [9/10], Step [401/915], Loss: 773.2066, Accuracy: 56.25%\n",
      "Epoch [9/10], Step [501/915], Loss: 98.9918, Accuracy: 40.62%\n",
      "Epoch [9/10], Step [601/915], Loss: 19.2497, Accuracy: 53.12%\n",
      "Epoch [9/10], Step [701/915], Loss: 23.0729, Accuracy: 62.50%\n",
      "Epoch [9/10], Step [801/915], Loss: 217.4219, Accuracy: 40.62%\n",
      "Epoch [9/10], Step [901/915], Loss: 244.3272, Accuracy: 34.38%\n",
      "Train Accuracy of the model on the train rna: 48.176380105964796 %\n",
      "Test Accuracy of the model on the test rna: 49.42918852206109 %\n",
      "Epoch [10/10], Step [1/915], Loss: 94.0995, Accuracy: 37.50%\n",
      "Epoch [10/10], Step [101/915], Loss: 18.7710, Accuracy: 40.62%\n",
      "Epoch [10/10], Step [201/915], Loss: 43.2704, Accuracy: 53.12%\n",
      "Epoch [10/10], Step [301/915], Loss: 250.5784, Accuracy: 43.75%\n",
      "Epoch [10/10], Step [401/915], Loss: 8.7426, Accuracy: 46.88%\n",
      "Epoch [10/10], Step [501/915], Loss: 24.0675, Accuracy: 43.75%\n",
      "Epoch [10/10], Step [601/915], Loss: 20.2431, Accuracy: 65.62%\n",
      "Epoch [10/10], Step [701/915], Loss: 559.9044, Accuracy: 46.88%\n",
      "Epoch [10/10], Step [801/915], Loss: 256.1958, Accuracy: 50.00%\n",
      "Epoch [10/10], Step [901/915], Loss: 135.5487, Accuracy: 59.38%\n",
      "Train Accuracy of the model on the train rna: 48.176380105964796 %\n",
      "Test Accuracy of the model on the test rna: 49.42918852206109 %\n"
     ]
    }
   ],
   "source": [
    "train_losses = []\n",
    "train_acc = []\n",
    "test_acc = []\n",
    "train(cnntrans)"
   ]
  },
  {
   "cell_type": "code",
   "execution_count": 16,
   "metadata": {},
   "outputs": [
    {
     "data": {
      "image/png": "[encoded data removed]",
      "text/plain": [
       "<Figure size 432x288 with 1 Axes>"
      ]
     },
     "metadata": {
      "needs_background": "light"
     },
     "output_type": "display_data"
    }
   ],
   "source": [
    "plt.plot(train_losses[200:], label='Training loss')\n",
    "plt.plot(train_acc[200:], label='Training accuracy')\n",
    "plt.legend()\n",
    "plt.show()"
   ]
  },
  {
   "cell_type": "code",
   "execution_count": 17,
   "metadata": {},
   "outputs": [
    {
     "name": "stderr",
     "output_type": "stream",
     "text": [
      "No handles with labels found to put in legend.\n"
     ]
    },
    {
     "data": {
      "image/png": "[encoded data removed]",
      "text/plain": [
       "<Figure size 432x288 with 1 Axes>"
      ]
     },
     "metadata": {
      "needs_background": "light"
     },
     "output_type": "display_data"
    }
   ],
   "source": [
    "\n",
    "#plt.plot(train_acc[200:], label='Training accuracy')\n",
    "plt.legend()\n",
    "plt.show()"
   ]
  },
  {
   "cell_type": "code",
   "execution_count": 18,
   "metadata": {},
   "outputs": [
    {
     "ename": "NameError",
     "evalue": "name 'model' is not defined",
     "output_type": "error",
     "traceback": [
      "\u001b[1;31m---------------------------------------------------------------------------\u001b[0m",
      "\u001b[1;31mNameError\u001b[0m                                 Traceback (most recent call last)",
      "\u001b[1;32m<ipython-input-18-bd31bee9d1a7>\u001b[0m in \u001b[0;36m<module>\u001b[1;34m\u001b[0m\n\u001b[0;32m      1\u001b[0m \u001b[1;31m# Save the model and plot\u001b[0m\u001b[1;33m\u001b[0m\u001b[1;33m\u001b[0m\u001b[1;33m\u001b[0m\u001b[0m\n\u001b[1;32m----> 2\u001b[1;33m \u001b[0mtorch\u001b[0m\u001b[1;33m.\u001b[0m\u001b[0msave\u001b[0m\u001b[1;33m(\u001b[0m\u001b[0mmodel\u001b[0m\u001b[1;33m.\u001b[0m\u001b[0mstate_dict\u001b[0m\u001b[1;33m(\u001b[0m\u001b[1;33m)\u001b[0m\u001b[1;33m,\u001b[0m \u001b[0mMODEL_STORE_PATH\u001b[0m \u001b[1;33m+\u001b[0m \u001b[1;34m'conv_net_model.ckpt'\u001b[0m\u001b[1;33m)\u001b[0m\u001b[1;33m\u001b[0m\u001b[1;33m\u001b[0m\u001b[0m\n\u001b[0m",
      "\u001b[1;31mNameError\u001b[0m: name 'model' is not defined"
     ]
    }
   ],
   "source": [
    "# Save the model and plot\n",
    "torch.save(model.state_dict(), MODEL_STORE_PATH + 'conv_net_model.ckpt')"
   ]
  },
  {
   "cell_type": "code",
   "execution_count": null,
   "metadata": {},
   "outputs": [],
   "source": []
  }
 ],
 "metadata": {
  "kernelspec": {
   "display_name": "Python 3",
   "language": "python",
   "name": "python3"
  },
  "language_info": {
   "codemirror_mode": {
    "name": "ipython",
    "version": 3
   },
   "file_extension": ".py",
   "mimetype": "text/x-python",
   "name": "python",
   "nbconvert_exporter": "python",
   "pygments_lexer": "ipython3",
   "version": "3.8.3"
  }
 },
 "nbformat": 4,
 "nbformat_minor": 2
}
