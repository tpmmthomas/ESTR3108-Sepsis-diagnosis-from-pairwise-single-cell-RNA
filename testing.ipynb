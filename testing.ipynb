{
 "cells": [
  {
   "cell_type": "code",
   "execution_count": 1,
   "metadata": {},
   "outputs": [],
   "source": [
    "import numpy as np\n",
    "import pandas as pd\n",
    "import scipy.stats as stats\n",
    "from sklearn.multiclass import OneVsRestClassifier\n",
    "from sklearn.svm import SVC \n",
    "from sklearn.model_selection import train_test_split\n",
    "import gzip\n",
    "import csv "
   ]
  },
  {
   "cell_type": "code",
   "execution_count": 6,
   "metadata": {},
   "outputs": [
    {
     "name": "stdout",
     "output_type": "stream",
     "text": [
      "           GENE  AAACCTGAGACGCTTT-1  AAACCTGAGCAATCTC-1  AAACCTGAGTTTAGGA-1  \\\n",
      "0  RP11-34P13.7                 0.0                 0.0                 0.0   \n",
      "1  RP11-34P13.8                 0.0                 0.0                 0.0   \n",
      "\n",
      "   AAACCTGCAAAGTGCG-1  AAACCTGCAAGTACCT-1  AAACCTGCACGAAATA-1  \\\n",
      "0                 0.0                 0.0                 0.0   \n",
      "1                 0.0                 0.0                 0.0   \n",
      "\n",
      "   AAACCTGCAGACGCAA-1  AAACCTGCAGGACCCT-1  AAACCTGCAGGGTATG-1  ...  \\\n",
      "0                 0.0                 0.0                 0.0  ...   \n",
      "1                 0.0                 0.0                 0.0  ...   \n",
      "\n",
      "   TTTCCTCAGGATCGCA-35  TTTCCTCCAGTTTACG-35  TTTGCGCAGATATACG-35  \\\n",
      "0                  0.0                  0.0                  0.0   \n",
      "1                  0.0                  0.0                  0.0   \n",
      "\n",
      "   TTTGCGCTCGCCGTGA-35  TTTGGTTGTTTGTGTG-35  TTTGTCAAGAGGGCTT-35  \\\n",
      "0                  0.0                  0.0                  0.0   \n",
      "1                  0.0                  0.0                  0.0   \n",
      "\n",
      "   TTTGTCAAGTGCTGCC-35  TTTGTCAAGTGTTTGC-35  TTTGTCACAGCTTAAC-35  \\\n",
      "0                  0.0                  0.0                  0.0   \n",
      "1                  0.0                  0.0                  0.0   \n",
      "\n",
      "   TTTGTCAGTTATGCGT-35  \n",
      "0                  0.0  \n",
      "1                  0.0  \n",
      "\n",
      "[2 rows x 122558 columns]\n"
     ]
    }
   ],
   "source": [
    "basic = r\"data/scp_gex_matrix.csv.gz\"\n",
    "\n",
    "\n",
    "\n",
    "x = pd.read_csv(basic,compression =\"gzip\", nrows = 2)\n",
    "print(x)"
   ]
  },
  {
   "cell_type": "code",
   "execution_count": 40,
   "metadata": {},
   "outputs": [
    {
     "data": {
      "text/plain": [
       "array([0, 1], dtype=int64)"
      ]
     },
     "execution_count": 40,
     "metadata": {},
     "output_type": "execute_result"
    }
   ],
   "source": [
    "ok = np.array(['AAACCTGAGACGCTTT-1','AAACCTGAGACGCTTT-1'])\n",
    "idx = np.where(ok == 'AAACCTGAGACGCTTT-1' )\n",
    "idx[0]"
   ]
  }
 ],
 "metadata": {
  "kernelspec": {
   "display_name": "Python 3",
   "language": "python",
   "name": "python3"
  },
  "language_info": {
   "codemirror_mode": {
    "name": "ipython",
    "version": 3
   },
   "file_extension": ".py",
   "mimetype": "text/x-python",
   "name": "python",
   "nbconvert_exporter": "python",
   "pygments_lexer": "ipython3",
   "version": "3.8.3"
  }
 },
 "nbformat": 4,
 "nbformat_minor": 4
}
