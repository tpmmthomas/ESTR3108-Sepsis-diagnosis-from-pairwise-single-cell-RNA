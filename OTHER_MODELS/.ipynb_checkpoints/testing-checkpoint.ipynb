{
 "cells": [
  {
   "cell_type": "code",
   "execution_count": 1,
   "metadata": {},
   "outputs": [],
   "source": [
    "import numpy as np\n",
    "import pandas as pd\n",
    "import scipy.stats as stats\n",
    "from sklearn.multiclass import OneVsRestClassifier\n",
    "from sklearn.svm import SVC \n",
    "from sklearn.model_selection import train_test_split\n",
    "import gzip\n",
    "import csv "
   ]
  },
  {
   "cell_type": "code",
   "execution_count": 5,
   "metadata": {},
   "outputs": [
    {
     "name": "stdout",
     "output_type": "stream",
     "text": [
      "                                0             1\n",
      "GENE                 RP11-34P13.7  RP11-34P13.8\n",
      "AAACCTGAGACGCTTT-1              0             0\n",
      "AAACCTGAGCAATCTC-1              0             0\n",
      "AAACCTGAGTTTAGGA-1              0             0\n",
      "AAACCTGCAAAGTGCG-1              0             0\n",
      "...                           ...           ...\n",
      "TTTGTCAAGAGGGCTT-35             0             0\n",
      "TTTGTCAAGTGCTGCC-35             0             0\n",
      "TTTGTCAAGTGTTTGC-35             0             0\n",
      "TTTGTCACAGCTTAAC-35             0             0\n",
      "TTTGTCAGTTATGCGT-35             0             0\n",
      "\n",
      "[122558 rows x 2 columns]\n"
     ]
    }
   ],
   "source": [
    "basic = r\"../data/scp_gex_matrix.csv.gz\"\n",
    "\n",
    "\n",
    "\n",
    "x = pd.read_csv(basic,compression =\"gzip\",nrows=2)\n",
    "x = x.T\n",
    "y = x.values\n",
    "print()"
   ]
  },
  {
   "cell_type": "code",
   "execution_count": 37,
   "metadata": {},
   "outputs": [
    {
     "data": {
      "text/html": [
       "<div>\n",
       "<style scoped>\n",
       "    .dataframe tbody tr th:only-of-type {\n",
       "        vertical-align: middle;\n",
       "    }\n",
       "\n",
       "    .dataframe tbody tr th {\n",
       "        vertical-align: top;\n",
       "    }\n",
       "\n",
       "    .dataframe thead th {\n",
       "        text-align: right;\n",
       "    }\n",
       "</style>\n",
       "<table border=\"1\" class=\"dataframe\">\n",
       "  <thead>\n",
       "    <tr style=\"text-align: right;\">\n",
       "      <th></th>\n",
       "      <th>GENE</th>\n",
       "    </tr>\n",
       "  </thead>\n",
       "  <tbody>\n",
       "    <tr>\n",
       "      <th>1964</th>\n",
       "      <td>FCMR</td>\n",
       "    </tr>\n",
       "  </tbody>\n",
       "</table>\n",
       "</div>"
      ],
      "text/plain": [
       "      GENE\n",
       "1964  FCMR"
      ]
     },
     "execution_count": 37,
     "metadata": {},
     "output_type": "execute_result"
    }
   ],
   "source": [
    "x.loc[x[\"GENE\"]==\"FCMR\"]"
   ]
  }
 ],
 "metadata": {
  "kernelspec": {
   "display_name": "Python 3",
   "language": "python",
   "name": "python3"
  },
  "language_info": {
   "codemirror_mode": {
    "name": "ipython",
    "version": 3
   },
   "file_extension": ".py",
   "mimetype": "text/x-python",
   "name": "python",
   "nbconvert_exporter": "python",
   "pygments_lexer": "ipython3",
   "version": "3.8.5"
  }
 },
 "nbformat": 4,
 "nbformat_minor": 4
}
