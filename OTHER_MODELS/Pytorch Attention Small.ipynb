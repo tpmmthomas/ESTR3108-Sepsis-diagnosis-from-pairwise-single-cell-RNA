{
 "cells": [
  {
   "cell_type": "code",
   "execution_count": 1,
   "metadata": {},
   "outputs": [],
   "source": [
    "# importing the libraries\n",
    "import pandas as pd\n",
    "import numpy as np\n",
    "import os\n",
    "import skorch\n",
    "\n",
    "# for reading and displaying images\n",
    "from skimage.io import imread\n",
    "import matplotlib.pyplot as plt\n",
    "%matplotlib inline\n",
    "\n",
    "# for creating validation set\n",
    "from sklearn.model_selection import train_test_split\n",
    "\n",
    "# for evaluating the model\n",
    "from sklearn.metrics import accuracy_score\n",
    "from tqdm import tqdm\n",
    "\n",
    "# PyTorch libraries and modules\n",
    "import torch\n",
    "from torch.autograd import Variable\n",
    "import torch.nn as nn\n",
    "from torch.optim import Adam, SGD\n",
    "from torch.utils.data import Dataset, DataLoader\n",
    "\n",
    "from sklearn.metrics import *\n",
    "#Transformers\n",
    "from module import *"
   ]
  },
  {
   "cell_type": "code",
   "execution_count": 2,
   "metadata": {},
   "outputs": [],
   "source": [
    "# Load training data set (small amount to test if it works first)\n",
    "\n",
    "xtrain = r\"data/training_sample_NoSparse.csv.gz\"\n",
    "ytrain = r\"data/training_label_NoSparse.csv.gz\"\n",
    "xtest = r\"data/testing_sample_NoSparse.csv.gz\"\n",
    "ytest = r\"data/testing_label_NoSparse.csv.gz\"\n"
   ]
  },
  {
   "cell_type": "code",
   "execution_count": 3,
   "metadata": {},
   "outputs": [
    {
     "data": {
      "text/plain": [
       "(15161, 14094)"
      ]
     },
     "execution_count": 3,
     "metadata": {},
     "output_type": "execute_result"
    }
   ],
   "source": [
    "#check balance\n",
    "samplesdf = pd.DataFrame()\n",
    "for df in  pd.read_csv(ytrain,compression =\"gzip\",delimiter=',', chunksize = 10000, header=0):\n",
    "    samplesdf = samplesdf.append(df)\n",
    "y_train = samplesdf.to_numpy()\n",
    "\n",
    "num0 = 0\n",
    "num1 = 0\n",
    "for x in y_train:\n",
    "    if x == 0:\n",
    "        num0 = num0 + 1\n",
    "    else:\n",
    "        num1 = num1 + 1\n",
    "num0,num1 #checking if it is balanced"
   ]
  },
  {
   "cell_type": "code",
   "execution_count": 4,
   "metadata": {
    "scrolled": true
   },
   "outputs": [
    {
     "name": "stdout",
     "output_type": "stream",
     "text": [
      "(1, 3273)\n"
     ]
    }
   ],
   "source": [
    "df = pd.read_csv(xtrain,compression =\"gzip\",delimiter=',',nrows=1, header=0)\n",
    "x_train = df.to_numpy()\n",
    "print(x_train.shape)"
   ]
  },
  {
   "cell_type": "code",
   "execution_count": 5,
   "metadata": {},
   "outputs": [],
   "source": [
    "class Dataset(Dataset):\n",
    "\n",
    "    def __init__(self,samples,labels):\n",
    "\n",
    "        self.data = pd.read_csv(samples,compression =\"gzip\",delimiter=',', header=0)\n",
    "        self.label = pd.read_csv(labels,compression =\"gzip\",delimiter=',', header=0)\n",
    "        \n",
    "    def __len__(self):\n",
    "        return len(self.data)\n",
    "\n",
    "    def __getitem__(self, idx):\n",
    "        if torch.is_tensor(idx):\n",
    "            idx = idx.tolist()\n",
    "\n",
    "        rna = self.data.iloc[idx]\n",
    "        seplb = self.label.iloc[idx]\n",
    "        rna = np.array([rna])\n",
    "        seplb = np.array([seplb])\n",
    "        rna = rna.astype('double').reshape(-1,3273)\n",
    "        i = 0\n",
    "        d = np.zeros((len(seplb),2))\n",
    "        for x in seplb:\n",
    "            if x == 0:\n",
    "                d[i] = [1,0]\n",
    "            else:\n",
    "                d[i] = [0,1]\n",
    "        sample = {'rna': rna, 'label': d}\n",
    "\n",
    "        return sample"
   ]
  },
  {
   "cell_type": "code",
   "execution_count": 6,
   "metadata": {},
   "outputs": [],
   "source": [
    "train_dataset = Dataset(samples=xtrain,labels=ytrain)\n",
    "test_dataset = Dataset(samples = xtest,labels = ytest)"
   ]
  },
  {
   "cell_type": "code",
   "execution_count": 7,
   "metadata": {},
   "outputs": [],
   "source": [
    "# Hyper Parameters\n",
    "EPOCH = 20             # train the training data n times, to save time, we just train 1 epoch\n",
    "LR = 0.0001              # learning rate\n",
    "batch_size = 32\n",
    "wd = LR / EPOCH"
   ]
  },
  {
   "cell_type": "code",
   "execution_count": 8,
   "metadata": {},
   "outputs": [],
   "source": [
    "train_loader = DataLoader(dataset=train_dataset, batch_size=batch_size, shuffle=True)\n",
    "test_loader = DataLoader(dataset=test_dataset, batch_size=batch_size, shuffle=False)"
   ]
  },
  {
   "cell_type": "code",
   "execution_count": 9,
   "metadata": {},
   "outputs": [],
   "source": [
    "class SmallSetTransformer(nn.Module):\n",
    "    def __init__(self,):\n",
    "        super().__init__()\n",
    "        self.enc = nn.Sequential(\n",
    "            SAB(dim_in=3273, dim_out=256, num_heads=4),\n",
    "            SAB(dim_in=256, dim_out=256, num_heads=4),\n",
    "        )\n",
    "        self.dec = nn.Sequential(\n",
    "            PMA(dim=256, num_heads=4, num_seeds=1),\n",
    "            nn.Dropout(p=0.2),\n",
    "            nn.Linear(in_features=256, out_features=2),\n",
    "        )\n",
    "\n",
    "    def forward(self, x):\n",
    "        x = self.enc(x)\n",
    "        x = self.dec(x)\n",
    "        return x.squeeze(-1)"
   ]
  },
  {
   "cell_type": "code",
   "execution_count": 10,
   "metadata": {},
   "outputs": [
    {
     "name": "stdout",
     "output_type": "stream",
     "text": [
      "SmallSetTransformer(\n",
      "  (enc): Sequential(\n",
      "    (0): SAB(\n",
      "      (mab): MAB(\n",
      "        (fc_q): Linear(in_features=3273, out_features=256, bias=True)\n",
      "        (fc_k): Linear(in_features=3273, out_features=256, bias=True)\n",
      "        (fc_v): Linear(in_features=3273, out_features=256, bias=True)\n",
      "        (fc_o): Linear(in_features=256, out_features=256, bias=True)\n",
      "      )\n",
      "    )\n",
      "    (1): SAB(\n",
      "      (mab): MAB(\n",
      "        (fc_q): Linear(in_features=256, out_features=256, bias=True)\n",
      "        (fc_k): Linear(in_features=256, out_features=256, bias=True)\n",
      "        (fc_v): Linear(in_features=256, out_features=256, bias=True)\n",
      "        (fc_o): Linear(in_features=256, out_features=256, bias=True)\n",
      "      )\n",
      "    )\n",
      "  )\n",
      "  (dec): Sequential(\n",
      "    (0): PMA(\n",
      "      (mab): MAB(\n",
      "        (fc_q): Linear(in_features=256, out_features=256, bias=True)\n",
      "        (fc_k): Linear(in_features=256, out_features=256, bias=True)\n",
      "        (fc_v): Linear(in_features=256, out_features=256, bias=True)\n",
      "        (fc_o): Linear(in_features=256, out_features=256, bias=True)\n",
      "      )\n",
      "    )\n",
      "    (1): Dropout(p=0.2, inplace=False)\n",
      "    (2): Linear(in_features=256, out_features=2, bias=True)\n",
      "  )\n",
      ")\n"
     ]
    }
   ],
   "source": [
    "trans = SmallSetTransformer()\n",
    "optimizer = torch.optim.Adam(trans.parameters(), lr=LR)   \n",
    "loss_func = nn.L1Loss()                      \n",
    "if torch.cuda.is_available():\n",
    "    loss_func = loss_func.cuda()\n",
    "    trans = trans.cuda()\n",
    "trans = trans.double()\n",
    "print(trans)"
   ]
  },
  {
   "cell_type": "code",
   "execution_count": 11,
   "metadata": {},
   "outputs": [],
   "source": [
    "def test(model):\n",
    "    model.eval()\n",
    "    with torch.no_grad():\n",
    "        correct = 0\n",
    "        total = 0\n",
    "        for batch in train_loader:\n",
    "            rna,labels = batch[\"rna\"], batch[\"label\"] \n",
    "            if torch.cuda.is_available():\n",
    "                rna = rna.cuda()\n",
    "                labels = labels.cuda()\n",
    "            labels = labels.reshape(-1,2)\n",
    "            outputs = model(rna)\n",
    "            outputs = outputs.reshape(-1,2)\n",
    "            _, predicted = torch.max(outputs.data, 1)\n",
    "            _, labels = torch.max(labels.data, 1)\n",
    "            total += labels.size(0)\n",
    "            correct += (predicted == labels).sum().item()\n",
    "        TrainaccTest.append(correct/total)\n",
    "           # print(total,correct)\n",
    "\n",
    "        print('Train Accuracy of the model on the train rna: {} %'.format((correct / total) * 100))\n",
    "    with torch.no_grad():\n",
    "        correct = 0\n",
    "        total = 0\n",
    "        for batch in test_loader:\n",
    "            rna,labels = batch[\"rna\"], batch[\"label\"] \n",
    "            if torch.cuda.is_available():\n",
    "                rna = rna.cuda()\n",
    "                labels = labels.cuda()\n",
    "            labels = labels.reshape(-1,2)\n",
    "            outputs = model(rna)\n",
    "            outputs = outputs.reshape(-1,2)\n",
    "            _, predicted = torch.max(outputs.data, 1)\n",
    "            _, labels = torch.max(labels.data, 1)\n",
    "            total += labels.size(0)\n",
    "            correct += (predicted == labels).sum().item()\n",
    "        TestaccTest.append(correct/total)\n",
    "    #print(total,correct)\n",
    "\n",
    "        print('Test Accuracy of the model on the test rna: {} %'.format((correct / total) * 100))\n",
    "\n"
   ]
  },
  {
   "cell_type": "code",
   "execution_count": 12,
   "metadata": {
    "scrolled": false
   },
   "outputs": [],
   "source": [
    "def train(model): \n",
    "    total_step = len(train_loader)\n",
    "    num_epoch = EPOCH\n",
    "    for epoch in range(num_epoch):\n",
    "        model.train()\n",
    "        for i, batch in enumerate(train_loader):\n",
    "            # Run the forward pass\n",
    "            rna,labels = batch[\"rna\"], batch[\"label\"] \n",
    "            if torch.cuda.is_available():\n",
    "                rna = rna.cuda()\n",
    "                labels = labels.cuda()\n",
    "            outputs = model(rna)\n",
    "            labels = labels.long()\n",
    "            #print(outputs)\n",
    "            outputs = outputs.reshape(-1,2)\n",
    "            labels = labels.reshape(-1,2)\n",
    "            loss = loss_func(outputs, labels)\n",
    "            train_losses.append(loss.item())\n",
    "\n",
    "            # Backprop and perform Adam optimisation\n",
    "            optimizer.zero_grad()\n",
    "            loss.backward()\n",
    "            optimizer.step()\n",
    "\n",
    "            # Track the accuracy\n",
    "            total = labels.size(0)\n",
    "            _, predicted = torch.max(outputs.data, 1)\n",
    "            _, labels = torch.max(labels.data, 1)\n",
    "            correct = (predicted == labels).sum().item()\n",
    "            train_acc.append(correct / total)\n",
    "            if i % 100 == 0:\n",
    "                print('Epoch [{}/{}], Step [{}/{}], Loss: {:.4f}, Accuracy: {:.2f}%'\n",
    "                        .format(epoch + 1, num_epoch , i + 1, total_step, loss.item(),\n",
    "                                (correct / total) * 100))\n",
    "        test(model)"
   ]
  },
  {
   "cell_type": "code",
   "execution_count": 13,
   "metadata": {},
   "outputs": [
    {
     "name": "stdout",
     "output_type": "stream",
     "text": [
      "Epoch [1/20], Step [1/915], Loss: 0.4941, Accuracy: 59.38%\n",
      "Epoch [1/20], Step [101/915], Loss: 0.4006, Accuracy: 68.75%\n",
      "Epoch [1/20], Step [201/915], Loss: 0.3723, Accuracy: 71.88%\n",
      "Epoch [1/20], Step [301/915], Loss: 0.4313, Accuracy: 62.50%\n",
      "Epoch [1/20], Step [401/915], Loss: 0.4266, Accuracy: 71.88%\n",
      "Epoch [1/20], Step [501/915], Loss: 0.3165, Accuracy: 87.50%\n",
      "Epoch [1/20], Step [601/915], Loss: 0.3865, Accuracy: 71.88%\n",
      "Epoch [1/20], Step [701/915], Loss: 0.3796, Accuracy: 65.62%\n",
      "Epoch [1/20], Step [801/915], Loss: 0.2463, Accuracy: 90.62%\n",
      "Epoch [1/20], Step [901/915], Loss: 0.3455, Accuracy: 75.00%\n",
      "Train Accuracy of the model on the train rna: 79.56588617330371 %\n",
      "Test Accuracy of the model on the test rna: 75.84078987966677 %\n",
      "Epoch [2/20], Step [1/915], Loss: 0.2726, Accuracy: 87.50%\n",
      "Epoch [2/20], Step [101/915], Loss: 0.3494, Accuracy: 81.25%\n",
      "Epoch [2/20], Step [201/915], Loss: 0.3171, Accuracy: 78.12%\n",
      "Epoch [2/20], Step [301/915], Loss: 0.3462, Accuracy: 75.00%\n",
      "Epoch [2/20], Step [401/915], Loss: 0.2077, Accuracy: 90.62%\n",
      "Epoch [2/20], Step [501/915], Loss: 0.3179, Accuracy: 81.25%\n",
      "Epoch [2/20], Step [601/915], Loss: 0.2826, Accuracy: 84.38%\n",
      "Epoch [2/20], Step [701/915], Loss: 0.1506, Accuracy: 96.88%\n",
      "Epoch [2/20], Step [801/915], Loss: 0.1601, Accuracy: 93.75%\n",
      "Epoch [2/20], Step [901/915], Loss: 0.2256, Accuracy: 87.50%\n",
      "Train Accuracy of the model on the train rna: 85.4452230387968 %\n",
      "Test Accuracy of the model on the test rna: 81.14779389077445 %\n",
      "Epoch [3/20], Step [1/915], Loss: 0.2657, Accuracy: 75.00%\n",
      "Epoch [3/20], Step [101/915], Loss: 0.2011, Accuracy: 90.62%\n",
      "Epoch [3/20], Step [201/915], Loss: 0.2212, Accuracy: 87.50%\n",
      "Epoch [3/20], Step [301/915], Loss: 0.2324, Accuracy: 87.50%\n",
      "Epoch [3/20], Step [401/915], Loss: 0.1900, Accuracy: 90.62%\n",
      "Epoch [3/20], Step [501/915], Loss: 0.2194, Accuracy: 87.50%\n",
      "Epoch [3/20], Step [601/915], Loss: 0.1950, Accuracy: 90.62%\n",
      "Epoch [3/20], Step [701/915], Loss: 0.2136, Accuracy: 84.38%\n",
      "Epoch [3/20], Step [801/915], Loss: 0.2600, Accuracy: 78.12%\n",
      "Epoch [3/20], Step [901/915], Loss: 0.1930, Accuracy: 87.50%\n",
      "Train Accuracy of the model on the train rna: 88.67885831481797 %\n",
      "Test Accuracy of the model on the test rna: 82.65967294045048 %\n",
      "Epoch [4/20], Step [1/915], Loss: 0.2110, Accuracy: 87.50%\n",
      "Epoch [4/20], Step [101/915], Loss: 0.1966, Accuracy: 87.50%\n",
      "Epoch [4/20], Step [201/915], Loss: 0.1657, Accuracy: 90.62%\n",
      "Epoch [4/20], Step [301/915], Loss: 0.2073, Accuracy: 84.38%\n",
      "Epoch [4/20], Step [401/915], Loss: 0.1946, Accuracy: 87.50%\n",
      "Epoch [4/20], Step [501/915], Loss: 0.2965, Accuracy: 81.25%\n",
      "Epoch [4/20], Step [601/915], Loss: 0.1550, Accuracy: 90.62%\n",
      "Epoch [4/20], Step [701/915], Loss: 0.1264, Accuracy: 93.75%\n",
      "Epoch [4/20], Step [801/915], Loss: 0.1762, Accuracy: 87.50%\n",
      "Epoch [4/20], Step [901/915], Loss: 0.2182, Accuracy: 84.38%\n",
      "Train Accuracy of the model on the train rna: 91.17074004443685 %\n",
      "Test Accuracy of the model on the test rna: 83.64702252391237 %\n",
      "Epoch [5/20], Step [1/915], Loss: 0.1717, Accuracy: 90.62%\n",
      "Epoch [5/20], Step [101/915], Loss: 0.1869, Accuracy: 84.38%\n",
      "Epoch [5/20], Step [201/915], Loss: 0.1982, Accuracy: 81.25%\n",
      "Epoch [5/20], Step [301/915], Loss: 0.1203, Accuracy: 93.75%\n",
      "Epoch [5/20], Step [401/915], Loss: 0.1936, Accuracy: 87.50%\n",
      "Epoch [5/20], Step [501/915], Loss: 0.1584, Accuracy: 87.50%\n",
      "Epoch [5/20], Step [601/915], Loss: 0.2528, Accuracy: 81.25%\n",
      "Epoch [5/20], Step [701/915], Loss: 0.2498, Accuracy: 71.88%\n",
      "Epoch [5/20], Step [801/915], Loss: 0.2062, Accuracy: 84.38%\n",
      "Epoch [5/20], Step [901/915], Loss: 0.0858, Accuracy: 96.88%\n",
      "Train Accuracy of the model on the train rna: 90.48025978465219 %\n",
      "Test Accuracy of the model on the test rna: 82.72138228941685 %\n",
      "Epoch [6/20], Step [1/915], Loss: 0.1373, Accuracy: 90.62%\n",
      "Epoch [6/20], Step [101/915], Loss: 0.1194, Accuracy: 96.88%\n",
      "Epoch [6/20], Step [201/915], Loss: 0.1908, Accuracy: 81.25%\n",
      "Epoch [6/20], Step [301/915], Loss: 0.1057, Accuracy: 93.75%\n",
      "Epoch [6/20], Step [401/915], Loss: 0.1729, Accuracy: 84.38%\n",
      "Epoch [6/20], Step [501/915], Loss: 0.1178, Accuracy: 93.75%\n",
      "Epoch [6/20], Step [601/915], Loss: 0.1395, Accuracy: 93.75%\n",
      "Epoch [6/20], Step [701/915], Loss: 0.1036, Accuracy: 93.75%\n",
      "Epoch [6/20], Step [801/915], Loss: 0.1930, Accuracy: 87.50%\n",
      "Epoch [6/20], Step [901/915], Loss: 0.0731, Accuracy: 100.00%\n",
      "Train Accuracy of the model on the train rna: 91.73474619723125 %\n",
      "Test Accuracy of the model on the test rna: 83.4001851280469 %\n",
      "Epoch [7/20], Step [1/915], Loss: 0.1063, Accuracy: 93.75%\n",
      "Epoch [7/20], Step [101/915], Loss: 0.0420, Accuracy: 100.00%\n",
      "Epoch [7/20], Step [201/915], Loss: 0.0553, Accuracy: 100.00%\n",
      "Epoch [7/20], Step [301/915], Loss: 0.1224, Accuracy: 93.75%\n",
      "Epoch [7/20], Step [401/915], Loss: 0.1100, Accuracy: 93.75%\n",
      "Epoch [7/20], Step [501/915], Loss: 0.1961, Accuracy: 81.25%\n",
      "Epoch [7/20], Step [601/915], Loss: 0.0441, Accuracy: 100.00%\n",
      "Epoch [7/20], Step [701/915], Loss: 0.1810, Accuracy: 84.38%\n",
      "Epoch [7/20], Step [801/915], Loss: 0.0878, Accuracy: 96.88%\n",
      "Epoch [7/20], Step [901/915], Loss: 0.0880, Accuracy: 93.75%\n",
      "Train Accuracy of the model on the train rna: 94.31550162365407 %\n",
      "Test Accuracy of the model on the test rna: 85.28232027152114 %\n",
      "Epoch [8/20], Step [1/915], Loss: 0.1446, Accuracy: 87.50%\n",
      "Epoch [8/20], Step [101/915], Loss: 0.1773, Accuracy: 84.38%\n",
      "Epoch [8/20], Step [201/915], Loss: 0.1672, Accuracy: 87.50%\n",
      "Epoch [8/20], Step [301/915], Loss: 0.0706, Accuracy: 96.88%\n",
      "Epoch [8/20], Step [401/915], Loss: 0.0785, Accuracy: 93.75%\n",
      "Epoch [8/20], Step [501/915], Loss: 0.1002, Accuracy: 93.75%\n",
      "Epoch [8/20], Step [601/915], Loss: 0.1184, Accuracy: 90.62%\n",
      "Epoch [8/20], Step [701/915], Loss: 0.1531, Accuracy: 87.50%\n",
      "Epoch [8/20], Step [801/915], Loss: 0.0963, Accuracy: 93.75%\n",
      "Epoch [8/20], Step [901/915], Loss: 0.1303, Accuracy: 87.50%\n",
      "Train Accuracy of the model on the train rna: 94.47957614083063 %\n",
      "Test Accuracy of the model on the test rna: 85.49830299290343 %\n",
      "Epoch [9/20], Step [1/915], Loss: 0.1365, Accuracy: 90.62%\n",
      "Epoch [9/20], Step [101/915], Loss: 0.0279, Accuracy: 100.00%\n",
      "Epoch [9/20], Step [201/915], Loss: 0.0828, Accuracy: 96.88%\n",
      "Epoch [9/20], Step [301/915], Loss: 0.0331, Accuracy: 100.00%\n",
      "Epoch [9/20], Step [401/915], Loss: 0.1494, Accuracy: 87.50%\n",
      "Epoch [9/20], Step [501/915], Loss: 0.0522, Accuracy: 96.88%\n",
      "Epoch [9/20], Step [601/915], Loss: 0.1088, Accuracy: 90.62%\n",
      "Epoch [9/20], Step [701/915], Loss: 0.1258, Accuracy: 87.50%\n",
      "Epoch [9/20], Step [801/915], Loss: 0.1131, Accuracy: 90.62%\n",
      "Epoch [9/20], Step [901/915], Loss: 0.0561, Accuracy: 100.00%\n",
      "Train Accuracy of the model on the train rna: 94.78037942232098 %\n",
      "Test Accuracy of the model on the test rna: 84.88120950323975 %\n",
      "Epoch [10/20], Step [1/915], Loss: 0.0537, Accuracy: 96.88%\n",
      "Epoch [10/20], Step [101/915], Loss: 0.0362, Accuracy: 100.00%\n",
      "Epoch [10/20], Step [201/915], Loss: 0.0946, Accuracy: 93.75%\n",
      "Epoch [10/20], Step [301/915], Loss: 0.0990, Accuracy: 93.75%\n",
      "Epoch [10/20], Step [401/915], Loss: 0.0581, Accuracy: 96.88%\n",
      "Epoch [10/20], Step [501/915], Loss: 0.0363, Accuracy: 100.00%\n",
      "Epoch [10/20], Step [601/915], Loss: 0.1128, Accuracy: 87.50%\n",
      "Epoch [10/20], Step [701/915], Loss: 0.0598, Accuracy: 96.88%\n",
      "Epoch [10/20], Step [801/915], Loss: 0.1621, Accuracy: 87.50%\n",
      "Epoch [10/20], Step [901/915], Loss: 0.1492, Accuracy: 87.50%\n",
      "Train Accuracy of the model on the train rna: 93.91898820714408 %\n",
      "Test Accuracy of the model on the test rna: 84.1715519901265 %\n",
      "Epoch [11/20], Step [1/915], Loss: 0.0668, Accuracy: 96.88%\n",
      "Epoch [11/20], Step [101/915], Loss: 0.0638, Accuracy: 96.88%\n",
      "Epoch [11/20], Step [201/915], Loss: 0.0297, Accuracy: 100.00%\n",
      "Epoch [11/20], Step [301/915], Loss: 0.1406, Accuracy: 87.50%\n",
      "Epoch [11/20], Step [401/915], Loss: 0.0847, Accuracy: 96.88%\n",
      "Epoch [11/20], Step [501/915], Loss: 0.0564, Accuracy: 96.88%\n",
      "Epoch [11/20], Step [601/915], Loss: 0.1411, Accuracy: 90.62%\n",
      "Epoch [11/20], Step [701/915], Loss: 0.0339, Accuracy: 100.00%\n",
      "Epoch [11/20], Step [801/915], Loss: 0.0612, Accuracy: 96.88%\n",
      "Epoch [11/20], Step [901/915], Loss: 0.1964, Accuracy: 81.25%\n",
      "Train Accuracy of the model on the train rna: 95.38540420440951 %\n",
      "Test Accuracy of the model on the test rna: 84.5726627584079 %\n",
      "Epoch [12/20], Step [1/915], Loss: 0.0275, Accuracy: 100.00%\n"
     ]
    },
    {
     "name": "stdout",
     "output_type": "stream",
     "text": [
      "Epoch [12/20], Step [101/915], Loss: 0.1173, Accuracy: 90.62%\n",
      "Epoch [12/20], Step [201/915], Loss: 0.0781, Accuracy: 93.75%\n",
      "Epoch [12/20], Step [301/915], Loss: 0.0350, Accuracy: 100.00%\n",
      "Epoch [12/20], Step [401/915], Loss: 0.0948, Accuracy: 93.75%\n",
      "Epoch [12/20], Step [501/915], Loss: 0.0548, Accuracy: 96.88%\n",
      "Epoch [12/20], Step [601/915], Loss: 0.0982, Accuracy: 93.75%\n",
      "Epoch [12/20], Step [701/915], Loss: 0.0644, Accuracy: 96.88%\n",
      "Epoch [12/20], Step [801/915], Loss: 0.0214, Accuracy: 100.00%\n",
      "Epoch [12/20], Step [901/915], Loss: 0.0628, Accuracy: 96.88%\n",
      "Train Accuracy of the model on the train rna: 92.88668603657494 %\n",
      "Test Accuracy of the model on the test rna: 83.83215057081148 %\n",
      "Epoch [13/20], Step [1/915], Loss: 0.0626, Accuracy: 96.88%\n",
      "Epoch [13/20], Step [101/915], Loss: 0.1290, Accuracy: 87.50%\n",
      "Epoch [13/20], Step [201/915], Loss: 0.0856, Accuracy: 93.75%\n",
      "Epoch [13/20], Step [301/915], Loss: 0.1398, Accuracy: 87.50%\n",
      "Epoch [13/20], Step [401/915], Loss: 0.1112, Accuracy: 90.62%\n",
      "Epoch [13/20], Step [501/915], Loss: 0.0908, Accuracy: 93.75%\n",
      "Epoch [13/20], Step [601/915], Loss: 0.0252, Accuracy: 100.00%\n",
      "Epoch [13/20], Step [701/915], Loss: 0.0849, Accuracy: 93.75%\n",
      "Epoch [13/20], Step [801/915], Loss: 0.1031, Accuracy: 93.75%\n",
      "Epoch [13/20], Step [901/915], Loss: 0.0729, Accuracy: 96.88%\n",
      "Train Accuracy of the model on the train rna: 96.81421979148863 %\n",
      "Test Accuracy of the model on the test rna: 86.7324899722308 %\n",
      "Epoch [14/20], Step [1/915], Loss: 0.0394, Accuracy: 100.00%\n",
      "Epoch [14/20], Step [101/915], Loss: 0.0611, Accuracy: 96.88%\n",
      "Epoch [14/20], Step [201/915], Loss: 0.0912, Accuracy: 93.75%\n",
      "Epoch [14/20], Step [301/915], Loss: 0.0579, Accuracy: 96.88%\n",
      "Epoch [14/20], Step [401/915], Loss: 0.0835, Accuracy: 93.75%\n",
      "Epoch [14/20], Step [501/915], Loss: 0.1019, Accuracy: 93.75%\n",
      "Epoch [14/20], Step [601/915], Loss: 0.1433, Accuracy: 87.50%\n",
      "Epoch [14/20], Step [701/915], Loss: 0.0571, Accuracy: 96.88%\n",
      "Epoch [14/20], Step [801/915], Loss: 0.0277, Accuracy: 100.00%\n",
      "Epoch [14/20], Step [901/915], Loss: 0.0614, Accuracy: 96.88%\n",
      "Train Accuracy of the model on the train rna: 94.2334643650658 %\n",
      "Test Accuracy of the model on the test rna: 84.66522678185746 %\n",
      "Epoch [15/20], Step [1/915], Loss: 0.0508, Accuracy: 100.00%\n",
      "Epoch [15/20], Step [101/915], Loss: 0.1126, Accuracy: 90.62%\n",
      "Epoch [15/20], Step [201/915], Loss: 0.0878, Accuracy: 93.75%\n",
      "Epoch [15/20], Step [301/915], Loss: 0.0327, Accuracy: 100.00%\n",
      "Epoch [15/20], Step [401/915], Loss: 0.0854, Accuracy: 93.75%\n",
      "Epoch [15/20], Step [501/915], Loss: 0.0320, Accuracy: 100.00%\n",
      "Epoch [15/20], Step [601/915], Loss: 0.0424, Accuracy: 96.88%\n",
      "Epoch [15/20], Step [701/915], Loss: 0.1063, Accuracy: 90.62%\n",
      "Epoch [15/20], Step [801/915], Loss: 0.0835, Accuracy: 93.75%\n",
      "Epoch [15/20], Step [901/915], Loss: 0.0428, Accuracy: 100.00%\n",
      "Train Accuracy of the model on the train rna: 97.18338745513587 %\n",
      "Test Accuracy of the model on the test rna: 86.26966985498304 %\n",
      "Epoch [16/20], Step [1/915], Loss: 0.1112, Accuracy: 90.62%\n",
      "Epoch [16/20], Step [101/915], Loss: 0.0228, Accuracy: 100.00%\n",
      "Epoch [16/20], Step [201/915], Loss: 0.0488, Accuracy: 96.88%\n",
      "Epoch [16/20], Step [301/915], Loss: 0.0712, Accuracy: 93.75%\n",
      "Epoch [16/20], Step [401/915], Loss: 0.0601, Accuracy: 96.88%\n",
      "Epoch [16/20], Step [501/915], Loss: 0.0192, Accuracy: 100.00%\n",
      "Epoch [16/20], Step [601/915], Loss: 0.0557, Accuracy: 96.88%\n",
      "Epoch [16/20], Step [701/915], Loss: 0.0795, Accuracy: 93.75%\n",
      "Epoch [16/20], Step [801/915], Loss: 0.0836, Accuracy: 93.75%\n",
      "Epoch [16/20], Step [901/915], Loss: 0.0690, Accuracy: 93.75%\n",
      "Train Accuracy of the model on the train rna: 96.95094855580243 %\n",
      "Test Accuracy of the model on the test rna: 85.25146559703796 %\n",
      "Epoch [17/20], Step [1/915], Loss: 0.0237, Accuracy: 100.00%\n",
      "Epoch [17/20], Step [101/915], Loss: 0.0686, Accuracy: 96.88%\n",
      "Epoch [17/20], Step [201/915], Loss: 0.0585, Accuracy: 96.88%\n",
      "Epoch [17/20], Step [301/915], Loss: 0.0743, Accuracy: 96.88%\n",
      "Epoch [17/20], Step [401/915], Loss: 0.0733, Accuracy: 96.88%\n",
      "Epoch [17/20], Step [501/915], Loss: 0.0744, Accuracy: 93.75%\n",
      "Epoch [17/20], Step [601/915], Loss: 0.0209, Accuracy: 100.00%\n",
      "Epoch [17/20], Step [701/915], Loss: 0.0916, Accuracy: 90.62%\n",
      "Epoch [17/20], Step [801/915], Loss: 0.0514, Accuracy: 96.88%\n",
      "Epoch [17/20], Step [901/915], Loss: 0.0541, Accuracy: 96.88%\n",
      "Train Accuracy of the model on the train rna: 96.71850965646898 %\n",
      "Test Accuracy of the model on the test rna: 86.3313792039494 %\n",
      "Epoch [18/20], Step [1/915], Loss: 0.0795, Accuracy: 93.75%\n",
      "Epoch [18/20], Step [101/915], Loss: 0.0441, Accuracy: 96.88%\n",
      "Epoch [18/20], Step [201/915], Loss: 0.0505, Accuracy: 96.88%\n",
      "Epoch [18/20], Step [301/915], Loss: 0.0839, Accuracy: 93.75%\n",
      "Epoch [18/20], Step [401/915], Loss: 0.0695, Accuracy: 96.88%\n",
      "Epoch [18/20], Step [501/915], Loss: 0.0534, Accuracy: 96.88%\n",
      "Epoch [18/20], Step [601/915], Loss: 0.0585, Accuracy: 96.88%\n",
      "Epoch [18/20], Step [701/915], Loss: 0.0581, Accuracy: 96.88%\n",
      "Epoch [18/20], Step [801/915], Loss: 0.0210, Accuracy: 100.00%\n",
      "Epoch [18/20], Step [901/915], Loss: 0.0599, Accuracy: 96.88%\n",
      "Train Accuracy of the model on the train rna: 97.43291745000855 %\n",
      "Test Accuracy of the model on the test rna: 86.3313792039494 %\n",
      "Epoch [19/20], Step [1/915], Loss: 0.0751, Accuracy: 93.75%\n",
      "Epoch [19/20], Step [101/915], Loss: 0.0778, Accuracy: 93.75%\n",
      "Epoch [19/20], Step [201/915], Loss: 0.0898, Accuracy: 93.75%\n",
      "Epoch [19/20], Step [301/915], Loss: 0.0878, Accuracy: 93.75%\n",
      "Epoch [19/20], Step [401/915], Loss: 0.0252, Accuracy: 100.00%\n",
      "Epoch [19/20], Step [501/915], Loss: 0.0533, Accuracy: 96.88%\n",
      "Epoch [19/20], Step [601/915], Loss: 0.1012, Accuracy: 90.62%\n",
      "Epoch [19/20], Step [701/915], Loss: 0.0514, Accuracy: 96.88%\n",
      "Epoch [19/20], Step [801/915], Loss: 0.0509, Accuracy: 100.00%\n",
      "Epoch [19/20], Step [901/915], Loss: 0.0944, Accuracy: 93.75%\n",
      "Train Accuracy of the model on the train rna: 97.47051786019483 %\n",
      "Test Accuracy of the model on the test rna: 86.57821659981487 %\n",
      "Epoch [20/20], Step [1/915], Loss: 0.0935, Accuracy: 93.75%\n",
      "Epoch [20/20], Step [101/915], Loss: 0.0231, Accuracy: 100.00%\n",
      "Epoch [20/20], Step [201/915], Loss: 0.0814, Accuracy: 93.75%\n",
      "Epoch [20/20], Step [301/915], Loss: 0.0237, Accuracy: 100.00%\n",
      "Epoch [20/20], Step [401/915], Loss: 0.0585, Accuracy: 96.88%\n",
      "Epoch [20/20], Step [501/915], Loss: 0.1280, Accuracy: 90.62%\n",
      "Epoch [20/20], Step [601/915], Loss: 0.0279, Accuracy: 100.00%\n",
      "Epoch [20/20], Step [701/915], Loss: 0.0232, Accuracy: 100.00%\n",
      "Epoch [20/20], Step [801/915], Loss: 0.0967, Accuracy: 93.75%\n",
      "Epoch [20/20], Step [901/915], Loss: 0.0375, Accuracy: 96.88%\n",
      "Train Accuracy of the model on the train rna: 97.19364211245941 %\n",
      "Test Accuracy of the model on the test rna: 85.89941376118482 %\n"
     ]
    }
   ],
   "source": [
    "train_losses = []\n",
    "train_acc = []\n",
    "test_acc = []\n",
    "TrainaccTest = []\n",
    "TestaccTest = []\n",
    "train(trans)"
   ]
  },
  {
   "cell_type": "code",
   "execution_count": 14,
   "metadata": {},
   "outputs": [
    {
     "data": {
      "image/png": "[encoded data removed]",
      "text/plain": [
       "<Figure size 432x288 with 1 Axes>"
      ]
     },
     "metadata": {
      "needs_background": "light"
     },
     "output_type": "display_data"
    }
   ],
   "source": [
    "plt.plot(train_losses, label='Training loss')\n",
    "plt.plot(train_acc, label='Training accuracy')\n",
    "plt.legend()\n",
    "plt.show()"
   ]
  },
  {
   "cell_type": "code",
   "execution_count": 15,
   "metadata": {},
   "outputs": [
    {
     "data": {
      "image/png": "[encoded data removed]",
      "text/plain": [
       "<Figure size 432x288 with 1 Axes>"
      ]
     },
     "metadata": {
      "needs_background": "light"
     },
     "output_type": "display_data"
    }
   ],
   "source": [
    "plt.plot(TrainaccTest, label='Training accuracy')\n",
    "plt.plot(TestaccTest, label='Testing accuracy')\n",
    "plt.legend()\n",
    "plt.show()"
   ]
  },
  {
   "cell_type": "code",
   "execution_count": 16,
   "metadata": {},
   "outputs": [
    {
     "name": "stdout",
     "output_type": "stream",
     "text": [
      "torch.Size([3241, 3273])\n",
      "torch.Size([3241, 1])\n",
      "tensor([[ 1.0550, -0.0121],\n",
      "        [ 0.9940,  0.0102],\n",
      "        [ 0.9952,  0.0112],\n",
      "        ...,\n",
      "        [ 1.0079,  0.0022],\n",
      "        [ 1.0550, -0.0112],\n",
      "        [ 1.0433, -0.0083]], device='cuda:0', dtype=torch.float64)\n"
     ]
    },
    {
     "data": {
      "image/png": "[encoded data removed]",
      "text/plain": [
       "<Figure size 432x288 with 1 Axes>"
      ]
     },
     "metadata": {
      "needs_background": "light"
     },
     "output_type": "display_data"
    },
    {
     "data": {
      "image/png": "[encoded data removed]",
      "text/plain": [
       "<Figure size 432x288 with 1 Axes>"
      ]
     },
     "metadata": {
      "needs_background": "light"
     },
     "output_type": "display_data"
    },
    {
     "name": "stdout",
     "output_type": "stream",
     "text": [
      "AUPRC = 0.94\n",
      "f1_score = 0.86\n"
     ]
    }
   ],
   "source": [
    "samplesdf = pd.DataFrame()\n",
    "samplesdf = pd.read_csv(xtest,compression =\"gzip\",delimiter=',',header=0)\n",
    "x_test = samplesdf.to_numpy()\n",
    "\n",
    "samplesdf = pd.DataFrame()\n",
    "samplesdf = pd.read_csv(ytest,compression =\"gzip\",delimiter=',', header=0)\n",
    "y_test = samplesdf.to_numpy()\n",
    "\n",
    "x_test = torch.from_numpy(x_test)\n",
    "y_test = torch.from_numpy(y_test)\n",
    "print(x_test.shape)\n",
    "print(y_test.shape)\n",
    "with torch.no_grad():\n",
    "    trans.eval()\n",
    "    if torch.cuda.is_available():\n",
    "        x_test = x_test.cuda()\n",
    "        y_test = y_test.cuda()\n",
    "    x_test = x_test.reshape(-1,1,3273)\n",
    "    outputs = trans(x_test)\n",
    "    out = outputs.data.reshape(-1,2)\n",
    "    print(out)\n",
    "    predicted = np.zeros((len(out)))\n",
    "    i = 0\n",
    "    for x in out:\n",
    "        predicted[i] = x[1]\n",
    "        i = i + 1\n",
    "    y_test = y_test.cpu()\n",
    "    y_test = y_test.reshape(-1)\n",
    "    fpr, tpr, _ = roc_curve(y_test,predicted)\n",
    "    roc_auc = auc(fpr,tpr)\n",
    "    plt.figure()\n",
    "    lw = 2\n",
    "    plt.plot(fpr,tpr, color='darkorange',\n",
    "             lw=lw, label='ROC curve (area = %0.2f)' % roc_auc)\n",
    "    plt.plot([0, 1], [0, 1], color='navy', lw=lw, linestyle='--')\n",
    "    plt.xlim([0.0, 1.0])\n",
    "    plt.ylim([0.0, 1.05])\n",
    "    plt.xlabel('False Positive Rate')\n",
    "    plt.ylabel('True Positive Rate')\n",
    "    plt.title('AUROC curve for SAB(SAB(X))')\n",
    "    plt.legend(loc=\"lower right\")\n",
    "    plt.show()\n",
    "    precision, recall, _ = precision_recall_curve(y_test,predicted)\n",
    "    prc_auc = auc(recall,precision)\n",
    "    plt.plot(recall,precision, color='darkorange',\n",
    "             lw=lw, label='PRC curve (area = %0.2f)' % prc_auc)\n",
    "    plt.xlim([0.0, 1.0])\n",
    "    plt.ylim([0.0, 1.05])\n",
    "    plt.xlabel('Recall')\n",
    "    plt.ylabel('Precision')\n",
    "    plt.title('AUPRC curve for SAB(SAB(X))')\n",
    "    plt.legend(loc=\"lower right\")\n",
    "    plt.show()\n",
    "    print(\"AUPRC = %.02f\"% prc_auc)\n",
    "    ss = np.zeros((len(predicted)))\n",
    "    i = 0\n",
    "    for x in predicted:\n",
    "        if x >= 0.5:\n",
    "            ss[i] = 1\n",
    "        else:\n",
    "            ss[i] = 0\n",
    "        i = i + 1\n",
    "    f1s = f1_score(y_test,ss)\n",
    "    print(\"f1_score = %.02f\"% f1s)\n",
    "    df = pd.DataFrame(y_test)\n",
    "    df.to_csv(r\"data/sabsablb2.csv.gz\",index=False,sep=\",\",compression=\"gzip\")\n",
    "    df = pd.DataFrame(predicted)\n",
    "    df.to_csv(r\"data/sabsabpredict2.csv.gz\",index=False,sep=\",\",compression=\"gzip\")\n"
   ]
  },
  {
   "cell_type": "code",
   "execution_count": 17,
   "metadata": {},
   "outputs": [
    {
     "data": {
      "text/plain": [
       "20"
      ]
     },
     "execution_count": 17,
     "metadata": {},
     "output_type": "execute_result"
    }
   ],
   "source": [
    "len(TestaccTest)"
   ]
  }
 ],
 "metadata": {
  "kernelspec": {
   "display_name": "Python 3",
   "language": "python",
   "name": "python3"
  },
  "language_info": {
   "codemirror_mode": {
    "name": "ipython",
    "version": 3
   },
   "file_extension": ".py",
   "mimetype": "text/x-python",
   "name": "python",
   "nbconvert_exporter": "python",
   "pygments_lexer": "ipython3",
   "version": "3.8.3"
  }
 },
 "nbformat": 4,
 "nbformat_minor": 2
}
