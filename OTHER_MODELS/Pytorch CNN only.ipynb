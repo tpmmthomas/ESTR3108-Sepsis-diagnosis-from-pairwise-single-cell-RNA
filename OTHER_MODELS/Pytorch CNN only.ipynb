{
 "cells": [
  {
   "cell_type": "code",
   "execution_count": 1,
   "metadata": {},
   "outputs": [],
   "source": [
    "# importing the libraries\n",
    "import pandas as pd\n",
    "import numpy as np\n",
    "import os\n",
    "\n",
    "# for reading and displaying images\n",
    "from skimage.io import imread\n",
    "import matplotlib.pyplot as plt\n",
    "%matplotlib inline\n",
    "\n",
    "# for creating validation set\n",
    "from sklearn.model_selection import train_test_split\n",
    "\n",
    "# for evaluating the model\n",
    "from sklearn.metrics import accuracy_score\n",
    "from tqdm import tqdm\n",
    "\n",
    "# PyTorch libraries and modules\n",
    "import torch\n",
    "from torch.autograd import Variable\n",
    "import torch.nn as nn\n",
    "from torch.optim import Adam, SGD\n",
    "from torch.utils.data import Dataset, DataLoader\n",
    "\n",
    "from sklearn.metrics import *\n",
    "#Transformers\n",
    "from module import *"
   ]
  },
  {
   "cell_type": "code",
   "execution_count": 2,
   "metadata": {},
   "outputs": [],
   "source": [
    "# Load training data set (small amount to test if it works first)\n",
    "\n",
    "xtrain = r\"data/training_sample_4s.csv.gz\"\n",
    "ytrain = r\"data/training_label_4s.csv.gz\"\n",
    "xtest = r\"data/testing_sample2_4s.csv.gz\"\n",
    "ytest = r\"data/testing_label_4s.csv.gz\"\n"
   ]
  },
  {
   "cell_type": "code",
   "execution_count": 3,
   "metadata": {},
   "outputs": [
    {
     "data": {
      "text/plain": [
       "(3863, 3158)"
      ]
     },
     "execution_count": 3,
     "metadata": {},
     "output_type": "execute_result"
    }
   ],
   "source": [
    "#check balance\n",
    "samplesdf = pd.DataFrame()\n",
    "for df in  pd.read_csv(ytrain,compression =\"gzip\",delimiter=',', chunksize = 10000, header=0):\n",
    "    samplesdf = samplesdf.append(df)\n",
    "y_train = samplesdf.to_numpy()\n",
    "\n",
    "num0 = 0\n",
    "num1 = 0\n",
    "for x in y_train:\n",
    "    if x == 0:\n",
    "        num0 = num0 + 1\n",
    "    else:\n",
    "        num1 = num1 + 1\n",
    "num0,num1 #checking if it is balanced"
   ]
  },
  {
   "cell_type": "code",
   "execution_count": 4,
   "metadata": {
    "scrolled": true
   },
   "outputs": [
    {
     "name": "stdout",
     "output_type": "stream",
     "text": [
      "[[0.   0.   0.   ... 3.16 0.   3.33]\n",
      " [0.   1.22 0.   ... 2.55 0.   2.55]\n",
      " [0.   0.   0.   ... 2.44 0.   3.69]\n",
      " ...\n",
      " [0.   1.32 0.   ... 1.87 1.32 2.69]\n",
      " [0.   0.   0.   ... 3.14 0.   3.92]\n",
      " [0.   1.29 2.45 ... 3.21 0.   3.88]]\n"
     ]
    }
   ],
   "source": [
    "df = pd.read_csv(xtrain,compression =\"gzip\",delimiter=',', nrows=123, header=0)\n",
    "x_train = df.to_numpy()\n",
    "print(x_train)"
   ]
  },
  {
   "cell_type": "code",
   "execution_count": 14,
   "metadata": {},
   "outputs": [],
   "source": [
    "class Dataset(Dataset):\n",
    "\n",
    "    def __init__(self,samples,labels):\n",
    "\n",
    "        self.data = pd.read_csv(samples,compression =\"gzip\",delimiter=',', header=0)\n",
    "        self.label = pd.read_csv(labels,compression =\"gzip\",delimiter=',', header=0)\n",
    "        \n",
    "    def __len__(self):\n",
    "        return len(self.data)\n",
    "\n",
    "    def __getitem__(self, idx):\n",
    "        if torch.is_tensor(idx):\n",
    "            idx = idx.tolist()\n",
    "\n",
    "        rna = self.data.iloc[idx]\n",
    "        seplb = self.label.iloc[idx]\n",
    "        rna = np.array([rna])\n",
    "        seplb = np.array([seplb])\n",
    "        rna = rna.astype('double').reshape(-1,3271)\n",
    "        i = 0\n",
    "        d = np.zeros((len(seplb),2))\n",
    "        for x in seplb:\n",
    "            if x == 0:\n",
    "                d[i] = [1,0]\n",
    "            else:\n",
    "                d[i] = [0,1]\n",
    "        sample = {'rna': rna, 'label': d}\n",
    "\n",
    "        return sample"
   ]
  },
  {
   "cell_type": "code",
   "execution_count": 15,
   "metadata": {},
   "outputs": [],
   "source": [
    "train_dataset = Dataset(samples=xtrain,labels=ytrain)\n",
    "test_dataset = Dataset(samples = xtest,labels = ytest)"
   ]
  },
  {
   "cell_type": "code",
   "execution_count": 16,
   "metadata": {},
   "outputs": [],
   "source": [
    "# Hyper Parameters\n",
    "EPOCH = 20             # train the training data n times, to save time, we just train 1 epoch\n",
    "LR = 0.0001              # learning rate\n",
    "batch_size = 32\n",
    "wd = LR / EPOCH"
   ]
  },
  {
   "cell_type": "code",
   "execution_count": 17,
   "metadata": {},
   "outputs": [],
   "source": [
    "train_loader = DataLoader(dataset=train_dataset, batch_size=batch_size, shuffle=True)\n",
    "test_loader = DataLoader(dataset=test_dataset, batch_size=batch_size, shuffle=False)"
   ]
  },
  {
   "cell_type": "code",
   "execution_count": 35,
   "metadata": {},
   "outputs": [],
   "source": [
    "class CNN(nn.Module):\n",
    "    def __init__(self):\n",
    "        super(CNN, self).__init__()\n",
    "        self.conv1 = nn.Sequential(         # input shape (x,1, 8949)\n",
    "            nn.Conv1d(\n",
    "                in_channels=1,              # input height\n",
    "                out_channels=4,            # n_filters\n",
    "                kernel_size=3,              # filter size\n",
    "                stride=1,                   # filter movement/step\n",
    "                padding=1,                  # if want same width and length of this image after con2d, padding=(kernel_size-1)/2 if stride=1\n",
    "            ),                              # output shape (x,64,8949)\n",
    "            nn.BatchNorm1d(4),\n",
    "            nn.ReLU(),                      # activation\n",
    "        )\n",
    "        self.conv2 = nn.Sequential(         # input shape (x,64, 8949)\n",
    "            nn.Conv1d(4,4,3,1,1),            \n",
    "            nn.ReLU(),  \n",
    "            nn.Dropout(p=0.1),\n",
    "            nn.MaxPool1d(kernel_size =2, stride=2,ceil_mode = True),                # output shape (x,64,4478)\n",
    "        )\n",
    "        self.conv3 = nn.Sequential(         # input shape (x,64,4478)\n",
    "            nn.Conv1d(4, 4, 3, 1, 1),     # output shape (x,128,4478)\n",
    "            nn.ReLU(),                      # activation\n",
    "            nn.MaxPool1d(kernel_size =2, stride=2,ceil_mode = True),                # output shape (x,128,2238)\n",
    "        )\n",
    "        self.out = nn.Linear(3272 , 2)   # fully connected layer, output 10 classes\n",
    "\n",
    "    def forward(self, x):\n",
    "        x = self.conv1(x)\n",
    "        x = self.conv2(x)\n",
    "        x = self.conv3(x)\n",
    "        x = x.view(x.size(0), -1)\n",
    "        output = self.out(x)\n",
    "        return output  "
   ]
  },
  {
   "cell_type": "code",
   "execution_count": 36,
   "metadata": {},
   "outputs": [
    {
     "name": "stdout",
     "output_type": "stream",
     "text": [
      "CNN(\n",
      "  (conv1): Sequential(\n",
      "    (0): Conv1d(1, 4, kernel_size=(3,), stride=(1,), padding=(1,))\n",
      "    (1): BatchNorm1d(4, eps=1e-05, momentum=0.1, affine=True, track_running_stats=True)\n",
      "    (2): ReLU()\n",
      "  )\n",
      "  (conv2): Sequential(\n",
      "    (0): Conv1d(4, 4, kernel_size=(3,), stride=(1,), padding=(1,))\n",
      "    (1): ReLU()\n",
      "    (2): Dropout(p=0.1, inplace=False)\n",
      "    (3): MaxPool1d(kernel_size=2, stride=2, padding=0, dilation=1, ceil_mode=True)\n",
      "  )\n",
      "  (conv3): Sequential(\n",
      "    (0): Conv1d(4, 4, kernel_size=(3,), stride=(1,), padding=(1,))\n",
      "    (1): ReLU()\n",
      "    (2): MaxPool1d(kernel_size=2, stride=2, padding=0, dilation=1, ceil_mode=True)\n",
      "  )\n",
      "  (out): Linear(in_features=3272, out_features=2, bias=True)\n",
      ")\n"
     ]
    }
   ],
   "source": [
    "cnn = CNN()\n",
    "optimizer = torch.optim.Adam(cnn.parameters(), lr=LR)   # optimize all cnn parameters\n",
    "loss_func = nn.L1Loss()                      \n",
    "if torch.cuda.is_available():\n",
    "    cnn = cnn.cuda()\n",
    "    loss_func = loss_func.cuda()\n",
    "cnn = cnn.double()    \n",
    "print(cnn)"
   ]
  },
  {
   "cell_type": "code",
   "execution_count": 37,
   "metadata": {},
   "outputs": [],
   "source": [
    "def test(model):\n",
    "    model.eval()\n",
    "    with torch.no_grad():\n",
    "        correct = 0\n",
    "        total = 0\n",
    "        for batch in train_loader:\n",
    "            rna,labels = batch[\"rna\"], batch[\"label\"] \n",
    "            if torch.cuda.is_available():\n",
    "                rna = rna.cuda()\n",
    "                labels = labels.cuda()\n",
    "            labels = labels.reshape(-1,2)\n",
    "            outputs = model(rna)\n",
    "            outputs = outputs.reshape(-1,2)\n",
    "            _, predicted = torch.max(outputs.data, 1)\n",
    "            _, labels = torch.max(labels.data, 1)\n",
    "            total += labels.size(0)\n",
    "            correct += (predicted == labels).sum().item()\n",
    "           # print(total,correct)\n",
    "        TrainaccTest.append(correct/total)\n",
    "        \n",
    "        print('Train Accuracy of the model on the train rna: {} %'.format((correct / total) * 100))\n",
    "    with torch.no_grad():\n",
    "        correct = 0\n",
    "        total = 0\n",
    "        for batch in test_loader:\n",
    "            rna,labels = batch[\"rna\"], batch[\"label\"] \n",
    "            if torch.cuda.is_available():\n",
    "                rna = rna.cuda()\n",
    "                labels = labels.cuda()\n",
    "            labels = labels.reshape(-1,2)\n",
    "            outputs = model(rna)\n",
    "            outputs = outputs.reshape(-1,2)\n",
    "            _, predicted = torch.max(outputs.data, 1)\n",
    "            _, labels = torch.max(labels.data, 1)\n",
    "            total += labels.size(0)\n",
    "            correct += (predicted == labels).sum().item()\n",
    "    #print(total,correct)\n",
    "        TestaccTest.append(correct/total)\n",
    "        print('Test Accuracy of the model on the test rna: {} %'.format((correct / total) * 100))\n",
    "\n"
   ]
  },
  {
   "cell_type": "code",
   "execution_count": 38,
   "metadata": {
    "scrolled": false
   },
   "outputs": [],
   "source": [
    "def train(model): \n",
    "    total_step = len(train_loader)\n",
    "    num_epoch = EPOCH\n",
    "    for epoch in range(num_epoch):\n",
    "        model.train()\n",
    "        for i, batch in enumerate(train_loader):\n",
    "            # Run the forward pass\n",
    "            rna,labels = batch[\"rna\"], batch[\"label\"] \n",
    "            if torch.cuda.is_available():\n",
    "                rna = rna.cuda()\n",
    "                labels = labels.cuda()\n",
    "            outputs = model(rna)\n",
    "            labels = labels.long()\n",
    "            #print(outputs)\n",
    "            outputs = outputs.reshape(-1,2)\n",
    "            labels = labels.reshape(-1,2)\n",
    "            loss = loss_func(outputs, labels)\n",
    "            train_losses.append(loss.item())\n",
    "\n",
    "            # Backprop and perform Adam optimisation\n",
    "            optimizer.zero_grad()\n",
    "            loss.backward()\n",
    "            optimizer.step()\n",
    "\n",
    "            # Track the accuracy\n",
    "            total = labels.size(0)\n",
    "            _, predicted = torch.max(outputs.data, 1)\n",
    "            _, labels = torch.max(labels.data, 1)\n",
    "            correct = (predicted == labels).sum().item()\n",
    "            train_acc.append(correct / total)\n",
    "            if i % 100 == 0:\n",
    "                print('Epoch [{}/{}], Step [{}/{}], Loss: {:.4f}, Accuracy: {:.2f}%'\n",
    "                        .format(epoch + 1, num_epoch , i + 1, total_step, loss.item(),\n",
    "                                (correct / total) * 100))\n",
    "        test(model)"
   ]
  },
  {
   "cell_type": "code",
   "execution_count": 39,
   "metadata": {},
   "outputs": [
    {
     "name": "stdout",
     "output_type": "stream",
     "text": [
      "Epoch [1/20], Step [1/220], Loss: 0.6201, Accuracy: 31.25%\n",
      "Epoch [1/20], Step [101/220], Loss: 0.5028, Accuracy: 50.00%\n",
      "Epoch [1/20], Step [201/220], Loss: 0.4617, Accuracy: 53.12%\n",
      "Train Accuracy of the model on the train rna: 55.020652328728104 %\n",
      "Test Accuracy of the model on the test rna: 54.50180072028812 %\n",
      "Epoch [2/20], Step [1/220], Loss: 0.3455, Accuracy: 65.62%\n",
      "Epoch [2/20], Step [101/220], Loss: 0.3649, Accuracy: 62.50%\n",
      "Epoch [2/20], Step [201/220], Loss: 0.3189, Accuracy: 65.62%\n",
      "Train Accuracy of the model on the train rna: 55.14883919669563 %\n",
      "Test Accuracy of the model on the test rna: 54.621848739495796 %\n",
      "Epoch [3/20], Step [1/220], Loss: 0.3979, Accuracy: 59.38%\n",
      "Epoch [3/20], Step [101/220], Loss: 0.3174, Accuracy: 78.12%\n",
      "Epoch [3/20], Step [201/220], Loss: 0.3594, Accuracy: 65.62%\n",
      "Train Accuracy of the model on the train rna: 77.72397094430993 %\n",
      "Test Accuracy of the model on the test rna: 75.1500600240096 %\n",
      "Epoch [4/20], Step [1/220], Loss: 0.2979, Accuracy: 81.25%\n",
      "Epoch [4/20], Step [101/220], Loss: 0.2531, Accuracy: 87.50%\n",
      "Epoch [4/20], Step [201/220], Loss: 0.2433, Accuracy: 84.38%\n",
      "Train Accuracy of the model on the train rna: 78.59279304942316 %\n",
      "Test Accuracy of the model on the test rna: 75.39015606242498 %\n",
      "Epoch [5/20], Step [1/220], Loss: 0.2742, Accuracy: 71.88%\n",
      "Epoch [5/20], Step [101/220], Loss: 0.3915, Accuracy: 56.25%\n",
      "Epoch [5/20], Step [201/220], Loss: 0.2637, Accuracy: 84.38%\n",
      "Train Accuracy of the model on the train rna: 79.50434411052557 %\n",
      "Test Accuracy of the model on the test rna: 76.95078031212485 %\n",
      "Epoch [6/20], Step [1/220], Loss: 0.3364, Accuracy: 68.75%\n",
      "Epoch [6/20], Step [101/220], Loss: 0.2113, Accuracy: 84.38%\n",
      "Epoch [6/20], Step [201/220], Loss: 0.2567, Accuracy: 81.25%\n",
      "Train Accuracy of the model on the train rna: 80.27346531833072 %\n",
      "Test Accuracy of the model on the test rna: 78.75150060024009 %\n",
      "Epoch [7/20], Step [1/220], Loss: 0.3035, Accuracy: 78.12%\n",
      "Epoch [7/20], Step [101/220], Loss: 0.2584, Accuracy: 81.25%\n",
      "Epoch [7/20], Step [201/220], Loss: 0.3915, Accuracy: 68.75%\n",
      "Train Accuracy of the model on the train rna: 80.80045577553055 %\n",
      "Test Accuracy of the model on the test rna: 78.87154861944778 %\n",
      "Epoch [8/20], Step [1/220], Loss: 0.2705, Accuracy: 81.25%\n",
      "Epoch [8/20], Step [101/220], Loss: 0.2631, Accuracy: 81.25%\n",
      "Epoch [8/20], Step [201/220], Loss: 0.3725, Accuracy: 68.75%\n",
      "Train Accuracy of the model on the train rna: 81.46987608602763 %\n",
      "Test Accuracy of the model on the test rna: 79.47178871548618 %\n",
      "Epoch [9/20], Step [1/220], Loss: 0.2917, Accuracy: 71.88%\n",
      "Epoch [9/20], Step [101/220], Loss: 0.2571, Accuracy: 84.38%\n",
      "Epoch [9/20], Step [201/220], Loss: 0.2721, Accuracy: 84.38%\n",
      "Train Accuracy of the model on the train rna: 82.05383848454636 %\n",
      "Test Accuracy of the model on the test rna: 79.95198079231692 %\n",
      "Epoch [10/20], Step [1/220], Loss: 0.2601, Accuracy: 90.62%\n",
      "Epoch [10/20], Step [101/220], Loss: 0.3208, Accuracy: 75.00%\n",
      "Epoch [10/20], Step [201/220], Loss: 0.2897, Accuracy: 81.25%\n",
      "Train Accuracy of the model on the train rna: 82.73750178037317 %\n",
      "Test Accuracy of the model on the test rna: 80.67226890756302 %\n",
      "Epoch [11/20], Step [1/220], Loss: 0.2871, Accuracy: 71.88%\n",
      "Epoch [11/20], Step [101/220], Loss: 0.2283, Accuracy: 90.62%\n",
      "Epoch [11/20], Step [201/220], Loss: 0.2464, Accuracy: 78.12%\n",
      "Train Accuracy of the model on the train rna: 83.07933342828657 %\n",
      "Test Accuracy of the model on the test rna: 80.31212484993998 %\n",
      "Epoch [12/20], Step [1/220], Loss: 0.2646, Accuracy: 81.25%\n",
      "Epoch [12/20], Step [101/220], Loss: 0.2731, Accuracy: 81.25%\n",
      "Epoch [12/20], Step [201/220], Loss: 0.2790, Accuracy: 81.25%\n",
      "Train Accuracy of the model on the train rna: 82.83720267768125 %\n",
      "Test Accuracy of the model on the test rna: 79.47178871548618 %\n",
      "Epoch [13/20], Step [1/220], Loss: 0.3350, Accuracy: 71.88%\n",
      "Epoch [13/20], Step [101/220], Loss: 0.2723, Accuracy: 81.25%\n",
      "Epoch [13/20], Step [201/220], Loss: 0.2532, Accuracy: 78.12%\n",
      "Train Accuracy of the model on the train rna: 83.70602478279447 %\n",
      "Test Accuracy of the model on the test rna: 80.55222088835534 %\n",
      "Epoch [14/20], Step [1/220], Loss: 0.2423, Accuracy: 90.62%\n",
      "Epoch [14/20], Step [101/220], Loss: 0.2193, Accuracy: 90.62%\n",
      "Epoch [14/20], Step [201/220], Loss: 0.1769, Accuracy: 90.62%\n",
      "Train Accuracy of the model on the train rna: 83.53510895883777 %\n",
      "Test Accuracy of the model on the test rna: 79.59183673469387 %\n",
      "Epoch [15/20], Step [1/220], Loss: 0.2429, Accuracy: 87.50%\n",
      "Epoch [15/20], Step [101/220], Loss: 0.2567, Accuracy: 84.38%\n",
      "Epoch [15/20], Step [201/220], Loss: 0.2460, Accuracy: 84.38%\n",
      "Train Accuracy of the model on the train rna: 84.41817404928072 %\n",
      "Test Accuracy of the model on the test rna: 81.39255702280911 %\n",
      "Epoch [16/20], Step [1/220], Loss: 0.2184, Accuracy: 87.50%\n",
      "Epoch [16/20], Step [101/220], Loss: 0.2319, Accuracy: 90.62%\n",
      "Epoch [16/20], Step [201/220], Loss: 0.2415, Accuracy: 87.50%\n",
      "Train Accuracy of the model on the train rna: 84.38968807862128 %\n",
      "Test Accuracy of the model on the test rna: 80.31212484993998 %\n",
      "Epoch [17/20], Step [1/220], Loss: 0.2415, Accuracy: 87.50%\n",
      "Epoch [17/20], Step [101/220], Loss: 0.2645, Accuracy: 81.25%\n",
      "Epoch [17/20], Step [201/220], Loss: 0.2502, Accuracy: 84.38%\n",
      "Train Accuracy of the model on the train rna: 85.21578122774534 %\n",
      "Test Accuracy of the model on the test rna: 81.39255702280911 %\n",
      "Epoch [18/20], Step [1/220], Loss: 0.2659, Accuracy: 75.00%\n",
      "Epoch [18/20], Step [101/220], Loss: 0.2582, Accuracy: 81.25%\n",
      "Epoch [18/20], Step [201/220], Loss: 0.2914, Accuracy: 87.50%\n",
      "Train Accuracy of the model on the train rna: 85.48639794901011 %\n",
      "Test Accuracy of the model on the test rna: 81.99279711884753 %\n",
      "Epoch [19/20], Step [1/220], Loss: 0.2439, Accuracy: 84.38%\n",
      "Epoch [19/20], Step [101/220], Loss: 0.2882, Accuracy: 78.12%\n",
      "Epoch [19/20], Step [201/220], Loss: 0.2556, Accuracy: 81.25%\n",
      "Train Accuracy of the model on the train rna: 85.21578122774534 %\n",
      "Test Accuracy of the model on the test rna: 81.03241296518607 %\n",
      "Epoch [20/20], Step [1/220], Loss: 0.2261, Accuracy: 90.62%\n",
      "Epoch [20/20], Step [101/220], Loss: 0.2672, Accuracy: 84.38%\n",
      "Epoch [20/20], Step [201/220], Loss: 0.2784, Accuracy: 93.75%\n",
      "Train Accuracy of the model on the train rna: 85.97065945022077 %\n",
      "Test Accuracy of the model on the test rna: 81.5126050420168 %\n"
     ]
    }
   ],
   "source": [
    "train_losses = []\n",
    "train_acc = []\n",
    "test_acc = []\n",
    "TrainaccTest = []\n",
    "TestaccTest = []\n",
    "train(cnn)"
   ]
  },
  {
   "cell_type": "code",
   "execution_count": 40,
   "metadata": {},
   "outputs": [
    {
     "data": {
      "image/png": "[encoded data removed]",
      "text/plain": [
       "<Figure size 432x288 with 1 Axes>"
      ]
     },
     "metadata": {
      "needs_background": "light"
     },
     "output_type": "display_data"
    }
   ],
   "source": [
    "plt.plot(train_losses, label='Training loss')\n",
    "plt.plot(train_acc, label='Training accuracy')\n",
    "plt.legend()\n",
    "plt.show()"
   ]
  },
  {
   "cell_type": "code",
   "execution_count": 41,
   "metadata": {},
   "outputs": [
    {
     "data": {
      "image/png": "[encoded data removed]",
      "text/plain": [
       "<Figure size 432x288 with 1 Axes>"
      ]
     },
     "metadata": {
      "needs_background": "light"
     },
     "output_type": "display_data"
    }
   ],
   "source": [
    "plt.plot(TrainaccTest, label='Training loss')\n",
    "plt.plot(TestaccTest, label='Training accuracy')\n",
    "plt.legend()\n",
    "plt.show()"
   ]
  },
  {
   "cell_type": "code",
   "execution_count": 43,
   "metadata": {},
   "outputs": [
    {
     "name": "stdout",
     "output_type": "stream",
     "text": [
      "torch.Size([833, 3271])\n",
      "torch.Size([833, 1])\n",
      "tensor([[0.6870, 0.2225],\n",
      "        [0.6860, 0.2724],\n",
      "        [0.7492, 0.1101],\n",
      "        ...,\n",
      "        [0.5690, 0.3352],\n",
      "        [0.8599, 0.1382],\n",
      "        [0.4012, 0.6014]], dtype=torch.float64)\n"
     ]
    },
    {
     "data": {
      "image/png": "[encoded data removed]",
      "text/plain": [
       "<Figure size 432x288 with 1 Axes>"
      ]
     },
     "metadata": {
      "needs_background": "light"
     },
     "output_type": "display_data"
    },
    {
     "data": {
      "image/png": "[encoded data removed]",
      "text/plain": [
       "<Figure size 432x288 with 1 Axes>"
      ]
     },
     "metadata": {
      "needs_background": "light"
     },
     "output_type": "display_data"
    },
    {
     "name": "stdout",
     "output_type": "stream",
     "text": [
      "AUPRC = 0.87\n",
      "f1_score = 0.79\n"
     ]
    }
   ],
   "source": [
    "samplesdf = pd.DataFrame()\n",
    "samplesdf = pd.read_csv(xtest,compression =\"gzip\",delimiter=',',header=0)\n",
    "x_test = samplesdf.to_numpy()\n",
    "\n",
    "samplesdf = pd.DataFrame()\n",
    "samplesdf = pd.read_csv(ytest,compression =\"gzip\",delimiter=',', header=0)\n",
    "y_test = samplesdf.to_numpy()\n",
    "\n",
    "x_test = torch.from_numpy(x_test)\n",
    "y_test = torch.from_numpy(y_test)\n",
    "print(x_test.shape)\n",
    "print(y_test.shape)\n",
    "with torch.no_grad():\n",
    "    cnn = cnn.cpu()\n",
    "    cnn.eval()\n",
    "\n",
    "    x_test = x_test.reshape(-1,1,3271)\n",
    "    outputs = cnn(x_test)\n",
    "    out = outputs.data.reshape(-1,2)\n",
    "    print(out)\n",
    "    predicted = np.zeros((len(out)))\n",
    "    i = 0\n",
    "    for x in out:\n",
    "        predicted[i] = x[1]\n",
    "        i = i + 1\n",
    "    y_test = y_test.cpu()\n",
    "    y_test = y_test.reshape(-1)\n",
    "    fpr, tpr, _ = roc_curve(y_test,predicted)\n",
    "    roc_auc = auc(fpr,tpr)\n",
    "    plt.figure()\n",
    "    lw = 2\n",
    "    plt.plot(fpr,tpr, color='darkorange',\n",
    "             lw=lw, label='ROC curve (area = %0.2f)' % roc_auc)\n",
    "    plt.plot([0, 1], [0, 1], color='navy', lw=lw, linestyle='--')\n",
    "    plt.xlim([0.0, 1.0])\n",
    "    plt.ylim([0.0, 1.05])\n",
    "    plt.xlabel('False Positive Rate')\n",
    "    plt.ylabel('True Positive Rate')\n",
    "    plt.title('AUROC curve for CNN')\n",
    "    plt.legend(loc=\"lower right\")\n",
    "    plt.show()\n",
    "    precision, recall, _ = precision_recall_curve(y_test,predicted)\n",
    "    prc_auc = auc(recall,precision)\n",
    "    plt.plot(recall,precision, color='darkorange',\n",
    "             lw=lw, label='PRC curve (area = %0.2f)' % prc_auc)\n",
    "    plt.xlim([0.0, 1.0])\n",
    "    plt.ylim([0.0, 1.05])\n",
    "    plt.xlabel('Recall')\n",
    "    plt.ylabel('Precision')\n",
    "    plt.title('AUPRC curve for CNN')\n",
    "    plt.legend(loc=\"lower right\")\n",
    "    plt.show()\n",
    "    print(\"AUPRC = %.02f\"% prc_auc)\n",
    "    ss = np.zeros((len(predicted)))\n",
    "    i = 0\n",
    "    for x in predicted:\n",
    "        if x >= 0.5:\n",
    "            ss[i] = 1\n",
    "        else:\n",
    "            ss[i] = 0\n",
    "        i = i + 1\n",
    "    f1s = f1_score(y_test,ss)\n",
    "    print(\"f1_score = %.02f\"% f1s)\n",
    "    df = pd.DataFrame(y_test)\n",
    "    df.to_csv(r\"data/cnnlb.csv.gz\",index=False,sep=\",\",compression=\"gzip\")\n",
    "    df = pd.DataFrame(predicted)\n",
    "    df.to_csv(r\"data/cnnpredict.csv.gz\",index=False,sep=\",\",compression=\"gzip\")\n"
   ]
  },
  {
   "cell_type": "code",
   "execution_count": null,
   "metadata": {},
   "outputs": [],
   "source": []
  }
 ],
 "metadata": {
  "kernelspec": {
   "display_name": "Python 3",
   "language": "python",
   "name": "python3"
  },
  "language_info": {
   "codemirror_mode": {
    "name": "ipython",
    "version": 3
   },
   "file_extension": ".py",
   "mimetype": "text/x-python",
   "name": "python",
   "nbconvert_exporter": "python",
   "pygments_lexer": "ipython3",
   "version": "3.8.3"
  }
 },
 "nbformat": 4,
 "nbformat_minor": 2
}
