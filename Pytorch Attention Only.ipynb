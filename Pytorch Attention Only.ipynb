{
 "cells": [
  {
   "cell_type": "code",
   "execution_count": 1,
   "metadata": {},
   "outputs": [],
   "source": [
    "# importing the libraries\n",
    "import pandas as pd\n",
    "import numpy as np\n",
    "import os\n",
    "\n",
    "# for reading and displaying images\n",
    "from skimage.io import imread\n",
    "import matplotlib.pyplot as plt\n",
    "%matplotlib inline\n",
    "\n",
    "# for creating validation set\n",
    "from sklearn.model_selection import train_test_split\n",
    "\n",
    "# for evaluating the model\n",
    "from sklearn.metrics import accuracy_score\n",
    "from tqdm import tqdm\n",
    "\n",
    "# PyTorch libraries and modules\n",
    "import torch\n",
    "from torch.autograd import Variable\n",
    "import torch.nn as nn\n",
    "from torch.optim import Adam, SGD\n",
    "from torch.utils.data import Dataset, DataLoader\n",
    "\n",
    "from sklearn.metrics import *\n",
    "#Transformers\n",
    "from module import *"
   ]
  },
  {
   "cell_type": "code",
   "execution_count": 2,
   "metadata": {},
   "outputs": [],
   "source": [
    "# Load training data set (small amount to test if it works first)\n",
    "\n",
    "xtrain = r\"data/training_sample_4s.csv.gz\"\n",
    "ytrain = r\"data/training_label_4s.csv.gz\"\n",
    "xtest = r\"data/testing_sample2_4s.csv.gz\"\n",
    "ytest = r\"data/testing_label_4s.csv.gz\"\n"
   ]
  },
  {
   "cell_type": "code",
   "execution_count": 3,
   "metadata": {},
   "outputs": [
    {
     "data": {
      "text/plain": [
       "(3863, 3158)"
      ]
     },
     "execution_count": 3,
     "metadata": {},
     "output_type": "execute_result"
    }
   ],
   "source": [
    "#check balance\n",
    "samplesdf = pd.DataFrame()\n",
    "for df in  pd.read_csv(ytrain,compression =\"gzip\",delimiter=',', chunksize = 10000, header=0):\n",
    "    samplesdf = samplesdf.append(df)\n",
    "y_train = samplesdf.to_numpy()\n",
    "\n",
    "num0 = 0\n",
    "num1 = 0\n",
    "for x in y_train:\n",
    "    if x == 0:\n",
    "        num0 = num0 + 1\n",
    "    else:\n",
    "        num1 = num1 + 1\n",
    "num0,num1 #checking if it is balanced"
   ]
  },
  {
   "cell_type": "code",
   "execution_count": 4,
   "metadata": {
    "scrolled": true
   },
   "outputs": [
    {
     "name": "stdout",
     "output_type": "stream",
     "text": [
      "(123, 3271)\n"
     ]
    }
   ],
   "source": [
    "df = pd.read_csv(xtrain,compression =\"gzip\",delimiter=',', nrows=123, header=0)\n",
    "x_train = df.to_numpy()\n",
    "print(x_train.shape)"
   ]
  },
  {
   "cell_type": "code",
   "execution_count": 5,
   "metadata": {},
   "outputs": [],
   "source": [
    "class Dataset(Dataset):\n",
    "\n",
    "    def __init__(self,samples,labels):\n",
    "\n",
    "        self.data = pd.read_csv(samples,compression =\"gzip\",delimiter=',', header=0)\n",
    "        self.label = pd.read_csv(labels,compression =\"gzip\",delimiter=',', header=0)\n",
    "        \n",
    "    def __len__(self):\n",
    "        return len(self.data)\n",
    "\n",
    "    def __getitem__(self, idx):\n",
    "        if torch.is_tensor(idx):\n",
    "            idx = idx.tolist()\n",
    "\n",
    "        rna = self.data.iloc[idx]\n",
    "        seplb = self.label.iloc[idx]\n",
    "        rna = np.array([rna])\n",
    "        seplb = np.array([seplb])\n",
    "        rna = rna.astype('double').reshape(-1,3271)\n",
    "        i = 0\n",
    "        d = np.zeros((len(seplb),2))\n",
    "        for x in seplb:\n",
    "            if x == 0:\n",
    "                d[i] = [1,0]\n",
    "            else:\n",
    "                d[i] = [0,1]\n",
    "        sample = {'rna': rna, 'label': d}\n",
    "\n",
    "        return sample"
   ]
  },
  {
   "cell_type": "code",
   "execution_count": 6,
   "metadata": {},
   "outputs": [],
   "source": [
    "train_dataset = Dataset(samples=xtrain,labels=ytrain)\n",
    "test_dataset = Dataset(samples = xtest,labels = ytest)"
   ]
  },
  {
   "cell_type": "code",
   "execution_count": 7,
   "metadata": {},
   "outputs": [],
   "source": [
    "# Hyper Parameters\n",
    "EPOCH = 20             # train the training data n times, to save time, we just train 1 epoch\n",
    "LR = 0.0001              # learning rate\n",
    "batch_size = 32\n",
    "wd = LR / EPOCH"
   ]
  },
  {
   "cell_type": "code",
   "execution_count": 8,
   "metadata": {},
   "outputs": [],
   "source": [
    "train_loader = DataLoader(dataset=train_dataset, batch_size=batch_size, shuffle=True)\n",
    "test_loader = DataLoader(dataset=test_dataset, batch_size=batch_size, shuffle=False)"
   ]
  },
  {
   "cell_type": "code",
   "execution_count": 9,
   "metadata": {},
   "outputs": [],
   "source": [
    "class SetTransformer(nn.Module):\n",
    "    def __init__(self, dim_input, num_outputs, dim_output,\n",
    "            num_inds=32, dim_hidden=128, num_heads=2, ln=False):\n",
    "        super(SetTransformer, self).__init__()\n",
    "        self.enc = nn.Sequential(\n",
    "                ISAB(dim_input, dim_hidden, num_heads, num_inds, ln=ln),\n",
    "                ISAB(dim_hidden, dim_hidden, num_heads, num_inds, ln=ln))\n",
    "        self.dec = nn.Sequential(\n",
    "                PMA(dim_hidden, num_heads, num_outputs, ln=ln),\n",
    "                SAB(dim_hidden, dim_hidden, num_heads, ln=ln),\n",
    "                SAB(dim_hidden, dim_hidden, num_heads, ln=ln),\n",
    "                nn.Linear(dim_hidden, dim_output))\n",
    "\n",
    "    def forward(self, X):\n",
    "        return self.dec(self.enc(X))"
   ]
  },
  {
   "cell_type": "code",
   "execution_count": 10,
   "metadata": {},
   "outputs": [
    {
     "name": "stdout",
     "output_type": "stream",
     "text": [
      "SetTransformer(\n",
      "  (enc): Sequential(\n",
      "    (0): ISAB(\n",
      "      (mab0): MAB(\n",
      "        (fc_q): Linear(in_features=128, out_features=128, bias=True)\n",
      "        (fc_k): Linear(in_features=3271, out_features=128, bias=True)\n",
      "        (fc_v): Linear(in_features=3271, out_features=128, bias=True)\n",
      "        (fc_o): Linear(in_features=128, out_features=128, bias=True)\n",
      "      )\n",
      "      (mab1): MAB(\n",
      "        (fc_q): Linear(in_features=3271, out_features=128, bias=True)\n",
      "        (fc_k): Linear(in_features=128, out_features=128, bias=True)\n",
      "        (fc_v): Linear(in_features=128, out_features=128, bias=True)\n",
      "        (fc_o): Linear(in_features=128, out_features=128, bias=True)\n",
      "      )\n",
      "    )\n",
      "    (1): ISAB(\n",
      "      (mab0): MAB(\n",
      "        (fc_q): Linear(in_features=128, out_features=128, bias=True)\n",
      "        (fc_k): Linear(in_features=128, out_features=128, bias=True)\n",
      "        (fc_v): Linear(in_features=128, out_features=128, bias=True)\n",
      "        (fc_o): Linear(in_features=128, out_features=128, bias=True)\n",
      "      )\n",
      "      (mab1): MAB(\n",
      "        (fc_q): Linear(in_features=128, out_features=128, bias=True)\n",
      "        (fc_k): Linear(in_features=128, out_features=128, bias=True)\n",
      "        (fc_v): Linear(in_features=128, out_features=128, bias=True)\n",
      "        (fc_o): Linear(in_features=128, out_features=128, bias=True)\n",
      "      )\n",
      "    )\n",
      "  )\n",
      "  (dec): Sequential(\n",
      "    (0): PMA(\n",
      "      (mab): MAB(\n",
      "        (fc_q): Linear(in_features=128, out_features=128, bias=True)\n",
      "        (fc_k): Linear(in_features=128, out_features=128, bias=True)\n",
      "        (fc_v): Linear(in_features=128, out_features=128, bias=True)\n",
      "        (fc_o): Linear(in_features=128, out_features=128, bias=True)\n",
      "      )\n",
      "    )\n",
      "    (1): SAB(\n",
      "      (mab): MAB(\n",
      "        (fc_q): Linear(in_features=128, out_features=128, bias=True)\n",
      "        (fc_k): Linear(in_features=128, out_features=128, bias=True)\n",
      "        (fc_v): Linear(in_features=128, out_features=128, bias=True)\n",
      "        (fc_o): Linear(in_features=128, out_features=128, bias=True)\n",
      "      )\n",
      "    )\n",
      "    (2): SAB(\n",
      "      (mab): MAB(\n",
      "        (fc_q): Linear(in_features=128, out_features=128, bias=True)\n",
      "        (fc_k): Linear(in_features=128, out_features=128, bias=True)\n",
      "        (fc_v): Linear(in_features=128, out_features=128, bias=True)\n",
      "        (fc_o): Linear(in_features=128, out_features=128, bias=True)\n",
      "      )\n",
      "    )\n",
      "    (3): Linear(in_features=128, out_features=1, bias=True)\n",
      "  )\n",
      ")\n"
     ]
    }
   ],
   "source": [
    "trans = SetTransformer(3271,2,1)\n",
    "optimizer = torch.optim.Adam(trans.parameters(), lr=LR)   \n",
    "loss_func = nn.L1Loss()                      \n",
    "if torch.cuda.is_available():\n",
    "    loss_func = loss_func.cuda()\n",
    "    trans = trans.cuda()\n",
    "trans = trans.double()\n",
    "print(trans)"
   ]
  },
  {
   "cell_type": "code",
   "execution_count": 11,
   "metadata": {},
   "outputs": [],
   "source": [
    "def test(model):\n",
    "    model.eval()\n",
    "    with torch.no_grad():\n",
    "        correct = 0\n",
    "        total = 0\n",
    "        for batch in train_loader:\n",
    "            rna,labels = batch[\"rna\"], batch[\"label\"] \n",
    "            if torch.cuda.is_available():\n",
    "                rna = rna.cuda()\n",
    "                labels = labels.cuda()\n",
    "            labels = labels.reshape(-1,2)\n",
    "            outputs = model(rna)\n",
    "            outputs = outputs.reshape(-1,2)\n",
    "            _, predicted = torch.max(outputs.data, 1)\n",
    "            _, labels = torch.max(labels.data, 1)\n",
    "            total += labels.size(0)\n",
    "            correct += (predicted == labels).sum().item()\n",
    "           # print(total,correct)\n",
    "        TrainaccTest.append(correct/total)\n",
    "\n",
    "        print('Train Accuracy of the model on the train rna: {} %'.format((correct / total) * 100))\n",
    "    with torch.no_grad():\n",
    "        correct = 0\n",
    "        total = 0\n",
    "        for batch in test_loader:\n",
    "            rna,labels = batch[\"rna\"], batch[\"label\"] \n",
    "            if torch.cuda.is_available():\n",
    "                rna = rna.cuda()\n",
    "                labels = labels.cuda()\n",
    "            labels = labels.reshape(-1,2)\n",
    "            outputs = model(rna)\n",
    "            outputs = outputs.reshape(-1,2)\n",
    "            _, predicted = torch.max(outputs.data, 1)\n",
    "            _, labels = torch.max(labels.data, 1)\n",
    "            total += labels.size(0)\n",
    "            correct += (predicted == labels).sum().item()\n",
    "    #print(total,correct)\n",
    "        TestaccTest.append(correct/total)\n",
    "\n",
    "        print('Test Accuracy of the model on the test rna: {} %'.format((correct / total) * 100))\n",
    "\n"
   ]
  },
  {
   "cell_type": "code",
   "execution_count": 12,
   "metadata": {
    "scrolled": false
   },
   "outputs": [],
   "source": [
    "def train(model): \n",
    "    total_step = len(train_loader)\n",
    "    num_epoch = EPOCH\n",
    "    for epoch in range(num_epoch):\n",
    "        model.train()\n",
    "        for i, batch in enumerate(train_loader):\n",
    "            # Run the forward pass\n",
    "            rna,labels = batch[\"rna\"], batch[\"label\"] \n",
    "            if torch.cuda.is_available():\n",
    "                rna = rna.cuda()\n",
    "                labels = labels.cuda()\n",
    "            outputs = model(rna)\n",
    "            labels = labels.long()\n",
    "            #print(outputs)\n",
    "            outputs = outputs.reshape(-1,2)\n",
    "            labels = labels.reshape(-1,2)\n",
    "            loss = loss_func(outputs, labels)\n",
    "            train_losses.append(loss.item())\n",
    "\n",
    "            # Backprop and perform Adam optimisation\n",
    "            optimizer.zero_grad()\n",
    "            loss.backward()\n",
    "            optimizer.step()\n",
    "\n",
    "            # Track the accuracy\n",
    "            total = labels.size(0)\n",
    "            _, predicted = torch.max(outputs.data, 1)\n",
    "            _, labels = torch.max(labels.data, 1)\n",
    "            correct = (predicted == labels).sum().item()\n",
    "            train_acc.append(correct / total)\n",
    "            if i % 100 == 0:\n",
    "                print('Epoch [{}/{}], Step [{}/{}], Loss: {:.4f}, Accuracy: {:.2f}%'\n",
    "                        .format(epoch + 1, num_epoch , i + 1, total_step, loss.item(),\n",
    "                                (correct / total) * 100))\n",
    "        test(model)"
   ]
  },
  {
   "cell_type": "code",
   "execution_count": 13,
   "metadata": {},
   "outputs": [
    {
     "name": "stdout",
     "output_type": "stream",
     "text": [
      "Epoch [1/20], Step [1/220], Loss: 0.5484, Accuracy: 53.12%\n",
      "Epoch [1/20], Step [101/220], Loss: 0.4456, Accuracy: 75.00%\n",
      "Epoch [1/20], Step [201/220], Loss: 0.4418, Accuracy: 59.38%\n",
      "Train Accuracy of the model on the train rna: 55.020652328728104 %\n",
      "Test Accuracy of the model on the test rna: 54.50180072028812 %\n",
      "Epoch [2/20], Step [1/220], Loss: 0.4040, Accuracy: 56.25%\n",
      "Epoch [2/20], Step [101/220], Loss: 0.3844, Accuracy: 59.38%\n",
      "Epoch [2/20], Step [201/220], Loss: 0.1083, Accuracy: 93.75%\n",
      "Train Accuracy of the model on the train rna: 85.94217347956132 %\n",
      "Test Accuracy of the model on the test rna: 82.11284513805522 %\n",
      "Epoch [3/20], Step [1/220], Loss: 0.1677, Accuracy: 90.62%\n",
      "Epoch [3/20], Step [101/220], Loss: 0.1701, Accuracy: 84.38%\n",
      "Epoch [3/20], Step [201/220], Loss: 0.1132, Accuracy: 93.75%\n",
      "Train Accuracy of the model on the train rna: 90.62811565304088 %\n",
      "Test Accuracy of the model on the test rna: 85.95438175270108 %\n",
      "Epoch [4/20], Step [1/220], Loss: 0.1936, Accuracy: 84.38%\n",
      "Epoch [4/20], Step [101/220], Loss: 0.1195, Accuracy: 90.62%\n",
      "Epoch [4/20], Step [201/220], Loss: 0.0909, Accuracy: 96.88%\n",
      "Train Accuracy of the model on the train rna: 91.52542372881356 %\n",
      "Test Accuracy of the model on the test rna: 83.07322929171669 %\n",
      "Epoch [5/20], Step [1/220], Loss: 0.1578, Accuracy: 87.50%\n",
      "Epoch [5/20], Step [101/220], Loss: 0.1708, Accuracy: 84.38%\n",
      "Epoch [5/20], Step [201/220], Loss: 0.0713, Accuracy: 96.88%\n",
      "Train Accuracy of the model on the train rna: 93.03518017376442 %\n",
      "Test Accuracy of the model on the test rna: 84.63385354141657 %\n",
      "Epoch [6/20], Step [1/220], Loss: 0.0504, Accuracy: 96.88%\n",
      "Epoch [6/20], Step [101/220], Loss: 0.2034, Accuracy: 81.25%\n",
      "Epoch [6/20], Step [201/220], Loss: 0.1186, Accuracy: 90.62%\n",
      "Train Accuracy of the model on the train rna: 91.98119925936477 %\n",
      "Test Accuracy of the model on the test rna: 82.953181272509 %\n",
      "Epoch [7/20], Step [1/220], Loss: 0.0443, Accuracy: 100.00%\n",
      "Epoch [7/20], Step [101/220], Loss: 0.1280, Accuracy: 87.50%\n",
      "Epoch [7/20], Step [201/220], Loss: 0.0560, Accuracy: 93.75%\n",
      "Train Accuracy of the model on the train rna: 95.42800170915824 %\n",
      "Test Accuracy of the model on the test rna: 85.47418967587035 %\n",
      "Epoch [8/20], Step [1/220], Loss: 0.0494, Accuracy: 96.88%\n",
      "Epoch [8/20], Step [101/220], Loss: 0.0429, Accuracy: 96.88%\n",
      "Epoch [8/20], Step [201/220], Loss: 0.0230, Accuracy: 100.00%\n",
      "Train Accuracy of the model on the train rna: 96.33955277026065 %\n",
      "Test Accuracy of the model on the test rna: 84.75390156062424 %\n",
      "Epoch [9/20], Step [1/220], Loss: 0.0774, Accuracy: 93.75%\n",
      "Epoch [9/20], Step [101/220], Loss: 0.0410, Accuracy: 96.88%\n",
      "Epoch [9/20], Step [201/220], Loss: 0.0442, Accuracy: 96.88%\n",
      "Train Accuracy of the model on the train rna: 96.63865546218487 %\n",
      "Test Accuracy of the model on the test rna: 84.75390156062424 %\n",
      "Epoch [10/20], Step [1/220], Loss: 0.0778, Accuracy: 93.75%\n",
      "Epoch [10/20], Step [101/220], Loss: 0.0715, Accuracy: 93.75%\n",
      "Epoch [10/20], Step [201/220], Loss: 0.0985, Accuracy: 93.75%\n",
      "Train Accuracy of the model on the train rna: 96.78108531548213 %\n",
      "Test Accuracy of the model on the test rna: 85.35414165666266 %\n",
      "Epoch [11/20], Step [1/220], Loss: 0.0996, Accuracy: 90.62%\n",
      "Epoch [11/20], Step [101/220], Loss: 0.0434, Accuracy: 96.88%\n",
      "Epoch [11/20], Step [201/220], Loss: 0.0612, Accuracy: 93.75%\n",
      "Train Accuracy of the model on the train rna: 94.97222617860703 %\n",
      "Test Accuracy of the model on the test rna: 82.11284513805522 %\n",
      "Epoch [12/20], Step [1/220], Loss: 0.0714, Accuracy: 93.75%\n",
      "Epoch [12/20], Step [101/220], Loss: 0.0828, Accuracy: 93.75%\n",
      "Epoch [12/20], Step [201/220], Loss: 0.0965, Accuracy: 90.62%\n",
      "Train Accuracy of the model on the train rna: 95.00071214926649 %\n",
      "Test Accuracy of the model on the test rna: 83.43337334933973 %\n",
      "Epoch [13/20], Step [1/220], Loss: 0.0113, Accuracy: 100.00%\n",
      "Epoch [13/20], Step [101/220], Loss: 0.0356, Accuracy: 96.88%\n",
      "Epoch [13/20], Step [201/220], Loss: 0.0126, Accuracy: 100.00%\n",
      "Train Accuracy of the model on the train rna: 97.2795898020225 %\n",
      "Test Accuracy of the model on the test rna: 85.71428571428571 %\n",
      "Epoch [14/20], Step [1/220], Loss: 0.1170, Accuracy: 90.62%\n",
      "Epoch [14/20], Step [101/220], Loss: 0.0143, Accuracy: 100.00%\n",
      "Epoch [14/20], Step [201/220], Loss: 0.0387, Accuracy: 96.88%\n",
      "Train Accuracy of the model on the train rna: 97.35080472867112 %\n",
      "Test Accuracy of the model on the test rna: 84.27370948379351 %\n",
      "Epoch [15/20], Step [1/220], Loss: 0.0132, Accuracy: 100.00%\n",
      "Epoch [15/20], Step [101/220], Loss: 0.0916, Accuracy: 93.75%\n",
      "Epoch [15/20], Step [201/220], Loss: 0.0223, Accuracy: 100.00%\n",
      "Train Accuracy of the model on the train rna: 96.58168352086597 %\n",
      "Test Accuracy of the model on the test rna: 83.43337334933973 %\n",
      "Epoch [16/20], Step [1/220], Loss: 0.0540, Accuracy: 96.88%\n",
      "Epoch [16/20], Step [101/220], Loss: 0.0805, Accuracy: 93.75%\n",
      "Epoch [16/20], Step [201/220], Loss: 0.0875, Accuracy: 93.75%\n",
      "Train Accuracy of the model on the train rna: 97.57869249394673 %\n",
      "Test Accuracy of the model on the test rna: 86.07442977190877 %\n",
      "Epoch [17/20], Step [1/220], Loss: 0.0235, Accuracy: 100.00%\n",
      "Epoch [17/20], Step [101/220], Loss: 0.0102, Accuracy: 100.00%\n",
      "Epoch [17/20], Step [201/220], Loss: 0.0415, Accuracy: 96.88%\n",
      "Train Accuracy of the model on the train rna: 97.29383278735223 %\n",
      "Test Accuracy of the model on the test rna: 85.47418967587035 %\n",
      "Epoch [18/20], Step [1/220], Loss: 0.0751, Accuracy: 93.75%\n",
      "Epoch [18/20], Step [101/220], Loss: 0.0361, Accuracy: 96.88%\n",
      "Epoch [18/20], Step [201/220], Loss: 0.0189, Accuracy: 100.00%\n",
      "Train Accuracy of the model on the train rna: 97.64990742059535 %\n",
      "Test Accuracy of the model on the test rna: 86.79471788715486 %\n",
      "Epoch [19/20], Step [1/220], Loss: 0.0427, Accuracy: 96.88%\n",
      "Epoch [19/20], Step [101/220], Loss: 0.0391, Accuracy: 96.88%\n",
      "Epoch [19/20], Step [201/220], Loss: 0.0515, Accuracy: 96.88%\n",
      "Train Accuracy of the model on the train rna: 97.50747756729811 %\n",
      "Test Accuracy of the model on the test rna: 85.35414165666266 %\n",
      "Epoch [20/20], Step [1/220], Loss: 0.0367, Accuracy: 96.88%\n",
      "Epoch [20/20], Step [101/220], Loss: 0.0863, Accuracy: 93.75%\n",
      "Epoch [20/20], Step [201/220], Loss: 0.0054, Accuracy: 100.00%\n",
      "Train Accuracy of the model on the train rna: 97.72112234724398 %\n",
      "Test Accuracy of the model on the test rna: 85.1140456182473 %\n"
     ]
    }
   ],
   "source": [
    "train_losses = []\n",
    "train_acc = []\n",
    "test_acc = []\n",
    "TrainaccTest = []\n",
    "TestaccTest = []\n",
    "train(trans)"
   ]
  },
  {
   "cell_type": "code",
   "execution_count": 14,
   "metadata": {},
   "outputs": [
    {
     "data": {
      "image/png": "[encoded data removed]",
      "text/plain": [
       "<Figure size 432x288 with 1 Axes>"
      ]
     },
     "metadata": {
      "needs_background": "light"
     },
     "output_type": "display_data"
    }
   ],
   "source": [
    "plt.plot(train_losses, label='Training loss')\n",
    "plt.plot(train_acc, label='Training accuracy')\n",
    "plt.legend()\n",
    "plt.show()"
   ]
  },
  {
   "cell_type": "code",
   "execution_count": 15,
   "metadata": {},
   "outputs": [
    {
     "data": {
      "image/png": "[encoded data removed]",
      "text/plain": [
       "<Figure size 432x288 with 1 Axes>"
      ]
     },
     "metadata": {
      "needs_background": "light"
     },
     "output_type": "display_data"
    }
   ],
   "source": [
    "plt.plot(train_losses, label='Training loss')\n",
    "plt.plot(train_acc, label='Training accuracy')\n",
    "plt.legend()\n",
    "plt.show()"
   ]
  },
  {
   "cell_type": "code",
   "execution_count": 17,
   "metadata": {},
   "outputs": [
    {
     "name": "stdout",
     "output_type": "stream",
     "text": [
      "torch.Size([833, 3271])\n",
      "torch.Size([833, 1])\n",
      "tensor([[ 0.9871, -0.0109],\n",
      "        [ 0.0024,  1.0125],\n",
      "        [ 0.9860, -0.0133],\n",
      "        ...,\n",
      "        [ 0.9835, -0.0132],\n",
      "        [ 0.0316,  0.9830],\n",
      "        [ 0.9826, -0.0112]], device='cuda:0', dtype=torch.float64)\n"
     ]
    },
    {
     "data": {
      "image/png": "[encoded data removed]",
      "text/plain": [
       "<Figure size 432x288 with 1 Axes>"
      ]
     },
     "metadata": {
      "needs_background": "light"
     },
     "output_type": "display_data"
    },
    {
     "data": {
      "image/png": "[encoded data removed]",
      "text/plain": [
       "<Figure size 432x288 with 1 Axes>"
      ]
     },
     "metadata": {
      "needs_background": "light"
     },
     "output_type": "display_data"
    },
    {
     "name": "stdout",
     "output_type": "stream",
     "text": [
      "AUPRC = 0.88\n",
      "f1_score = 0.83\n"
     ]
    }
   ],
   "source": [
    "samplesdf = pd.DataFrame()\n",
    "samplesdf = pd.read_csv(xtest,compression =\"gzip\",delimiter=',',header=0)\n",
    "x_test = samplesdf.to_numpy()\n",
    "\n",
    "samplesdf = pd.DataFrame()\n",
    "samplesdf = pd.read_csv(ytest,compression =\"gzip\",delimiter=',', header=0)\n",
    "y_test = samplesdf.to_numpy()\n",
    "\n",
    "x_test = torch.from_numpy(x_test)\n",
    "y_test = torch.from_numpy(y_test)\n",
    "print(x_test.shape)\n",
    "print(y_test.shape)\n",
    "with torch.no_grad():\n",
    "    trans.eval()\n",
    "    if torch.cuda.is_available():\n",
    "        x_test = x_test.cuda()\n",
    "        y_test = y_test.cuda()\n",
    "    x_test = x_test.reshape(-1,1,3271)\n",
    "    outputs = trans(x_test)\n",
    "    out = outputs.data.reshape(-1,2)\n",
    "    print(out)\n",
    "    predicted = np.zeros((len(out)))\n",
    "    i = 0\n",
    "    for x in out:\n",
    "        predicted[i] = x[1]\n",
    "        i = i + 1\n",
    "    y_test = y_test.cpu()\n",
    "    y_test = y_test.reshape(-1)\n",
    "    fpr, tpr, _ = roc_curve(y_test,predicted)\n",
    "    roc_auc = auc(fpr,tpr)\n",
    "    plt.figure()\n",
    "    lw = 2\n",
    "    plt.plot(fpr,tpr, color='darkorange',\n",
    "             lw=lw, label='ROC curve (area = %0.2f)' % roc_auc)\n",
    "    plt.plot([0, 1], [0, 1], color='navy', lw=lw, linestyle='--')\n",
    "    plt.xlim([0.0, 1.0])\n",
    "    plt.ylim([0.0, 1.05])\n",
    "    plt.xlabel('False Positive Rate')\n",
    "    plt.ylabel('True Positive Rate')\n",
    "    plt.title('AUROC curve for ISAB(ISAB(X))')\n",
    "    plt.legend(loc=\"lower right\")\n",
    "    plt.show()\n",
    "    precision, recall, _ = precision_recall_curve(y_test,predicted)\n",
    "    prc_auc = auc(recall,precision)\n",
    "    plt.plot(recall,precision, color='darkorange',\n",
    "             lw=lw, label='PRC curve (area = %0.2f)' % prc_auc)\n",
    "    plt.xlim([0.0, 1.0])\n",
    "    plt.ylim([0.0, 1.05])\n",
    "    plt.xlabel('Recall')\n",
    "    plt.ylabel('Precision')\n",
    "    plt.title('AUPRC curve for ISAB(ISAB(X))')\n",
    "    plt.legend(loc=\"lower right\")\n",
    "    plt.show()\n",
    "    print(\"AUPRC = %.02f\"% prc_auc)\n",
    "    ss = np.zeros((len(predicted)))\n",
    "    i = 0\n",
    "    for x in predicted:\n",
    "        if x >= 0.5:\n",
    "            ss[i] = 1\n",
    "        else:\n",
    "            ss[i] = 0\n",
    "        i = i + 1\n",
    "    f1s = f1_score(y_test,ss)\n",
    "    print(\"f1_score = %.02f\"% f1s)\n",
    "    df = pd.DataFrame(y_test)\n",
    "    df.to_csv(r\"data/isabisablb.csv.gz\",index=False,sep=\",\",compression=\"gzip\")\n",
    "    df = pd.DataFrame(predicted)\n",
    "    df.to_csv(r\"data/isabisabpredict.csv.gz\",index=False,sep=\",\",compression=\"gzip\")\n"
   ]
  },
  {
   "cell_type": "code",
   "execution_count": null,
   "metadata": {},
   "outputs": [],
   "source": []
  }
 ],
 "metadata": {
  "kernelspec": {
   "display_name": "Python 3",
   "language": "python",
   "name": "python3"
  },
  "language_info": {
   "codemirror_mode": {
    "name": "ipython",
    "version": 3
   },
   "file_extension": ".py",
   "mimetype": "text/x-python",
   "name": "python",
   "nbconvert_exporter": "python",
   "pygments_lexer": "ipython3",
   "version": "3.8.3"
  }
 },
 "nbformat": 4,
 "nbformat_minor": 2
}
