{
 "cells": [
  {
   "cell_type": "code",
   "execution_count": 1,
   "metadata": {},
   "outputs": [],
   "source": [
    "# importing the libraries\n",
    "import pandas as pd\n",
    "import numpy as np\n",
    "import os\n",
    "import skorch\n",
    "\n",
    "# for reading and displaying images\n",
    "from skimage.io import imread\n",
    "import matplotlib.pyplot as plt\n",
    "%matplotlib inline\n",
    "\n",
    "# for creating validation set\n",
    "from sklearn.model_selection import train_test_split\n",
    "\n",
    "# for evaluating the model\n",
    "from sklearn.metrics import accuracy_score\n",
    "from tqdm import tqdm\n",
    "\n",
    "# PyTorch libraries and modules\n",
    "import torch\n",
    "from torch.autograd import Variable\n",
    "import torch.nn as nn\n",
    "from torch.optim import Adam, SGD\n",
    "from torch.utils.data import Dataset, DataLoader\n",
    "\n",
    "from sklearn.metrics import *\n",
    "#Transformers\n",
    "from module import *"
   ]
  },
  {
   "cell_type": "code",
   "execution_count": 2,
   "metadata": {},
   "outputs": [],
   "source": [
    "# Load training data set (small amount to test if it works first)\n",
    "\n",
    "xtrain = r\"data/training_sample_4s.csv.gz\"\n",
    "ytrain = r\"data/training_label_4s.csv.gz\"\n",
    "xtest = r\"data/testing_sample2_4s.csv.gz\"\n",
    "ytest = r\"data/testing_label_4s.csv.gz\"\n"
   ]
  },
  {
   "cell_type": "code",
   "execution_count": 3,
   "metadata": {},
   "outputs": [
    {
     "data": {
      "text/plain": [
       "(3863, 3158)"
      ]
     },
     "execution_count": 3,
     "metadata": {},
     "output_type": "execute_result"
    }
   ],
   "source": [
    "#check balance\n",
    "samplesdf = pd.DataFrame()\n",
    "for df in  pd.read_csv(ytrain,compression =\"gzip\",delimiter=',', chunksize = 10000, header=0):\n",
    "    samplesdf = samplesdf.append(df)\n",
    "y_train = samplesdf.to_numpy()\n",
    "\n",
    "num0 = 0\n",
    "num1 = 0\n",
    "for x in y_train:\n",
    "    if x == 0:\n",
    "        num0 = num0 + 1\n",
    "    else:\n",
    "        num1 = num1 + 1\n",
    "num0,num1 #checking if it is balanced"
   ]
  },
  {
   "cell_type": "code",
   "execution_count": 26,
   "metadata": {
    "scrolled": true
   },
   "outputs": [
    {
     "name": "stdout",
     "output_type": "stream",
     "text": [
      "(7021, 3271)\n"
     ]
    }
   ],
   "source": [
    "df = pd.read_csv(xtrain,compression =\"gzip\",delimiter=',', header=0)\n",
    "x_train = df.to_numpy()\n",
    "print(x_train.shape)"
   ]
  },
  {
   "cell_type": "code",
   "execution_count": 14,
   "metadata": {},
   "outputs": [],
   "source": [
    "class Dataset(Dataset):\n",
    "\n",
    "    def __init__(self,samples,labels):\n",
    "\n",
    "        self.data = pd.read_csv(samples,compression =\"gzip\",delimiter=',', header=0)\n",
    "        self.label = pd.read_csv(labels,compression =\"gzip\",delimiter=',', header=0)\n",
    "        \n",
    "    def __len__(self):\n",
    "        return len(self.data)\n",
    "\n",
    "    def __getitem__(self, idx):\n",
    "        if torch.is_tensor(idx):\n",
    "            idx = idx.tolist()\n",
    "\n",
    "        rna = self.data.iloc[idx]\n",
    "        seplb = self.label.iloc[idx]\n",
    "        rna = np.array([rna])\n",
    "        seplb = np.array([seplb])\n",
    "        rna = rna.astype('double').reshape(-1,3271)\n",
    "        i = 0\n",
    "        d = np.zeros((len(seplb),2))\n",
    "        for x in seplb:\n",
    "            if x == 0:\n",
    "                d[i] = [1,0]\n",
    "            else:\n",
    "                d[i] = [0,1]\n",
    "        sample = {'rna': rna, 'label': d}\n",
    "\n",
    "        return sample"
   ]
  },
  {
   "cell_type": "code",
   "execution_count": 15,
   "metadata": {},
   "outputs": [],
   "source": [
    "train_dataset = Dataset(samples=xtrain,labels=ytrain)\n",
    "test_dataset = Dataset(samples = xtest,labels = ytest)"
   ]
  },
  {
   "cell_type": "code",
   "execution_count": 16,
   "metadata": {},
   "outputs": [],
   "source": [
    "# Hyper Parameters\n",
    "EPOCH = 20             # train the training data n times, to save time, we just train 1 epoch\n",
    "LR = 0.0001              # learning rate\n",
    "batch_size = 32\n",
    "wd = LR / EPOCH"
   ]
  },
  {
   "cell_type": "code",
   "execution_count": 17,
   "metadata": {},
   "outputs": [],
   "source": [
    "train_loader = DataLoader(dataset=train_dataset, batch_size=batch_size, shuffle=True)\n",
    "test_loader = DataLoader(dataset=test_dataset, batch_size=batch_size, shuffle=False)"
   ]
  },
  {
   "cell_type": "code",
   "execution_count": 18,
   "metadata": {},
   "outputs": [],
   "source": [
    "class SmallSetTransformer(nn.Module):\n",
    "    def __init__(self,):\n",
    "        super().__init__()\n",
    "        self.enc = nn.Sequential(\n",
    "            SAB(dim_in=3271, dim_out=256, num_heads=4),\n",
    "            SAB(dim_in=256, dim_out=256, num_heads=4),\n",
    "        )\n",
    "        self.dec = nn.Sequential(\n",
    "            PMA(dim=256, num_heads=4, num_seeds=1),\n",
    "            nn.Dropout(p=0.2),\n",
    "            nn.Linear(in_features=256, out_features=2),\n",
    "        )\n",
    "\n",
    "    def forward(self, x):\n",
    "        x = self.enc(x)\n",
    "        x = self.dec(x)\n",
    "        return x.squeeze(-1)"
   ]
  },
  {
   "cell_type": "code",
   "execution_count": 19,
   "metadata": {},
   "outputs": [
    {
     "name": "stdout",
     "output_type": "stream",
     "text": [
      "SmallSetTransformer(\n",
      "  (enc): Sequential(\n",
      "    (0): SAB(\n",
      "      (mab): MAB(\n",
      "        (fc_q): Linear(in_features=3271, out_features=256, bias=True)\n",
      "        (fc_k): Linear(in_features=3271, out_features=256, bias=True)\n",
      "        (fc_v): Linear(in_features=3271, out_features=256, bias=True)\n",
      "        (fc_o): Linear(in_features=256, out_features=256, bias=True)\n",
      "      )\n",
      "    )\n",
      "    (1): SAB(\n",
      "      (mab): MAB(\n",
      "        (fc_q): Linear(in_features=256, out_features=256, bias=True)\n",
      "        (fc_k): Linear(in_features=256, out_features=256, bias=True)\n",
      "        (fc_v): Linear(in_features=256, out_features=256, bias=True)\n",
      "        (fc_o): Linear(in_features=256, out_features=256, bias=True)\n",
      "      )\n",
      "    )\n",
      "  )\n",
      "  (dec): Sequential(\n",
      "    (0): PMA(\n",
      "      (mab): MAB(\n",
      "        (fc_q): Linear(in_features=256, out_features=256, bias=True)\n",
      "        (fc_k): Linear(in_features=256, out_features=256, bias=True)\n",
      "        (fc_v): Linear(in_features=256, out_features=256, bias=True)\n",
      "        (fc_o): Linear(in_features=256, out_features=256, bias=True)\n",
      "      )\n",
      "    )\n",
      "    (1): Dropout(p=0.2, inplace=False)\n",
      "    (2): Linear(in_features=256, out_features=2, bias=True)\n",
      "  )\n",
      ")\n"
     ]
    }
   ],
   "source": [
    "trans = SmallSetTransformer()\n",
    "optimizer = torch.optim.Adam(trans.parameters(), lr=LR)   \n",
    "loss_func = nn.L1Loss()                      \n",
    "if torch.cuda.is_available():\n",
    "    loss_func = loss_func.cuda()\n",
    "    trans = trans.cuda()\n",
    "trans = trans.double()\n",
    "print(trans)"
   ]
  },
  {
   "cell_type": "code",
   "execution_count": 20,
   "metadata": {},
   "outputs": [],
   "source": [
    "def test(model):\n",
    "    model.eval()\n",
    "    with torch.no_grad():\n",
    "        correct = 0\n",
    "        total = 0\n",
    "        for batch in train_loader:\n",
    "            rna,labels = batch[\"rna\"], batch[\"label\"] \n",
    "            if torch.cuda.is_available():\n",
    "                rna = rna.cuda()\n",
    "                labels = labels.cuda()\n",
    "            labels = labels.reshape(-1,2)\n",
    "            outputs = model(rna)\n",
    "            outputs = outputs.reshape(-1,2)\n",
    "            _, predicted = torch.max(outputs.data, 1)\n",
    "            _, labels = torch.max(labels.data, 1)\n",
    "            total += labels.size(0)\n",
    "            correct += (predicted == labels).sum().item()\n",
    "        TrainaccTest.append(correct/total)\n",
    "           # print(total,correct)\n",
    "\n",
    "        print('Train Accuracy of the model on the train rna: {} %'.format((correct / total) * 100))\n",
    "    with torch.no_grad():\n",
    "        correct = 0\n",
    "        total = 0\n",
    "        for batch in test_loader:\n",
    "            rna,labels = batch[\"rna\"], batch[\"label\"] \n",
    "            if torch.cuda.is_available():\n",
    "                rna = rna.cuda()\n",
    "                labels = labels.cuda()\n",
    "            labels = labels.reshape(-1,2)\n",
    "            outputs = model(rna)\n",
    "            outputs = outputs.reshape(-1,2)\n",
    "            _, predicted = torch.max(outputs.data, 1)\n",
    "            _, labels = torch.max(labels.data, 1)\n",
    "            total += labels.size(0)\n",
    "            correct += (predicted == labels).sum().item()\n",
    "        TestaccTest.append(correct/total)\n",
    "    #print(total,correct)\n",
    "\n",
    "        print('Test Accuracy of the model on the test rna: {} %'.format((correct / total) * 100))\n",
    "\n"
   ]
  },
  {
   "cell_type": "code",
   "execution_count": 21,
   "metadata": {
    "scrolled": false
   },
   "outputs": [],
   "source": [
    "def train(model): \n",
    "    total_step = len(train_loader)\n",
    "    num_epoch = EPOCH\n",
    "    for epoch in range(num_epoch):\n",
    "        model.train()\n",
    "        for i, batch in enumerate(train_loader):\n",
    "            # Run the forward pass\n",
    "            rna,labels = batch[\"rna\"], batch[\"label\"] \n",
    "            if torch.cuda.is_available():\n",
    "                rna = rna.cuda()\n",
    "                labels = labels.cuda()\n",
    "            outputs = model(rna)\n",
    "            labels = labels.long()\n",
    "            #print(outputs)\n",
    "            outputs = outputs.reshape(-1,2)\n",
    "            labels = labels.reshape(-1,2)\n",
    "            loss = loss_func(outputs, labels)\n",
    "            train_losses.append(loss.item())\n",
    "\n",
    "            # Backprop and perform Adam optimisation\n",
    "            optimizer.zero_grad()\n",
    "            loss.backward()\n",
    "            optimizer.step()\n",
    "\n",
    "            # Track the accuracy\n",
    "            total = labels.size(0)\n",
    "            _, predicted = torch.max(outputs.data, 1)\n",
    "            _, labels = torch.max(labels.data, 1)\n",
    "            correct = (predicted == labels).sum().item()\n",
    "            train_acc.append(correct / total)\n",
    "            if i % 100 == 0:\n",
    "                print('Epoch [{}/{}], Step [{}/{}], Loss: {:.4f}, Accuracy: {:.2f}%'\n",
    "                        .format(epoch + 1, num_epoch , i + 1, total_step, loss.item(),\n",
    "                                (correct / total) * 100))\n",
    "        test(model)"
   ]
  },
  {
   "cell_type": "code",
   "execution_count": 22,
   "metadata": {},
   "outputs": [
    {
     "name": "stdout",
     "output_type": "stream",
     "text": [
      "Epoch [1/20], Step [1/220], Loss: 0.7658, Accuracy: 43.75%\n",
      "Epoch [1/20], Step [101/220], Loss: 0.3437, Accuracy: 78.12%\n",
      "Epoch [1/20], Step [201/220], Loss: 0.3442, Accuracy: 71.88%\n",
      "Train Accuracy of the model on the train rna: 86.69705170203675 %\n",
      "Test Accuracy of the model on the test rna: 82.47298919567827 %\n",
      "Epoch [2/20], Step [1/220], Loss: 0.3696, Accuracy: 75.00%\n",
      "Epoch [2/20], Step [101/220], Loss: 0.3237, Accuracy: 78.12%\n",
      "Epoch [2/20], Step [201/220], Loss: 0.3317, Accuracy: 90.62%\n",
      "Train Accuracy of the model on the train rna: 89.53140578265204 %\n",
      "Test Accuracy of the model on the test rna: 83.79351740696278 %\n",
      "Epoch [3/20], Step [1/220], Loss: 0.2248, Accuracy: 87.50%\n",
      "Epoch [3/20], Step [101/220], Loss: 0.2501, Accuracy: 87.50%\n",
      "Epoch [3/20], Step [201/220], Loss: 0.2382, Accuracy: 96.88%\n",
      "Train Accuracy of the model on the train rna: 92.7360774818402 %\n",
      "Test Accuracy of the model on the test rna: 85.95438175270108 %\n",
      "Epoch [4/20], Step [1/220], Loss: 0.1884, Accuracy: 96.88%\n",
      "Epoch [4/20], Step [101/220], Loss: 0.2990, Accuracy: 87.50%\n",
      "Epoch [4/20], Step [201/220], Loss: 0.2107, Accuracy: 93.75%\n",
      "Train Accuracy of the model on the train rna: 93.5906566016237 %\n",
      "Test Accuracy of the model on the test rna: 84.99399759903962 %\n",
      "Epoch [5/20], Step [1/220], Loss: 0.2287, Accuracy: 90.62%\n",
      "Epoch [5/20], Step [101/220], Loss: 0.2162, Accuracy: 93.75%\n",
      "Epoch [5/20], Step [201/220], Loss: 0.2647, Accuracy: 93.75%\n",
      "Train Accuracy of the model on the train rna: 95.21435692921236 %\n",
      "Test Accuracy of the model on the test rna: 85.47418967587035 %\n",
      "Epoch [6/20], Step [1/220], Loss: 0.2371, Accuracy: 90.62%\n",
      "Epoch [6/20], Step [101/220], Loss: 0.2297, Accuracy: 87.50%\n",
      "Epoch [6/20], Step [201/220], Loss: 0.1914, Accuracy: 93.75%\n",
      "Train Accuracy of the model on the train rna: 96.28258082894175 %\n",
      "Test Accuracy of the model on the test rna: 84.75390156062424 %\n",
      "Epoch [7/20], Step [1/220], Loss: 0.1640, Accuracy: 93.75%\n",
      "Epoch [7/20], Step [101/220], Loss: 0.1908, Accuracy: 90.62%\n",
      "Epoch [7/20], Step [201/220], Loss: 0.1809, Accuracy: 96.88%\n",
      "Train Accuracy of the model on the train rna: 95.31405782652044 %\n",
      "Test Accuracy of the model on the test rna: 84.27370948379351 %\n",
      "Epoch [8/20], Step [1/220], Loss: 0.1232, Accuracy: 96.88%\n",
      "Epoch [8/20], Step [101/220], Loss: 0.1379, Accuracy: 96.88%\n",
      "Epoch [8/20], Step [201/220], Loss: 0.1474, Accuracy: 93.75%\n",
      "Train Accuracy of the model on the train rna: 97.93476712718986 %\n",
      "Test Accuracy of the model on the test rna: 85.95438175270108 %\n",
      "Epoch [9/20], Step [1/220], Loss: 0.1474, Accuracy: 96.88%\n",
      "Epoch [9/20], Step [101/220], Loss: 0.1143, Accuracy: 100.00%\n",
      "Epoch [9/20], Step [201/220], Loss: 0.1412, Accuracy: 93.75%\n",
      "Train Accuracy of the model on the train rna: 98.17689787779518 %\n",
      "Test Accuracy of the model on the test rna: 86.5546218487395 %\n",
      "Epoch [10/20], Step [1/220], Loss: 0.0987, Accuracy: 100.00%\n",
      "Epoch [10/20], Step [101/220], Loss: 0.0864, Accuracy: 96.88%\n",
      "Epoch [10/20], Step [201/220], Loss: 0.0797, Accuracy: 100.00%\n",
      "Train Accuracy of the model on the train rna: 98.37629967241133 %\n",
      "Test Accuracy of the model on the test rna: 85.8343337334934 %\n",
      "Epoch [11/20], Step [1/220], Loss: 0.0792, Accuracy: 100.00%\n",
      "Epoch [11/20], Step [101/220], Loss: 0.1189, Accuracy: 96.88%\n",
      "Epoch [11/20], Step [201/220], Loss: 0.0832, Accuracy: 100.00%\n",
      "Train Accuracy of the model on the train rna: 98.83207520296254 %\n",
      "Test Accuracy of the model on the test rna: 86.91476590636255 %\n",
      "Epoch [12/20], Step [1/220], Loss: 0.0733, Accuracy: 100.00%\n",
      "Epoch [12/20], Step [101/220], Loss: 0.0788, Accuracy: 100.00%\n",
      "Epoch [12/20], Step [201/220], Loss: 0.1025, Accuracy: 96.88%\n",
      "Train Accuracy of the model on the train rna: 98.44751459905996 %\n",
      "Test Accuracy of the model on the test rna: 83.55342136854742 %\n",
      "Epoch [13/20], Step [1/220], Loss: 0.0825, Accuracy: 100.00%\n",
      "Epoch [13/20], Step [101/220], Loss: 0.0737, Accuracy: 100.00%\n",
      "Epoch [13/20], Step [201/220], Loss: 0.0679, Accuracy: 100.00%\n",
      "Train Accuracy of the model on the train rna: 98.9175331149409 %\n",
      "Test Accuracy of the model on the test rna: 85.8343337334934 %\n",
      "Epoch [14/20], Step [1/220], Loss: 0.0693, Accuracy: 100.00%\n",
      "Epoch [14/20], Step [101/220], Loss: 0.0758, Accuracy: 100.00%\n",
      "Epoch [14/20], Step [201/220], Loss: 0.0651, Accuracy: 100.00%\n",
      "Train Accuracy of the model on the train rna: 98.61843042301666 %\n",
      "Test Accuracy of the model on the test rna: 85.95438175270108 %\n",
      "Epoch [15/20], Step [1/220], Loss: 0.0963, Accuracy: 96.88%\n",
      "Epoch [15/20], Step [101/220], Loss: 0.0720, Accuracy: 100.00%\n",
      "Epoch [15/20], Step [201/220], Loss: 0.1072, Accuracy: 100.00%\n",
      "Train Accuracy of the model on the train rna: 98.7608602763139 %\n",
      "Test Accuracy of the model on the test rna: 84.87394957983193 %\n",
      "Epoch [16/20], Step [1/220], Loss: 0.0970, Accuracy: 96.88%\n",
      "Epoch [16/20], Step [101/220], Loss: 0.0595, Accuracy: 100.00%\n",
      "Epoch [16/20], Step [201/220], Loss: 0.0692, Accuracy: 100.00%\n",
      "Train Accuracy of the model on the train rna: 99.23087879219484 %\n",
      "Test Accuracy of the model on the test rna: 86.43457382953181 %\n",
      "Epoch [17/20], Step [1/220], Loss: 0.0962, Accuracy: 93.75%\n",
      "Epoch [17/20], Step [101/220], Loss: 0.0565, Accuracy: 100.00%\n",
      "Epoch [17/20], Step [201/220], Loss: 0.1143, Accuracy: 93.75%\n",
      "Train Accuracy of the model on the train rna: 98.96026207093007 %\n",
      "Test Accuracy of the model on the test rna: 85.1140456182473 %\n",
      "Epoch [18/20], Step [1/220], Loss: 0.0844, Accuracy: 96.88%\n",
      "Epoch [18/20], Step [101/220], Loss: 0.0636, Accuracy: 100.00%\n",
      "Epoch [18/20], Step [201/220], Loss: 0.0584, Accuracy: 100.00%\n",
      "Train Accuracy of the model on the train rna: 99.15966386554622 %\n",
      "Test Accuracy of the model on the test rna: 85.71428571428571 %\n",
      "Epoch [19/20], Step [1/220], Loss: 0.0536, Accuracy: 100.00%\n",
      "Epoch [19/20], Step [101/220], Loss: 0.0537, Accuracy: 100.00%\n",
      "Epoch [19/20], Step [201/220], Loss: 0.0930, Accuracy: 96.88%\n",
      "Train Accuracy of the model on the train rna: 99.01723401224896 %\n",
      "Test Accuracy of the model on the test rna: 85.23409363745498 %\n",
      "Epoch [20/20], Step [1/220], Loss: 0.0622, Accuracy: 96.88%\n",
      "Epoch [20/20], Step [101/220], Loss: 0.0750, Accuracy: 100.00%\n",
      "Epoch [20/20], Step [201/220], Loss: 0.0566, Accuracy: 100.00%\n",
      "Train Accuracy of the model on the train rna: 99.30209371884347 %\n",
      "Test Accuracy of the model on the test rna: 86.5546218487395 %\n"
     ]
    }
   ],
   "source": [
    "train_losses = []\n",
    "train_acc = []\n",
    "test_acc = []\n",
    "TrainaccTest = []\n",
    "TestaccTest = []\n",
    "train(trans)"
   ]
  },
  {
   "cell_type": "code",
   "execution_count": 23,
   "metadata": {},
   "outputs": [
    {
     "data": {
      "image/png": "[encoded data removed]",
      "text/plain": [
       "<Figure size 432x288 with 1 Axes>"
      ]
     },
     "metadata": {
      "needs_background": "light"
     },
     "output_type": "display_data"
    }
   ],
   "source": [
    "plt.plot(train_losses, label='Training loss')\n",
    "plt.plot(train_acc, label='Training accuracy')\n",
    "plt.legend()\n",
    "plt.show()"
   ]
  },
  {
   "cell_type": "code",
   "execution_count": 24,
   "metadata": {},
   "outputs": [
    {
     "data": {
      "image/png": "[encoded data removed]",
      "text/plain": [
       "<Figure size 432x288 with 1 Axes>"
      ]
     },
     "metadata": {
      "needs_background": "light"
     },
     "output_type": "display_data"
    }
   ],
   "source": [
    "plt.plot(TrainaccTest, label='Training accuracy')\n",
    "plt.plot(TestaccTest, label='Testing accuracy')\n",
    "plt.legend()\n",
    "plt.show()"
   ]
  },
  {
   "cell_type": "code",
   "execution_count": 27,
   "metadata": {},
   "outputs": [
    {
     "name": "stdout",
     "output_type": "stream",
     "text": [
      "torch.Size([833, 3271])\n",
      "torch.Size([833, 1])\n",
      "tensor([[ 9.8293e-01,  3.1362e-02],\n",
      "        [-2.4887e-04,  9.4997e-01],\n",
      "        [ 1.0509e+00,  8.6701e-03],\n",
      "        ...,\n",
      "        [-3.6880e-02,  1.0427e+00],\n",
      "        [ 2.3974e-01,  6.9313e-01],\n",
      "        [-2.7969e-02,  1.0401e+00]], device='cuda:0', dtype=torch.float64)\n"
     ]
    },
    {
     "data": {
      "image/png": "[encoded data removed]",
      "text/plain": [
       "<Figure size 432x288 with 1 Axes>"
      ]
     },
     "metadata": {
      "needs_background": "light"
     },
     "output_type": "display_data"
    },
    {
     "data": {
      "image/png": "[encoded data removed]",
      "text/plain": [
       "<Figure size 432x288 with 1 Axes>"
      ]
     },
     "metadata": {
      "needs_background": "light"
     },
     "output_type": "display_data"
    },
    {
     "name": "stdout",
     "output_type": "stream",
     "text": [
      "AUPRC = 0.87\n",
      "f1_score = 0.86\n"
     ]
    }
   ],
   "source": [
    "samplesdf = pd.DataFrame()\n",
    "samplesdf = pd.read_csv(xtest,compression =\"gzip\",delimiter=',',header=0)\n",
    "x_test = samplesdf.to_numpy()\n",
    "\n",
    "samplesdf = pd.DataFrame()\n",
    "samplesdf = pd.read_csv(ytest,compression =\"gzip\",delimiter=',', header=0)\n",
    "y_test = samplesdf.to_numpy()\n",
    "\n",
    "x_test = torch.from_numpy(x_test)\n",
    "y_test = torch.from_numpy(y_test)\n",
    "print(x_test.shape)\n",
    "print(y_test.shape)\n",
    "with torch.no_grad():\n",
    "    trans.eval()\n",
    "    if torch.cuda.is_available():\n",
    "        x_test = x_test.cuda()\n",
    "        y_test = y_test.cuda()\n",
    "    x_test = x_test.reshape(-1,1,3271)\n",
    "    outputs = trans(x_test)\n",
    "    out = outputs.data.reshape(-1,2)\n",
    "    print(out)\n",
    "    predicted = np.zeros((len(out)))\n",
    "    i = 0\n",
    "    for x in out:\n",
    "        predicted[i] = x[1]\n",
    "        i = i + 1\n",
    "    y_test = y_test.cpu()\n",
    "    y_test = y_test.reshape(-1)\n",
    "    fpr, tpr, _ = roc_curve(y_test,predicted)\n",
    "    roc_auc = auc(fpr,tpr)\n",
    "    plt.figure()\n",
    "    lw = 2\n",
    "    plt.plot(fpr,tpr, color='darkorange',\n",
    "             lw=lw, label='ROC curve (area = %0.2f)' % roc_auc)\n",
    "    plt.plot([0, 1], [0, 1], color='navy', lw=lw, linestyle='--')\n",
    "    plt.xlim([0.0, 1.0])\n",
    "    plt.ylim([0.0, 1.05])\n",
    "    plt.xlabel('False Positive Rate')\n",
    "    plt.ylabel('True Positive Rate')\n",
    "    plt.title('AUROC curve for SAB(SAB(X))')\n",
    "    plt.legend(loc=\"lower right\")\n",
    "    plt.show()\n",
    "    precision, recall, _ = precision_recall_curve(y_test,predicted)\n",
    "    prc_auc = auc(recall,precision)\n",
    "    plt.plot(recall,precision, color='darkorange',\n",
    "             lw=lw, label='PRC curve (area = %0.2f)' % prc_auc)\n",
    "    plt.xlim([0.0, 1.0])\n",
    "    plt.ylim([0.0, 1.05])\n",
    "    plt.xlabel('Recall')\n",
    "    plt.ylabel('Precision')\n",
    "    plt.title('AUPRC curve for SAB(SAB(X))')\n",
    "    plt.legend(loc=\"lower right\")\n",
    "    plt.show()\n",
    "    print(\"AUPRC = %.02f\"% prc_auc)\n",
    "    ss = np.zeros((len(predicted)))\n",
    "    i = 0\n",
    "    for x in predicted:\n",
    "        if x >= 0.5:\n",
    "            ss[i] = 1\n",
    "        else:\n",
    "            ss[i] = 0\n",
    "        i = i + 1\n",
    "    f1s = f1_score(y_test,ss)\n",
    "    print(\"f1_score = %.02f\"% f1s)\n",
    "    df = pd.DataFrame(y_test)\n",
    "    df.to_csv(r\"data/sabsablb.csv.gz\",index=False,sep=\",\",compression=\"gzip\")\n",
    "    df = pd.DataFrame(predicted)\n",
    "    df.to_csv(r\"data/sabsabpredict.csv.gz\",index=False,sep=\",\",compression=\"gzip\")\n"
   ]
  },
  {
   "cell_type": "code",
   "execution_count": null,
   "metadata": {},
   "outputs": [],
   "source": [
    "len(TestaccTest)"
   ]
  }
 ],
 "metadata": {
  "kernelspec": {
   "display_name": "Python 3",
   "language": "python",
   "name": "python3"
  },
  "language_info": {
   "codemirror_mode": {
    "name": "ipython",
    "version": 3
   },
   "file_extension": ".py",
   "mimetype": "text/x-python",
   "name": "python",
   "nbconvert_exporter": "python",
   "pygments_lexer": "ipython3",
   "version": "3.8.3"
  }
 },
 "nbformat": 4,
 "nbformat_minor": 2
}
