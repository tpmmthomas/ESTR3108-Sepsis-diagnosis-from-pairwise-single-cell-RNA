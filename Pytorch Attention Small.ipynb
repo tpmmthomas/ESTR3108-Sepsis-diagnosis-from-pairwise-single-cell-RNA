{
 "cells": [
  {
   "cell_type": "code",
   "execution_count": 19,
   "metadata": {},
   "outputs": [],
   "source": [
    "# importing the libraries\n",
    "import pandas as pd\n",
    "import numpy as np\n",
    "import os\n",
    "import skorch\n",
    "\n",
    "# for reading and displaying images\n",
    "from skimage.io import imread\n",
    "import matplotlib.pyplot as plt\n",
    "%matplotlib inline\n",
    "\n",
    "# for creating validation set\n",
    "from sklearn.model_selection import train_test_split\n",
    "\n",
    "# for evaluating the model\n",
    "from sklearn.metrics import accuracy_score\n",
    "from tqdm import tqdm\n",
    "\n",
    "# PyTorch libraries and modules\n",
    "import torch\n",
    "from torch.autograd import Variable\n",
    "import torch.nn as nn\n",
    "from torch.optim import Adam, SGD\n",
    "from torch.utils.data import Dataset, DataLoader\n",
    "\n",
    "from sklearn.metrics import *\n",
    "#Transformers\n",
    "from module import *"
   ]
  },
  {
   "cell_type": "code",
   "execution_count": 2,
   "metadata": {},
   "outputs": [],
   "source": [
    "# Load training data set (small amount to test if it works first)\n",
    "\n",
    "xtrain = r\"data/training_sample_NoSparse.csv.gz\"\n",
    "ytrain = r\"data/training_label_NoSparse.csv.gz\"\n",
    "xtest = r\"data/testing_sample_NoSparse.csv.gz\"\n",
    "ytest = r\"data/testing_label_NoSparse.csv.gz\"\n"
   ]
  },
  {
   "cell_type": "code",
   "execution_count": 3,
   "metadata": {},
   "outputs": [
    {
     "data": {
      "text/plain": [
       "(15161, 14094)"
      ]
     },
     "execution_count": 3,
     "metadata": {},
     "output_type": "execute_result"
    }
   ],
   "source": [
    "#check balance\n",
    "samplesdf = pd.DataFrame()\n",
    "for df in  pd.read_csv(ytrain,compression =\"gzip\",delimiter=',', chunksize = 10000, header=0):\n",
    "    samplesdf = samplesdf.append(df)\n",
    "y_train = samplesdf.to_numpy()\n",
    "\n",
    "num0 = 0\n",
    "num1 = 0\n",
    "for x in y_train:\n",
    "    if x == 0:\n",
    "        num0 = num0 + 1\n",
    "    else:\n",
    "        num1 = num1 + 1\n",
    "num0,num1 #checking if it is balanced"
   ]
  },
  {
   "cell_type": "code",
   "execution_count": 4,
   "metadata": {
    "scrolled": true
   },
   "outputs": [
    {
     "name": "stdout",
     "output_type": "stream",
     "text": [
      "[[0.   0.   0.   ... 3.11 0.   3.69]\n",
      " [0.   0.   0.   ... 3.16 0.   3.33]\n",
      " [0.   0.   0.   ... 2.98 0.   3.64]\n",
      " ...\n",
      " [1.39 0.   0.   ... 1.95 0.   3.57]\n",
      " [0.   2.08 0.   ... 2.71 0.   3.09]\n",
      " [0.   0.   0.   ... 3.12 0.   2.85]]\n"
     ]
    }
   ],
   "source": [
    "df = pd.read_csv(xtrain,compression =\"gzip\",delimiter=',', nrows=123, header=0)\n",
    "x_train = df.to_numpy()\n",
    "print(x_train)"
   ]
  },
  {
   "cell_type": "code",
   "execution_count": 5,
   "metadata": {},
   "outputs": [],
   "source": [
    "class Dataset(Dataset):\n",
    "\n",
    "    def __init__(self,samples,labels,numrows):\n",
    "\n",
    "        self.data = pd.read_csv(samples,compression =\"gzip\",delimiter=',', nrows = numrows, header=0)\n",
    "        self.label = pd.read_csv(labels,compression =\"gzip\",delimiter=',', nrows = numrows, header=0)\n",
    "        \n",
    "    def __len__(self):\n",
    "        return len(self.data)\n",
    "\n",
    "    def __getitem__(self, idx):\n",
    "        if torch.is_tensor(idx):\n",
    "            idx = idx.tolist()\n",
    "\n",
    "        rna = self.data.iloc[idx]\n",
    "        seplb = self.label.iloc[idx]\n",
    "        rna = np.array([rna])\n",
    "        seplb = np.array([seplb])\n",
    "        rna = rna.astype('double').reshape(-1,3273)\n",
    "        i = 0\n",
    "        d = np.zeros((len(seplb),2))\n",
    "        for x in seplb:\n",
    "            if x == 0:\n",
    "                d[i] = [1,0]\n",
    "            else:\n",
    "                d[i] = [0,1]\n",
    "        sample = {'rna': rna, 'label': d}\n",
    "\n",
    "        return sample"
   ]
  },
  {
   "cell_type": "code",
   "execution_count": 6,
   "metadata": {},
   "outputs": [],
   "source": [
    "train_dataset = Dataset(samples=xtrain,labels=ytrain,numrows = 29255)\n",
    "test_dataset = Dataset(samples = xtest,labels = ytest,numrows = 3241)"
   ]
  },
  {
   "cell_type": "code",
   "execution_count": 7,
   "metadata": {},
   "outputs": [],
   "source": [
    "# Hyper Parameters\n",
    "EPOCH = 20             # train the training data n times, to save time, we just train 1 epoch\n",
    "LR = 0.0001              # learning rate\n",
    "batch_size = 32\n",
    "wd = LR / EPOCH"
   ]
  },
  {
   "cell_type": "code",
   "execution_count": 8,
   "metadata": {},
   "outputs": [],
   "source": [
    "train_loader = DataLoader(dataset=train_dataset, batch_size=batch_size, shuffle=True)\n",
    "test_loader = DataLoader(dataset=test_dataset, batch_size=batch_size, shuffle=False)"
   ]
  },
  {
   "cell_type": "code",
   "execution_count": 9,
   "metadata": {},
   "outputs": [],
   "source": [
    "class SmallSetTransformer(nn.Module):\n",
    "    def __init__(self,):\n",
    "        super().__init__()\n",
    "        self.enc = nn.Sequential(\n",
    "            SAB(dim_in=3273, dim_out=256, num_heads=4),\n",
    "            SAB(dim_in=256, dim_out=256, num_heads=4),\n",
    "        )\n",
    "        self.dec = nn.Sequential(\n",
    "            PMA(dim=256, num_heads=4, num_seeds=1),\n",
    "            nn.Dropout(p=0.2),\n",
    "            nn.Linear(in_features=256, out_features=2),\n",
    "        )\n",
    "\n",
    "    def forward(self, x):\n",
    "        x = self.enc(x)\n",
    "        x = self.dec(x)\n",
    "        return x.squeeze(-1)"
   ]
  },
  {
   "cell_type": "code",
   "execution_count": 10,
   "metadata": {},
   "outputs": [
    {
     "name": "stdout",
     "output_type": "stream",
     "text": [
      "SmallSetTransformer(\n",
      "  (enc): Sequential(\n",
      "    (0): SAB(\n",
      "      (mab): MAB(\n",
      "        (fc_q): Linear(in_features=3273, out_features=256, bias=True)\n",
      "        (fc_k): Linear(in_features=3273, out_features=256, bias=True)\n",
      "        (fc_v): Linear(in_features=3273, out_features=256, bias=True)\n",
      "        (fc_o): Linear(in_features=256, out_features=256, bias=True)\n",
      "      )\n",
      "    )\n",
      "    (1): SAB(\n",
      "      (mab): MAB(\n",
      "        (fc_q): Linear(in_features=256, out_features=256, bias=True)\n",
      "        (fc_k): Linear(in_features=256, out_features=256, bias=True)\n",
      "        (fc_v): Linear(in_features=256, out_features=256, bias=True)\n",
      "        (fc_o): Linear(in_features=256, out_features=256, bias=True)\n",
      "      )\n",
      "    )\n",
      "  )\n",
      "  (dec): Sequential(\n",
      "    (0): PMA(\n",
      "      (mab): MAB(\n",
      "        (fc_q): Linear(in_features=256, out_features=256, bias=True)\n",
      "        (fc_k): Linear(in_features=256, out_features=256, bias=True)\n",
      "        (fc_v): Linear(in_features=256, out_features=256, bias=True)\n",
      "        (fc_o): Linear(in_features=256, out_features=256, bias=True)\n",
      "      )\n",
      "    )\n",
      "    (1): Dropout(p=0.2, inplace=False)\n",
      "    (2): Linear(in_features=256, out_features=2, bias=True)\n",
      "  )\n",
      ")\n"
     ]
    }
   ],
   "source": [
    "trans = SmallSetTransformer()\n",
    "optimizer = torch.optim.Adam(trans.parameters(), lr=LR)   \n",
    "loss_func = nn.L1Loss()                      \n",
    "if torch.cuda.is_available():\n",
    "    loss_func = loss_func.cuda()\n",
    "    trans = trans.cuda()\n",
    "trans = trans.double()\n",
    "print(trans)"
   ]
  },
  {
   "cell_type": "code",
   "execution_count": 11,
   "metadata": {},
   "outputs": [],
   "source": [
    "def test(model):\n",
    "    model.eval()\n",
    "    with torch.no_grad():\n",
    "        correct = 0\n",
    "        total = 0\n",
    "        for batch in train_loader:\n",
    "            rna,labels = batch[\"rna\"], batch[\"label\"] \n",
    "            if torch.cuda.is_available():\n",
    "                rna = rna.cuda()\n",
    "                labels = labels.cuda()\n",
    "            labels = labels.reshape(-1,2)\n",
    "            outputs = model(rna)\n",
    "            outputs = outputs.reshape(-1,2)\n",
    "            _, predicted = torch.max(outputs.data, 1)\n",
    "            _, labels = torch.max(labels.data, 1)\n",
    "            total += labels.size(0)\n",
    "            correct += (predicted == labels).sum().item()\n",
    "        TrainaccTest.append(correct/total)\n",
    "           # print(total,correct)\n",
    "\n",
    "        print('Train Accuracy of the model on the train rna: {} %'.format((correct / total) * 100))\n",
    "    with torch.no_grad():\n",
    "        correct = 0\n",
    "        total = 0\n",
    "        for batch in test_loader:\n",
    "            rna,labels = batch[\"rna\"], batch[\"label\"] \n",
    "            if torch.cuda.is_available():\n",
    "                rna = rna.cuda()\n",
    "                labels = labels.cuda()\n",
    "            labels = labels.reshape(-1,2)\n",
    "            outputs = model(rna)\n",
    "            outputs = outputs.reshape(-1,2)\n",
    "            _, predicted = torch.max(outputs.data, 1)\n",
    "            _, labels = torch.max(labels.data, 1)\n",
    "            total += labels.size(0)\n",
    "            correct += (predicted == labels).sum().item()\n",
    "        TestaccTest.append(correct/total)\n",
    "    #print(total,correct)\n",
    "\n",
    "        print('Test Accuracy of the model on the test rna: {} %'.format((correct / total) * 100))\n",
    "\n"
   ]
  },
  {
   "cell_type": "code",
   "execution_count": 12,
   "metadata": {
    "scrolled": false
   },
   "outputs": [],
   "source": [
    "def train(model): \n",
    "    total_step = len(train_loader)\n",
    "    num_epoch = EPOCH\n",
    "    for epoch in range(num_epoch):\n",
    "        model.train()\n",
    "        for i, batch in enumerate(train_loader):\n",
    "            # Run the forward pass\n",
    "            rna,labels = batch[\"rna\"], batch[\"label\"] \n",
    "            if torch.cuda.is_available():\n",
    "                rna = rna.cuda()\n",
    "                labels = labels.cuda()\n",
    "            outputs = model(rna)\n",
    "            labels = labels.long()\n",
    "            #print(outputs)\n",
    "            outputs = outputs.reshape(-1,2)\n",
    "            labels = labels.reshape(-1,2)\n",
    "            loss = loss_func(outputs, labels)\n",
    "            train_losses.append(loss.item())\n",
    "\n",
    "            # Backprop and perform Adam optimisation\n",
    "            optimizer.zero_grad()\n",
    "            loss.backward()\n",
    "            optimizer.step()\n",
    "\n",
    "            # Track the accuracy\n",
    "            total = labels.size(0)\n",
    "            _, predicted = torch.max(outputs.data, 1)\n",
    "            _, labels = torch.max(labels.data, 1)\n",
    "            correct = (predicted == labels).sum().item()\n",
    "            train_acc.append(correct / total)\n",
    "            if i % 100 == 0:\n",
    "                print('Epoch [{}/{}], Step [{}/{}], Loss: {:.4f}, Accuracy: {:.2f}%'\n",
    "                        .format(epoch + 1, num_epoch , i + 1, total_step, loss.item(),\n",
    "                                (correct / total) * 100))\n",
    "        test(model)"
   ]
  },
  {
   "cell_type": "code",
   "execution_count": 13,
   "metadata": {},
   "outputs": [
    {
     "name": "stdout",
     "output_type": "stream",
     "text": [
      "Epoch [1/20], Step [1/915], Loss: 0.5784, Accuracy: 53.12%\n",
      "Epoch [1/20], Step [101/915], Loss: 0.3563, Accuracy: 75.00%\n",
      "Epoch [1/20], Step [201/915], Loss: 0.3473, Accuracy: 81.25%\n",
      "Epoch [1/20], Step [301/915], Loss: 0.3745, Accuracy: 68.75%\n",
      "Epoch [1/20], Step [401/915], Loss: 0.3458, Accuracy: 87.50%\n",
      "Epoch [1/20], Step [501/915], Loss: 0.3361, Accuracy: 81.25%\n",
      "Epoch [1/20], Step [601/915], Loss: 0.3029, Accuracy: 81.25%\n",
      "Epoch [1/20], Step [701/915], Loss: 0.3344, Accuracy: 78.12%\n",
      "Epoch [1/20], Step [801/915], Loss: 0.3240, Accuracy: 71.88%\n",
      "Epoch [1/20], Step [901/915], Loss: 0.3415, Accuracy: 78.12%\n",
      "Train Accuracy of the model on the train rna: 83.30199965817809 %\n",
      "Test Accuracy of the model on the test rna: 80.59240975007714 %\n",
      "Epoch [2/20], Step [1/915], Loss: 0.2544, Accuracy: 90.62%\n",
      "Epoch [2/20], Step [101/915], Loss: 0.2321, Accuracy: 93.75%\n",
      "Epoch [2/20], Step [201/915], Loss: 0.4230, Accuracy: 65.62%\n",
      "Epoch [2/20], Step [301/915], Loss: 0.2810, Accuracy: 81.25%\n",
      "Epoch [2/20], Step [401/915], Loss: 0.2436, Accuracy: 84.38%\n",
      "Epoch [2/20], Step [501/915], Loss: 0.2872, Accuracy: 78.12%\n",
      "Epoch [2/20], Step [601/915], Loss: 0.2976, Accuracy: 81.25%\n",
      "Epoch [2/20], Step [701/915], Loss: 0.2782, Accuracy: 78.12%\n",
      "Epoch [2/20], Step [801/915], Loss: 0.2217, Accuracy: 81.25%\n",
      "Epoch [2/20], Step [901/915], Loss: 0.2324, Accuracy: 84.38%\n",
      "Train Accuracy of the model on the train rna: 87.48931806528797 %\n",
      "Test Accuracy of the model on the test rna: 82.2277074976859 %\n",
      "Epoch [3/20], Step [1/915], Loss: 0.1968, Accuracy: 87.50%\n",
      "Epoch [3/20], Step [101/915], Loss: 0.1058, Accuracy: 96.88%\n",
      "Epoch [3/20], Step [201/915], Loss: 0.2446, Accuracy: 84.38%\n",
      "Epoch [3/20], Step [301/915], Loss: 0.2213, Accuracy: 84.38%\n",
      "Epoch [3/20], Step [401/915], Loss: 0.2509, Accuracy: 81.25%\n",
      "Epoch [3/20], Step [501/915], Loss: 0.1884, Accuracy: 87.50%\n",
      "Epoch [3/20], Step [601/915], Loss: 0.2264, Accuracy: 84.38%\n",
      "Epoch [3/20], Step [701/915], Loss: 0.2088, Accuracy: 87.50%\n",
      "Epoch [3/20], Step [801/915], Loss: 0.2483, Accuracy: 81.25%\n",
      "Epoch [3/20], Step [901/915], Loss: 0.1990, Accuracy: 84.38%\n",
      "Train Accuracy of the model on the train rna: 87.1167321825329 %\n",
      "Test Accuracy of the model on the test rna: 80.77753779697623 %\n",
      "Epoch [4/20], Step [1/915], Loss: 0.1907, Accuracy: 87.50%\n",
      "Epoch [4/20], Step [101/915], Loss: 0.1189, Accuracy: 93.75%\n",
      "Epoch [4/20], Step [201/915], Loss: 0.2435, Accuracy: 81.25%\n",
      "Epoch [4/20], Step [301/915], Loss: 0.1856, Accuracy: 90.62%\n",
      "Epoch [4/20], Step [401/915], Loss: 0.1968, Accuracy: 87.50%\n",
      "Epoch [4/20], Step [501/915], Loss: 0.2022, Accuracy: 84.38%\n",
      "Epoch [4/20], Step [601/915], Loss: 0.1314, Accuracy: 93.75%\n",
      "Epoch [4/20], Step [701/915], Loss: 0.2165, Accuracy: 84.38%\n",
      "Epoch [4/20], Step [801/915], Loss: 0.1972, Accuracy: 87.50%\n",
      "Epoch [4/20], Step [901/915], Loss: 0.1457, Accuracy: 90.62%\n",
      "Train Accuracy of the model on the train rna: 91.18441292086823 %\n",
      "Test Accuracy of the model on the test rna: 83.92471459426103 %\n",
      "Epoch [5/20], Step [1/915], Loss: 0.1425, Accuracy: 90.62%\n",
      "Epoch [5/20], Step [101/915], Loss: 0.2320, Accuracy: 81.25%\n",
      "Epoch [5/20], Step [201/915], Loss: 0.0880, Accuracy: 100.00%\n",
      "Epoch [5/20], Step [301/915], Loss: 0.2032, Accuracy: 84.38%\n",
      "Epoch [5/20], Step [401/915], Loss: 0.1372, Accuracy: 90.62%\n",
      "Epoch [5/20], Step [501/915], Loss: 0.1005, Accuracy: 96.88%\n",
      "Epoch [5/20], Step [601/915], Loss: 0.1394, Accuracy: 93.75%\n",
      "Epoch [5/20], Step [701/915], Loss: 0.1484, Accuracy: 90.62%\n",
      "Epoch [5/20], Step [801/915], Loss: 0.1419, Accuracy: 90.62%\n",
      "Epoch [5/20], Step [901/915], Loss: 0.1815, Accuracy: 87.50%\n",
      "Train Accuracy of the model on the train rna: 92.20304221500598 %\n",
      "Test Accuracy of the model on the test rna: 83.61616784942919 %\n",
      "Epoch [6/20], Step [1/915], Loss: 0.1368, Accuracy: 90.62%\n",
      "Epoch [6/20], Step [101/915], Loss: 0.1361, Accuracy: 93.75%\n",
      "Epoch [6/20], Step [201/915], Loss: 0.1385, Accuracy: 90.62%\n",
      "Epoch [6/20], Step [301/915], Loss: 0.1120, Accuracy: 93.75%\n",
      "Epoch [6/20], Step [401/915], Loss: 0.1415, Accuracy: 90.62%\n",
      "Epoch [6/20], Step [501/915], Loss: 0.1188, Accuracy: 93.75%\n",
      "Epoch [6/20], Step [601/915], Loss: 0.1853, Accuracy: 87.50%\n",
      "Epoch [6/20], Step [701/915], Loss: 0.1839, Accuracy: 87.50%\n",
      "Epoch [6/20], Step [801/915], Loss: 0.1481, Accuracy: 87.50%\n",
      "Epoch [6/20], Step [901/915], Loss: 0.1361, Accuracy: 93.75%\n",
      "Train Accuracy of the model on the train rna: 90.33327636301487 %\n",
      "Test Accuracy of the model on the test rna: 82.13514347423634 %\n",
      "Epoch [7/20], Step [1/915], Loss: 0.1487, Accuracy: 90.62%\n",
      "Epoch [7/20], Step [101/915], Loss: 0.1677, Accuracy: 87.50%\n",
      "Epoch [7/20], Step [201/915], Loss: 0.1201, Accuracy: 93.75%\n",
      "Epoch [7/20], Step [301/915], Loss: 0.0944, Accuracy: 96.88%\n",
      "Epoch [7/20], Step [401/915], Loss: 0.1580, Accuracy: 87.50%\n",
      "Epoch [7/20], Step [501/915], Loss: 0.1343, Accuracy: 90.62%\n",
      "Epoch [7/20], Step [601/915], Loss: 0.1459, Accuracy: 87.50%\n",
      "Epoch [7/20], Step [701/915], Loss: 0.1017, Accuracy: 93.75%\n",
      "Epoch [7/20], Step [801/915], Loss: 0.0768, Accuracy: 96.88%\n",
      "Epoch [7/20], Step [901/915], Loss: 0.0987, Accuracy: 93.75%\n",
      "Train Accuracy of the model on the train rna: 94.6607417535464 %\n",
      "Test Accuracy of the model on the test rna: 85.1589015735884 %\n",
      "Epoch [8/20], Step [1/915], Loss: 0.1521, Accuracy: 87.50%\n",
      "Epoch [8/20], Step [101/915], Loss: 0.1373, Accuracy: 87.50%\n",
      "Epoch [8/20], Step [201/915], Loss: 0.0693, Accuracy: 96.88%\n",
      "Epoch [8/20], Step [301/915], Loss: 0.0698, Accuracy: 96.88%\n",
      "Epoch [8/20], Step [401/915], Loss: 0.0385, Accuracy: 100.00%\n",
      "Epoch [8/20], Step [501/915], Loss: 0.0768, Accuracy: 96.88%\n",
      "Epoch [8/20], Step [601/915], Loss: 0.0685, Accuracy: 96.88%\n",
      "Epoch [8/20], Step [701/915], Loss: 0.2171, Accuracy: 81.25%\n",
      "Epoch [8/20], Step [801/915], Loss: 0.2180, Accuracy: 81.25%\n",
      "Epoch [8/20], Step [901/915], Loss: 0.0707, Accuracy: 96.88%\n",
      "Train Accuracy of the model on the train rna: 90.63749786361306 %\n",
      "Test Accuracy of the model on the test rna: 83.18420240666461 %\n",
      "Epoch [9/20], Step [1/915], Loss: 0.1018, Accuracy: 90.62%\n",
      "Epoch [9/20], Step [101/915], Loss: 0.0586, Accuracy: 96.88%\n",
      "Epoch [9/20], Step [201/915], Loss: 0.1863, Accuracy: 84.38%\n",
      "Epoch [9/20], Step [301/915], Loss: 0.1813, Accuracy: 84.38%\n",
      "Epoch [9/20], Step [401/915], Loss: 0.0854, Accuracy: 93.75%\n",
      "Epoch [9/20], Step [501/915], Loss: 0.0994, Accuracy: 93.75%\n",
      "Epoch [9/20], Step [601/915], Loss: 0.0885, Accuracy: 93.75%\n",
      "Epoch [9/20], Step [701/915], Loss: 0.0382, Accuracy: 100.00%\n",
      "Epoch [9/20], Step [801/915], Loss: 0.0706, Accuracy: 96.88%\n",
      "Epoch [9/20], Step [901/915], Loss: 0.0930, Accuracy: 93.75%\n",
      "Train Accuracy of the model on the train rna: 94.85558024269356 %\n",
      "Test Accuracy of the model on the test rna: 84.69608145634064 %\n",
      "Epoch [10/20], Step [1/915], Loss: 0.1149, Accuracy: 90.62%\n",
      "Epoch [10/20], Step [101/915], Loss: 0.1682, Accuracy: 84.38%\n",
      "Epoch [10/20], Step [201/915], Loss: 0.1036, Accuracy: 96.88%\n",
      "Epoch [10/20], Step [301/915], Loss: 0.1508, Accuracy: 87.50%\n",
      "Epoch [10/20], Step [401/915], Loss: 0.0287, Accuracy: 100.00%\n",
      "Epoch [10/20], Step [501/915], Loss: 0.1014, Accuracy: 90.62%\n",
      "Epoch [10/20], Step [601/915], Loss: 0.0942, Accuracy: 93.75%\n",
      "Epoch [10/20], Step [701/915], Loss: 0.0644, Accuracy: 96.88%\n",
      "Epoch [10/20], Step [801/915], Loss: 0.0983, Accuracy: 93.75%\n",
      "Epoch [10/20], Step [901/915], Loss: 0.1324, Accuracy: 90.62%\n",
      "Train Accuracy of the model on the train rna: 92.11416851820202 %\n",
      "Test Accuracy of the model on the test rna: 83.52360382597963 %\n",
      "Epoch [11/20], Step [1/915], Loss: 0.1341, Accuracy: 90.62%\n",
      "Epoch [11/20], Step [101/915], Loss: 0.0646, Accuracy: 96.88%\n",
      "Epoch [11/20], Step [201/915], Loss: 0.0380, Accuracy: 100.00%\n",
      "Epoch [11/20], Step [301/915], Loss: 0.0971, Accuracy: 93.75%\n",
      "Epoch [11/20], Step [401/915], Loss: 0.1206, Accuracy: 90.62%\n",
      "Epoch [11/20], Step [501/915], Loss: 0.0780, Accuracy: 93.75%\n",
      "Epoch [11/20], Step [601/915], Loss: 0.0381, Accuracy: 100.00%\n",
      "Epoch [11/20], Step [701/915], Loss: 0.0581, Accuracy: 96.88%\n",
      "Epoch [11/20], Step [801/915], Loss: 0.1497, Accuracy: 84.38%\n",
      "Epoch [11/20], Step [901/915], Loss: 0.0750, Accuracy: 96.88%\n",
      "Train Accuracy of the model on the train rna: 95.85370022218424 %\n",
      "Test Accuracy of the model on the test rna: 85.5600123418698 %\n",
      "Epoch [12/20], Step [1/915], Loss: 0.0638, Accuracy: 96.88%\n"
     ]
    },
    {
     "name": "stdout",
     "output_type": "stream",
     "text": [
      "Epoch [12/20], Step [101/915], Loss: 0.0799, Accuracy: 93.75%\n",
      "Epoch [12/20], Step [201/915], Loss: 0.0630, Accuracy: 96.88%\n",
      "Epoch [12/20], Step [301/915], Loss: 0.1878, Accuracy: 84.38%\n",
      "Epoch [12/20], Step [401/915], Loss: 0.0421, Accuracy: 100.00%\n",
      "Epoch [12/20], Step [501/915], Loss: 0.0775, Accuracy: 93.75%\n",
      "Epoch [12/20], Step [601/915], Loss: 0.0496, Accuracy: 96.88%\n",
      "Epoch [12/20], Step [701/915], Loss: 0.1040, Accuracy: 93.75%\n",
      "Epoch [12/20], Step [801/915], Loss: 0.0609, Accuracy: 96.88%\n",
      "Epoch [12/20], Step [901/915], Loss: 0.0572, Accuracy: 96.88%\n",
      "Train Accuracy of the model on the train rna: 96.54759870107674 %\n",
      "Test Accuracy of the model on the test rna: 86.05368713360075 %\n",
      "Epoch [13/20], Step [1/915], Loss: 0.0618, Accuracy: 96.88%\n",
      "Epoch [13/20], Step [101/915], Loss: 0.0566, Accuracy: 96.88%\n",
      "Epoch [13/20], Step [201/915], Loss: 0.1415, Accuracy: 87.50%\n",
      "Epoch [13/20], Step [301/915], Loss: 0.0276, Accuracy: 100.00%\n",
      "Epoch [13/20], Step [401/915], Loss: 0.0377, Accuracy: 100.00%\n",
      "Epoch [13/20], Step [501/915], Loss: 0.0579, Accuracy: 96.88%\n",
      "Epoch [13/20], Step [601/915], Loss: 0.0764, Accuracy: 93.75%\n",
      "Epoch [13/20], Step [701/915], Loss: 0.0848, Accuracy: 93.75%\n",
      "Epoch [13/20], Step [801/915], Loss: 0.1349, Accuracy: 90.62%\n",
      "Epoch [13/20], Step [901/915], Loss: 0.1342, Accuracy: 87.50%\n",
      "Train Accuracy of the model on the train rna: 95.86053666039993 %\n",
      "Test Accuracy of the model on the test rna: 85.43659364393706 %\n",
      "Epoch [14/20], Step [1/915], Loss: 0.0284, Accuracy: 100.00%\n",
      "Epoch [14/20], Step [101/915], Loss: 0.1148, Accuracy: 90.62%\n",
      "Epoch [14/20], Step [201/915], Loss: 0.0937, Accuracy: 93.75%\n",
      "Epoch [14/20], Step [301/915], Loss: 0.1283, Accuracy: 90.62%\n",
      "Epoch [14/20], Step [401/915], Loss: 0.0804, Accuracy: 93.75%\n",
      "Epoch [14/20], Step [501/915], Loss: 0.0539, Accuracy: 96.88%\n",
      "Epoch [14/20], Step [601/915], Loss: 0.0868, Accuracy: 93.75%\n",
      "Epoch [14/20], Step [701/915], Loss: 0.0282, Accuracy: 100.00%\n",
      "Epoch [14/20], Step [801/915], Loss: 0.0268, Accuracy: 100.00%\n",
      "Epoch [14/20], Step [901/915], Loss: 0.0894, Accuracy: 93.75%\n",
      "Train Accuracy of the model on the train rna: 96.82105622970433 %\n",
      "Test Accuracy of the model on the test rna: 86.1153964825671 %\n",
      "Epoch [15/20], Step [1/915], Loss: 0.0567, Accuracy: 96.88%\n",
      "Epoch [15/20], Step [101/915], Loss: 0.0269, Accuracy: 100.00%\n",
      "Epoch [15/20], Step [201/915], Loss: 0.0768, Accuracy: 96.88%\n",
      "Epoch [15/20], Step [301/915], Loss: 0.0486, Accuracy: 96.88%\n",
      "Epoch [15/20], Step [401/915], Loss: 0.0447, Accuracy: 100.00%\n",
      "Epoch [15/20], Step [501/915], Loss: 0.0407, Accuracy: 96.88%\n",
      "Epoch [15/20], Step [601/915], Loss: 0.1015, Accuracy: 93.75%\n",
      "Epoch [15/20], Step [701/915], Loss: 0.0495, Accuracy: 100.00%\n",
      "Epoch [15/20], Step [801/915], Loss: 0.0742, Accuracy: 93.75%\n",
      "Epoch [15/20], Step [901/915], Loss: 0.0566, Accuracy: 96.88%\n",
      "Train Accuracy of the model on the train rna: 96.83131088702785 %\n",
      "Test Accuracy of the model on the test rna: 86.39308855291577 %\n",
      "Epoch [16/20], Step [1/915], Loss: 0.1082, Accuracy: 93.75%\n",
      "Epoch [16/20], Step [101/915], Loss: 0.0591, Accuracy: 93.75%\n",
      "Epoch [16/20], Step [201/915], Loss: 0.0235, Accuracy: 100.00%\n",
      "Epoch [16/20], Step [301/915], Loss: 0.0496, Accuracy: 96.88%\n",
      "Epoch [16/20], Step [401/915], Loss: 0.0854, Accuracy: 93.75%\n",
      "Epoch [16/20], Step [501/915], Loss: 0.0465, Accuracy: 96.88%\n",
      "Epoch [16/20], Step [601/915], Loss: 0.0244, Accuracy: 100.00%\n",
      "Epoch [16/20], Step [701/915], Loss: 0.0224, Accuracy: 100.00%\n",
      "Epoch [16/20], Step [801/915], Loss: 0.0988, Accuracy: 90.62%\n",
      "Epoch [16/20], Step [901/915], Loss: 0.0244, Accuracy: 100.00%\n",
      "Train Accuracy of the model on the train rna: 97.42949923090069 %\n",
      "Test Accuracy of the model on the test rna: 87.13360074051218 %\n",
      "Epoch [17/20], Step [1/915], Loss: 0.0244, Accuracy: 100.00%\n",
      "Epoch [17/20], Step [101/915], Loss: 0.0284, Accuracy: 100.00%\n",
      "Epoch [17/20], Step [201/915], Loss: 0.0235, Accuracy: 100.00%\n",
      "Epoch [17/20], Step [301/915], Loss: 0.0597, Accuracy: 96.88%\n",
      "Epoch [17/20], Step [401/915], Loss: 0.1539, Accuracy: 87.50%\n",
      "Epoch [17/20], Step [501/915], Loss: 0.0534, Accuracy: 96.88%\n",
      "Epoch [17/20], Step [601/915], Loss: 0.0650, Accuracy: 96.88%\n",
      "Epoch [17/20], Step [701/915], Loss: 0.0808, Accuracy: 93.75%\n",
      "Epoch [17/20], Step [801/915], Loss: 0.0300, Accuracy: 100.00%\n",
      "Epoch [17/20], Step [901/915], Loss: 0.1155, Accuracy: 90.62%\n",
      "Train Accuracy of the model on the train rna: 96.46556144248846 %\n",
      "Test Accuracy of the model on the test rna: 85.31317494600432 %\n",
      "Epoch [18/20], Step [1/915], Loss: 0.1152, Accuracy: 90.62%\n",
      "Epoch [18/20], Step [101/915], Loss: 0.0948, Accuracy: 93.75%\n",
      "Epoch [18/20], Step [201/915], Loss: 0.0235, Accuracy: 100.00%\n",
      "Epoch [18/20], Step [301/915], Loss: 0.0594, Accuracy: 96.88%\n",
      "Epoch [18/20], Step [401/915], Loss: 0.0283, Accuracy: 100.00%\n",
      "Epoch [18/20], Step [501/915], Loss: 0.0248, Accuracy: 100.00%\n",
      "Epoch [18/20], Step [601/915], Loss: 0.0307, Accuracy: 100.00%\n",
      "Epoch [18/20], Step [701/915], Loss: 0.0636, Accuracy: 96.88%\n",
      "Epoch [18/20], Step [801/915], Loss: 0.0240, Accuracy: 100.00%\n",
      "Epoch [18/20], Step [901/915], Loss: 0.0772, Accuracy: 96.88%\n",
      "Train Accuracy of the model on the train rna: 96.52367116732182 %\n",
      "Test Accuracy of the model on the test rna: 85.22061092255477 %\n",
      "Epoch [19/20], Step [1/915], Loss: 0.0689, Accuracy: 96.88%\n",
      "Epoch [19/20], Step [101/915], Loss: 0.0638, Accuracy: 96.88%\n",
      "Epoch [19/20], Step [201/915], Loss: 0.0817, Accuracy: 93.75%\n",
      "Epoch [19/20], Step [301/915], Loss: 0.0360, Accuracy: 100.00%\n",
      "Epoch [19/20], Step [401/915], Loss: 0.0595, Accuracy: 96.88%\n",
      "Epoch [19/20], Step [501/915], Loss: 0.0274, Accuracy: 100.00%\n",
      "Epoch [19/20], Step [601/915], Loss: 0.0828, Accuracy: 93.75%\n",
      "Epoch [19/20], Step [701/915], Loss: 0.0387, Accuracy: 100.00%\n",
      "Epoch [19/20], Step [801/915], Loss: 0.0240, Accuracy: 100.00%\n",
      "Epoch [19/20], Step [901/915], Loss: 0.0392, Accuracy: 100.00%\n",
      "Train Accuracy of the model on the train rna: 97.45684498376346 %\n",
      "Test Accuracy of the model on the test rna: 86.20796050601666 %\n",
      "Epoch [20/20], Step [1/915], Loss: 0.0220, Accuracy: 100.00%\n",
      "Epoch [20/20], Step [101/915], Loss: 0.0776, Accuracy: 93.75%\n",
      "Epoch [20/20], Step [201/915], Loss: 0.0220, Accuracy: 100.00%\n",
      "Epoch [20/20], Step [301/915], Loss: 0.0225, Accuracy: 100.00%\n",
      "Epoch [20/20], Step [401/915], Loss: 0.0534, Accuracy: 96.88%\n",
      "Epoch [20/20], Step [501/915], Loss: 0.0210, Accuracy: 100.00%\n",
      "Epoch [20/20], Step [601/915], Loss: 0.0557, Accuracy: 96.88%\n",
      "Epoch [20/20], Step [701/915], Loss: 0.0525, Accuracy: 96.88%\n",
      "Epoch [20/20], Step [801/915], Loss: 0.0541, Accuracy: 96.88%\n",
      "Epoch [20/20], Step [901/915], Loss: 0.0262, Accuracy: 100.00%\n",
      "Train Accuracy of the model on the train rna: 97.62091950094 %\n",
      "Test Accuracy of the model on the test rna: 86.60907127429806 %\n"
     ]
    }
   ],
   "source": [
    "train_losses = []\n",
    "train_acc = []\n",
    "test_acc = []\n",
    "TrainaccTest = []\n",
    "TestaccTest = []\n",
    "train(trans)"
   ]
  },
  {
   "cell_type": "code",
   "execution_count": 14,
   "metadata": {},
   "outputs": [
    {
     "data": {
      "image/png": "[encoded data removed]",
      "text/plain": [
       "<Figure size 432x288 with 1 Axes>"
      ]
     },
     "metadata": {
      "needs_background": "light"
     },
     "output_type": "display_data"
    }
   ],
   "source": [
    "plt.plot(train_losses, label='Training loss')\n",
    "plt.plot(train_acc, label='Training accuracy')\n",
    "plt.legend()\n",
    "plt.show()"
   ]
  },
  {
   "cell_type": "code",
   "execution_count": 15,
   "metadata": {},
   "outputs": [
    {
     "data": {
      "image/png": "[encoded data removed]",
      "text/plain": [
       "<Figure size 432x288 with 1 Axes>"
      ]
     },
     "metadata": {
      "needs_background": "light"
     },
     "output_type": "display_data"
    }
   ],
   "source": [
    "plt.plot(TrainaccTest, label='Training accuracy')\n",
    "plt.plot(TestaccTest, label='Testing accuracy')\n",
    "plt.legend()\n",
    "plt.show()"
   ]
  },
  {
   "cell_type": "code",
   "execution_count": 36,
   "metadata": {},
   "outputs": [
    {
     "name": "stdout",
     "output_type": "stream",
     "text": [
      "torch.Size([3241, 3273])\n",
      "torch.Size([3241, 1])\n",
      "tensor([[ 0.9940,  0.0072],\n",
      "        [ 0.0121,  0.9663],\n",
      "        [ 1.0044,  0.0027],\n",
      "        ...,\n",
      "        [ 0.9930, -0.0031],\n",
      "        [ 0.9835,  0.0121],\n",
      "        [ 0.9861,  0.0113]], device='cuda:0', dtype=torch.float64)\n",
      "[ 0.00720781  0.96633446  0.00274679 ... -0.00308548  0.01211847\n",
      "  0.01129155]\n"
     ]
    },
    {
     "data": {
      "image/png": "[encoded data removed]",
      "text/plain": [
       "<Figure size 432x288 with 1 Axes>"
      ]
     },
     "metadata": {
      "needs_background": "light"
     },
     "output_type": "display_data"
    },
    {
     "data": {
      "image/png": "[encoded data removed]",
      "text/plain": [
       "<Figure size 432x288 with 1 Axes>"
      ]
     },
     "metadata": {
      "needs_background": "light"
     },
     "output_type": "display_data"
    },
    {
     "name": "stdout",
     "output_type": "stream",
     "text": [
      "AUPRC = 0.85\n",
      "f1_score = 0.86\n"
     ]
    }
   ],
   "source": [
    "samplesdf = pd.DataFrame()\n",
    "samplesdf = pd.read_csv(xtest,compression =\"gzip\",delimiter=',',header=0)\n",
    "x_test = samplesdf.to_numpy()\n",
    "\n",
    "samplesdf = pd.DataFrame()\n",
    "samplesdf = pd.read_csv(ytest,compression =\"gzip\",delimiter=',', header=0)\n",
    "y_test = samplesdf.to_numpy()\n",
    "\n",
    "x_test = torch.from_numpy(x_test)\n",
    "y_test = torch.from_numpy(y_test)\n",
    "print(x_test.shape)\n",
    "print(y_test.shape)\n",
    "with torch.no_grad():\n",
    "    trans.eval()\n",
    "    if torch.cuda.is_available():\n",
    "        x_test = x_test.cuda()\n",
    "        y_test = y_test.cuda()\n",
    "    x_test = x_test.reshape(-1,1,3273)\n",
    "    outputs = trans(x_test)\n",
    "    out = outputs.data.reshape(-1,2)\n",
    "    print(out)\n",
    "    predicted = np.zeros((len(out)))\n",
    "    i = 0\n",
    "    for x in out:\n",
    "        predicted[i] = x[1]\n",
    "        i = i + 1\n",
    "    print(predicted)\n",
    "    y_test = y_test.cpu()\n",
    "    y_test = y_test.reshape(-1)\n",
    "    fpr, tpr, _ = roc_curve(y_test,predicted)\n",
    "    roc_auc = auc(fpr,tpr)\n",
    "    plt.figure()\n",
    "    lw = 2\n",
    "    plt.plot(fpr,tpr, color='darkorange',\n",
    "             lw=lw, label='ROC curve (area = %0.2f)' % roc_auc)\n",
    "    plt.plot([0, 1], [0, 1], color='navy', lw=lw, linestyle='--')\n",
    "    plt.xlim([0.0, 1.0])\n",
    "    plt.ylim([0.0, 1.05])\n",
    "    plt.xlabel('False Positive Rate')\n",
    "    plt.ylabel('True Positive Rate')\n",
    "    plt.title('AUROC curve for SAB(SAB(X))')\n",
    "    plt.legend(loc=\"lower right\")\n",
    "    plt.show()\n",
    "    precision, recall, _ = precision_recall_curve(y_test,predicted)\n",
    "    prc_auc = auc(recall,precision)\n",
    "    plt.plot(recall,precision, color='darkorange',\n",
    "             lw=lw, label='PRC curve (area = %0.2f)' % prc_auc)\n",
    "    plt.xlim([0.0, 1.0])\n",
    "    plt.ylim([0.0, 1.05])\n",
    "    plt.xlabel('Recall')\n",
    "    plt.ylabel('Precision')\n",
    "    plt.title('AUPRC curve for SAB(SAB(X))')\n",
    "    plt.legend(loc=\"lower right\")\n",
    "    plt.show()\n",
    "    print(\"AUPRC = %.02f\"% prc_auc)\n",
    "    ss = np.zeros((len(predicted)))\n",
    "    i = 0\n",
    "    for x in predicted:\n",
    "        if x >= 0.5:\n",
    "            ss[i] = 1\n",
    "        else:\n",
    "            ss[i] = 0\n",
    "        i = i + 1\n",
    "    f1s = f1_score(y_test,ss)\n",
    "    print(\"f1_score = %.02f\"% f1s)\n",
    "    df = pd.DataFrame(y_test)\n",
    "    df.to_csv(r\"data/sabsablb.csv.gz\",index=False,sep=\",\",compression=\"gzip\")\n",
    "    df = pd.DataFrame(predicted)\n",
    "    df.to_csv(r\"data/sabsabpredict.csv.gz\",index=False,sep=\",\",compression=\"gzip\")\n"
   ]
  },
  {
   "cell_type": "code",
   "execution_count": 17,
   "metadata": {},
   "outputs": [
    {
     "data": {
      "text/plain": [
       "20"
      ]
     },
     "execution_count": 17,
     "metadata": {},
     "output_type": "execute_result"
    }
   ],
   "source": [
    "len(TestaccTest)"
   ]
  }
 ],
 "metadata": {
  "kernelspec": {
   "display_name": "Python 3",
   "language": "python",
   "name": "python3"
  },
  "language_info": {
   "codemirror_mode": {
    "name": "ipython",
    "version": 3
   },
   "file_extension": ".py",
   "mimetype": "text/x-python",
   "name": "python",
   "nbconvert_exporter": "python",
   "pygments_lexer": "ipython3",
   "version": "3.8.3"
  }
 },
 "nbformat": 4,
 "nbformat_minor": 2
}
