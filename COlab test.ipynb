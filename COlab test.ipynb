{
  "nbformat": 4,
  "nbformat_minor": 0,
  "metadata": {
    "colab": {
      "name": "Untitled0.ipynb",
      "provenance": [],
      "include_colab_link": true
    },
    "kernelspec": {
      "name": "python3",
      "display_name": "Python 3"
    }
  },
  "cells": [
    {
      "cell_type": "markdown",
      "metadata": {
        "id": "view-in-github",
        "colab_type": "text"
      },
      "source": [
        "<a href=\"https://colab.research.google.com/github/tokaho/ESTR3108-Sepsis-diagnosis-from-pairwise-single-cell-RNA/blob/master/COlab%20test.ipynb\" target=\"_parent\"><img src=\"https://colab.research.google.com/assets/colab-badge.svg\" alt=\"Open In Colab\"/></a>"
      ]
    },
    {
      "cell_type": "markdown",
      "metadata": {
        "id": "aPmkEGw5uSW6"
      },
      "source": [
        "mount google drive"
      ]
    },
    {
      "cell_type": "code",
      "metadata": {
        "id": "j-RvgzzmCqZI",
        "outputId": "fbab18dd-a3c6-4ddb-ed96-5f3fbd25d653",
        "colab": {
          "base_uri": "https://localhost:8080/",
          "height": 34
        }
      },
      "source": [
        "from google.colab import drive\n",
        "drive.mount('/content/drive')"
      ],
      "execution_count": null,
      "outputs": [
        {
          "output_type": "stream",
          "text": [
            "Mounted at /content/drive\n"
          ],
          "name": "stdout"
        }
      ]
    },
    {
      "cell_type": "code",
      "metadata": {
        "id": "SRlCqsfnINX9",
        "outputId": "3eb59c87-c5a8-4096-9bf4-1b5b2e48f9e1",
        "colab": {
          "base_uri": "https://localhost:8080/",
          "height": 204
        }
      },
      "source": [
        "df = pd.read_csv(r'/content/drive/My Drive/estr3108 project/labely.csv.gz',compression =\"gzip\")\n",
        "label1 = df.to_numpy()\n",
        "print('len of label1',len(label1))\n",
        "print(label1)\n",
        "\n",
        "label2 = genfromtxt('/content/drive/My Drive/estr3108 project/labely.csv.gz', delimiter=',', dtype=None, encoding=None,skip_header=0)          \n",
        "print('\\n','len of label2',len(label2))\n",
        "print(label2)"
      ],
      "execution_count": null,
      "outputs": [
        {
          "output_type": "stream",
          "text": [
            "len of label1 122556\n",
            "[['Leuk-UTI']\n",
            " ['Control']\n",
            " ['Control']\n",
            " ...\n",
            " ['Bac-SEP']\n",
            " ['Bac-SEP']\n",
            " ['Bac-SEP']]\n",
            "\n",
            " len of label2 122557\n",
            "['Control' 'Leuk-UTI' 'Control' ... 'Bac-SEP' 'Bac-SEP' 'Bac-SEP']\n"
          ],
          "name": "stdout"
        }
      ]
    },
    {
      "cell_type": "code",
      "metadata": {
        "id": "jex-UhkXJS4a",
        "outputId": "d8c06549-4bef-4d42-d8e5-baf7f21afab8",
        "colab": {
          "base_uri": "https://localhost:8080/",
          "height": 34
        }
      },
      "source": [
        "i"
      ],
      "execution_count": null,
      "outputs": [
        {
          "output_type": "execute_result",
          "data": {
            "text/plain": [
              "18"
            ]
          },
          "metadata": {
            "tags": []
          },
          "execution_count": 143
        }
      ]
    },
    {
      "cell_type": "markdown",
      "metadata": {
        "id": "s9fxkmbjYGpx"
      },
      "source": [
        "prepare data"
      ]
    },
    {
      "cell_type": "code",
      "metadata": {
        "id": "MwnsEL3zCPWr"
      },
      "source": [
        "import numpy as np\n",
        "import pandas as pd\n",
        "from numpy import genfromtxt"
      ],
      "execution_count": null,
      "outputs": []
    },
    {
      "cell_type": "code",
      "metadata": {
        "id": "FH9c-8kZrjJP",
        "outputId": "4fe7f43a-d2c5-4924-b28a-24068069c017",
        "colab": {
          "base_uri": "https://localhost:8080/",
          "height": 34
        }
      },
      "source": [
        "float_samples=samples[1:].astype('float64')"
      ],
      "execution_count": null,
      "outputs": [
        {
          "output_type": "execute_result",
          "data": {
            "text/plain": [
              "array([], dtype=int64)"
            ]
          },
          "metadata": {
            "tags": []
          },
          "execution_count": 110
        }
      ]
    },
    {
      "cell_type": "code",
      "metadata": {
        "id": "WiGOeAjQDwfC",
        "outputId": "002a2c47-5dd4-423e-f2b2-998c8b40e3ad",
        "colab": {
          "base_uri": "https://localhost:8080/",
          "height": 153
        }
      },
      "source": [
        "meta_data = genfromtxt('/content/drive/My Drive/estr3108 project/scp_meta.txt', names=True, dtype=None, encoding=\"utf8\")\n",
        "print(meta_data[meta_data['NAME']=='AAACCTGAGACGCTTT-1']['Cohort'])\n",
        "meta_data\n"
      ],
      "execution_count": null,
      "outputs": [
        {
          "output_type": "stream",
          "text": [
            "['Control']\n"
          ],
          "name": "stdout"
        },
        {
          "output_type": "execute_result",
          "data": {
            "text/plain": [
              "array([('TYPE', 'group', 'group', 'group', 'group', 'group'),\n",
              "       ('AAACCTGAGACGCTTT-1', 'T', 'TS2', 'Control', 'CD45', 'P18F'),\n",
              "       ('AAACCTGAGCAATCTC-1', 'B', 'BS1', 'Leuk-UTI', 'CD45', 'P20'), ...,\n",
              "       ('TTTGTCAAGTGTTTGC-35', 'Mono', 'MS2', 'Bac-SEP', 'CD45', 'E16'),\n",
              "       ('TTTGTCACAGCTTAAC-35', 'Mono', 'MS1', 'Bac-SEP', 'CD45', 'E16'),\n",
              "       ('TTTGTCAGTTATGCGT-35', 'Mono', 'MS1', 'Bac-SEP', 'CD45', 'E16')],\n",
              "      dtype=[('NAME', '<U19'), ('Cell_Type', '<U13'), ('Cell_State', '<U5'), ('Cohort', '<U9'), ('Sort', '<U5'), ('Patient', '<U6')])"
            ]
          },
          "metadata": {
            "tags": []
          },
          "execution_count": 12
        }
      ]
    },
    {
      "cell_type": "code",
      "metadata": {
        "id": "xlLw0xuoIa4H"
      },
      "source": [
        "#import pandas as pd\n",
        "#matrix_data =pd.read_csv('/content/drive/My Drive/estr3108 project/scp_gex_matrix.csv.gz', compression='gzip',error_bad_lines=False, nrows=10)\n",
        "matrix_Data = genfromtxt('scp_gex_matrix.csv.gz', delimiter=',', names=True, dtype=None, encoding=None,skip_header=0)\n"
      ],
      "execution_count": null,
      "outputs": []
    },
    {
      "cell_type": "code",
      "metadata": {
        "id": "xUz3kS3ofVwD"
      },
      "source": [
        "#import pandas as pd\n",
        "#matrix_data =pd.read_csv('/content/drive/My Drive/estr3108 project/out.csv.gz', compression='gzip',error_bad_lines=False, nrows=10,skiprows=0)\n",
        "matrix_Data = genfromtxt('/content/drive/My Drive/estr3108 project/out_tr.csv.gz',max_rows=10, names=True,delimiter=',', dtype=float, encoding=None,skip_header=0)#total 122558 rows\n",
        "label = genfromtxt('/content/drive/My Drive/estr3108 project/labely.csv.gz', delimiter=',', dtype=None, encoding=None,skip_header=0)                  #total 122557 labels\n"
      ],
      "execution_count": null,
      "outputs": []
    },
    {
      "cell_type": "code",
      "metadata": {
        "id": "5whlbn3iJEqX",
        "outputId": "a4113708-60b5-4e7a-e8c7-418c6f6254a1",
        "colab": {
          "base_uri": "https://localhost:8080/",
          "height": 51
        }
      },
      "source": [
        "#print(matrix_Data)\n",
        "rna=np.delete(matrix_data.columns,0)\n",
        "label = np.array([])\n",
        "for each in rna:\n",
        "  label = np.append(label,meta_data[meta_data['NAME']==each]['Cohort'][0])\n",
        "label"
      ],
      "execution_count": null,
      "outputs": [
        {
          "output_type": "execute_result",
          "data": {
            "text/plain": [
              "array(['Control', 'Leuk-UTI', 'Control', ..., 'Bac-SEP', 'Bac-SEP',\n",
              "       'Bac-SEP'], dtype='<U32')"
            ]
          },
          "metadata": {
            "tags": []
          },
          "execution_count": 20
        }
      ]
    },
    {
      "cell_type": "code",
      "metadata": {
        "id": "d1dBuMLeafiF"
      },
      "source": [
        "np.savetxt(\"/content/drive/My Drive/estr3108 project/labely.csv.gz\", label, fmt='%s')\n"
      ],
      "execution_count": null,
      "outputs": []
    },
    {
      "cell_type": "code",
      "metadata": {
        "id": "_XOj-fqnUTnC"
      },
      "source": [
        "matrix_Data"
      ],
      "execution_count": null,
      "outputs": []
    },
    {
      "cell_type": "markdown",
      "metadata": {
        "id": "jZKjoiQFuI1S"
      },
      "source": [
        "TAKE transpose of csv"
      ]
    },
    {
      "cell_type": "code",
      "metadata": {
        "id": "-2cpgYkWNxul"
      },
      "source": [
        "import pandas as pd\n",
        "N = 22858 \n",
        "batch_size = 50\n",
        "\n",
        "from_file = '/content/drive/My Drive/estr3108 project/scp_gex_matrix.csv.gz'\n",
        "to_file = 'my_large_file_transposed2.csv'\n",
        "for batch in range(N//batch_size + bool(N%batch_size)):\n",
        "    lcol = batch * batch_size\n",
        "    rcol = min(N, lcol+batch_size)\n",
        "    data = pd.read_csv(from_file, usecols=range(lcol, rcol))\n",
        "    with open(to_file, 'a') as _f:\n",
        "        data.T.to_csv(_f, header=False)"
      ],
      "execution_count": null,
      "outputs": []
    },
    {
      "cell_type": "markdown",
      "metadata": {
        "id": "lxJ6Q3iyuW4Z"
      },
      "source": [
        "read csv file and remove empty row"
      ]
    },
    {
      "cell_type": "code",
      "metadata": {
        "id": "ngMPh3HAfKV0"
      },
      "source": [
        "\n",
        "count=0\n",
        "done=0\n",
        "batch=1\n",
        "head = True\n",
        "\n",
        "\n",
        "for df in pd.read_csv(\"/content/drive/My Drive/estr3108 project/scp_gex_matrix.csv.gz\",compression =\"gzip\", chunksize=batch,index_col=False):\n",
        "\n",
        "    df = df[(df.loc[:, df.columns != \"GENE\"].T != 0).any()] # remove all zero rows\n",
        "    df.to_csv('out.csv.gz', index=False,compression=\"gzip\",mode=\"a\",header= head)  \n",
        "    head=False\n",
        "    count=count+batch\n",
        "    done=done+len(df)\n",
        "    print(\"finished \",count,\" record, added\",done,\" record\")\n",
        "    \n",
        "\n",
        "\n",
        "\n",
        "\n",
        "#continue processing on z"
      ],
      "execution_count": null,
      "outputs": []
    },
    {
      "cell_type": "markdown",
      "metadata": {
        "id": "MuQyZ0qM46BN"
      },
      "source": [
        "testing "
      ]
    },
    {
      "cell_type": "code",
      "metadata": {
        "id": "qUQ-qTiiwdxL",
        "outputId": "f55f50c7-065b-4a69-e8fa-96cac7b078ed",
        "colab": {
          "base_uri": "https://localhost:8080/",
          "height": 170
        }
      },
      "source": [
        "data = {'GENE':  [\"ABC\", \"DEF\" ,\"aa\"],\n",
        "        'rna': [0., 1.,2.],\n",
        "        'dna': [0., 1.,3.],\n",
        "        }\n",
        "\n",
        "df = pd.DataFrame (data)\n",
        "print(df)\n",
        "print(df.T.dtypes)\n",
        "df = df[(df.loc[:, df.columns != \"GENE\"].T != 0).any()]\n",
        "print(len(df))"
      ],
      "execution_count": null,
      "outputs": [
        {
          "output_type": "stream",
          "text": [
            "  GENE  rna  dna\n",
            "0  ABC  0.0  0.0\n",
            "1  DEF  1.0  1.0\n",
            "2   aa  2.0  3.0\n",
            "0    object\n",
            "1    object\n",
            "2    object\n",
            "dtype: object\n",
            "2\n"
          ],
          "name": "stdout"
        }
      ]
    },
    {
      "cell_type": "code",
      "metadata": {
        "id": "yMwCN2jKz7ig",
        "outputId": "eae12605-44de-4626-a498-592b43995ef3",
        "colab": {
          "base_uri": "https://localhost:8080/",
          "height": 136
        }
      },
      "source": [
        "\n",
        "\n",
        "a=np.array([['GENE','AAACCTGAGACGCTTT-1','TTTGTCAAGTGTTTGC-35','TTTGTCAGTTATGCGT-35'],['test1',1,0,99],['test2',2,1.1,99]])\n",
        "\n",
        "a=np.transpose(a)\n",
        "\n",
        "a=np.delete(a,0,axis=0)\n",
        "\n",
        "b = [meta_data[meta_data['NAME']==row[0]]['Cohort'][0] for row in a ] \n",
        "a=np.delete(a,0,axis=1)\n",
        "\n",
        "# split a dataset into train and test sets\n",
        "print(a,b)\n",
        "from sklearn.datasets import make_blobs\n",
        "from sklearn.model_selection import train_test_split\n",
        "\n",
        "X_train, X_test, y_train, y_test = train_test_split(a, b, test_size=0.33, random_state=1)\n",
        "print(X_train, X_test, y_train, y_test)\n",
        "\n",
        "\n",
        "\n",
        "\n",
        "print(X_train, X_test, y_train, y_test)"
      ],
      "execution_count": null,
      "outputs": [
        {
          "output_type": "stream",
          "text": [
            "[['1' '2']\n",
            " ['0' '1.1']\n",
            " ['99' '99']] ['Control', 'Bac-SEP', 'Bac-SEP']\n",
            "[['99' '99']\n",
            " ['0' '1.1']] [['1' '2']] ['Bac-SEP', 'Bac-SEP'] ['Control']\n",
            "[['99' '99']\n",
            " ['0' '1.1']] [['1' '2']] ['Bac-SEP', 'Bac-SEP'] ['Control']\n"
          ],
          "name": "stdout"
        }
      ]
    },
    {
      "cell_type": "code",
      "metadata": {
        "id": "qO91sefi60ra"
      },
      "source": [
        ""
      ],
      "execution_count": null,
      "outputs": []
    },
    {
      "cell_type": "code",
      "metadata": {
        "id": "nhjNdYlS3pHz",
        "outputId": "55e0e153-6bbe-4677-a4e3-e5a93ac7620c",
        "colab": {
          "base_uri": "https://localhost:8080/",
          "height": 374
        }
      },
      "source": [
        "print(\"start\")\n",
        "X = np.empty((0,122558)) # Will have memory error soon\n",
        "for df in pd.read_csv(r\"/content/drive/My Drive/estr3108 project/scp_gex_matrix.csv.gz\",compression =\"gzip\", chunksize=10):\n",
        "    df = df[(df.loc[:, df.columns != \"GENE\"].T != 0).any()] # remove all zero rows\n",
        "    print(df)\n",
        "    arr = df.to_numpy()\n",
        "    X = np.vstack([X,arr]) # error after 450 rows \n",
        "    print(X)\n",
        "    break\n",
        "\n",
        "\n",
        "idx = np.argwhere(np.all(X[..., :] ==0,axis = 0)) #find index of zero columns\n",
        "X=np.vstack([df.columns.to_numpy(),X])\n",
        "X = np.delete(X,idx,axis = 1) #remove all zero columns\n",
        "\n",
        "#continue processing on X"
      ],
      "execution_count": null,
      "outputs": [
        {
          "output_type": "stream",
          "text": [
            "start\n",
            "            GENE  AAACCTGAGACGCTTT-1  ...  TTTGTCACAGCTTAAC-35  TTTGTCAGTTATGCGT-35\n",
            "0   RP11-34P13.7                 0.0  ...                  0.0                  0.0\n",
            "1   RP11-34P13.8                 0.0  ...                  0.0                  0.0\n",
            "2   RP11-34P13.9                 0.0  ...                  0.0                  0.0\n",
            "3     FO538757.3                 0.0  ...                  0.0                  0.0\n",
            "4     FO538757.2                 0.0  ...                  0.0                  2.0\n",
            "5     AP006222.2                 0.0  ...                  0.0                  0.0\n",
            "6  RP4-669L17.10                 0.0  ...                  0.0                  0.0\n",
            "7   RP5-857K21.4                 0.0  ...                  0.0                  0.0\n",
            "8  RP11-206L10.9                 0.0  ...                  0.0                  0.0\n",
            "9         FAM87B                 0.0  ...                  0.0                  0.0\n",
            "\n",
            "[10 rows x 122558 columns]\n",
            "[['RP11-34P13.7' 0.0 0.0 ... 0.0 0.0 0.0]\n",
            " ['RP11-34P13.8' 0.0 0.0 ... 0.0 0.0 0.0]\n",
            " ['RP11-34P13.9' 0.0 0.0 ... 0.0 0.0 0.0]\n",
            " ...\n",
            " ['RP5-857K21.4' 0.0 0.0 ... 0.0 0.0 0.0]\n",
            " ['RP11-206L10.9' 0.0 0.0 ... 0.0 0.0 0.0]\n",
            " ['FAM87B' 0.0 0.0 ... 0.0 0.0 0.0]]\n"
          ],
          "name": "stdout"
        }
      ]
    },
    {
      "cell_type": "markdown",
      "metadata": {
        "id": "V3HsHCSh3NXT"
      },
      "source": [
        "Multi class classification (single label)"
      ]
    },
    {
      "cell_type": "code",
      "metadata": {
        "id": "UMuuv50sYYhZ"
      },
      "source": [
        "\n",
        "from sklearn.multiclass import OneVsRestClassifier\n",
        "from sklearn.svm import SVC \n",
        "from sklearn.model_selection import train_test_split\n",
        "import numpy as np\n",
        "import matplotlib.pyplot as plt\n",
        "from matplotlib import style\n"
      ],
      "execution_count": null,
      "outputs": []
    },
    {
      "cell_type": "code",
      "metadata": {
        "id": "Cuf3rtPvgsNl",
        "outputId": "a144a84a-95f1-413c-9d93-cc60790ebc75",
        "colab": {
          "base_uri": "https://localhost:8080/",
          "height": 136
        }
      },
      "source": [
        "from sklearn.preprocessing import MultiLabelBinarizer\n",
        "\n",
        "#get first 999 samples\n",
        "X=matrix_Data[1:1000]\n",
        "y=label[:999]\n",
        "\n",
        "#change label to sequences of number\n",
        "encoder = MultiLabelBinarizer()\n",
        "transfomed_label = encoder.fit_transform(y)\n",
        "print(transfomed_label)\n",
        "y=transfomed_label"
      ],
      "execution_count": null,
      "outputs": [
        {
          "output_type": "stream",
          "text": [
            "[[0 1 0 ... 1 1 0]\n",
            " [1 0 1 ... 0 0 1]\n",
            " [0 1 0 ... 1 1 0]\n",
            " ...\n",
            " [0 1 0 ... 1 1 0]\n",
            " [0 1 0 ... 1 1 0]\n",
            " [1 0 1 ... 0 0 1]]\n"
          ],
          "name": "stdout"
        }
      ]
    },
    {
      "cell_type": "code",
      "metadata": {
        "id": "fmokdljx38R4"
      },
      "source": [
        "X=X.tolist()"
      ],
      "execution_count": null,
      "outputs": []
    },
    {
      "cell_type": "code",
      "metadata": {
        "id": "GYGhLGo8WRjT"
      },
      "source": [
        "#separate test and train cases\n",
        "X_train, X_test, y_train, y_test = train_test_split(X, y, test_size=0.1, random_state=1)\n",
        "#print(X_train, X_test, y_train, y_test)"
      ],
      "execution_count": null,
      "outputs": []
    },
    {
      "cell_type": "code",
      "metadata": {
        "id": "gsmeAVrQoays",
        "outputId": "f9bc55d9-3aac-4f82-c3b1-dd27101a8d04",
        "colab": {
          "base_uri": "https://localhost:8080/",
          "height": 34
        }
      },
      "source": [
        "#start training\n",
        "clf = OneVsRestClassifier(SVC()).fit(X_train, y_train)\n",
        "print('done')"
      ],
      "execution_count": null,
      "outputs": [
        {
          "output_type": "stream",
          "text": [
            "done\n"
          ],
          "name": "stdout"
        }
      ]
    },
    {
      "cell_type": "code",
      "metadata": {
        "id": "G7gDwOFtpcy1",
        "outputId": "23e06c76-27d8-4a4c-d836-8e7ab78700f8",
        "colab": {
          "base_uri": "https://localhost:8080/",
          "height": 34
        }
      },
      "source": [
        "#score\n",
        "#print(\"Training:\"+str(clf.score(X_train,y_train)))\n",
        "print(\"Test:\"+str(clf.score(X_test,y_test)))"
      ],
      "execution_count": null,
      "outputs": [
        {
          "output_type": "stream",
          "text": [
            "Test:0.88\n"
          ],
          "name": "stdout"
        }
      ]
    },
    {
      "cell_type": "code",
      "metadata": {
        "id": "5YkC50tVmjaM",
        "outputId": "5f6334ef-a0db-487d-8b29-1aa4feed15e1",
        "colab": {
          "base_uri": "https://localhost:8080/",
          "height": 187
        }
      },
      "source": [
        "#check if whether all ans are the same :(((())))\n",
        "ans=clf.predict(X_test)\n",
        "#temp= [0, 1, 0, 0, 0, 0, 0, 0, 1, 1, 1, 1, 1, 0]\n",
        "#ans=ans[(ans!=temp).any()]\n",
        "print(ans[:10])"
      ],
      "execution_count": null,
      "outputs": [
        {
          "output_type": "stream",
          "text": [
            "[[1 0 1 1 1 1 1 1 0 0 0 0 0 1]\n",
            " [0 1 0 0 0 0 0 0 1 1 1 1 1 0]\n",
            " [0 1 0 0 0 0 0 0 1 1 1 1 1 0]\n",
            " [1 0 1 1 1 1 1 1 0 0 0 0 0 1]\n",
            " [0 1 0 0 0 0 0 0 1 1 1 1 1 0]\n",
            " [0 1 0 0 0 0 0 0 1 1 1 1 1 0]\n",
            " [0 1 0 0 0 0 0 0 1 1 1 1 1 0]\n",
            " [1 0 1 1 1 1 1 1 0 0 0 0 0 1]\n",
            " [0 1 0 0 0 0 0 0 1 1 1 1 1 0]\n",
            " [0 1 0 0 0 0 0 0 1 1 1 1 1 0]]\n"
          ],
          "name": "stdout"
        }
      ]
    },
    {
      "cell_type": "code",
      "metadata": {
        "id": "c0_KyERENAcD",
        "outputId": "347c9b5f-b70b-4b0c-da6e-71f8151631bb",
        "colab": {
          "base_uri": "https://localhost:8080/",
          "height": 34
        }
      },
      "source": [
        "#save model\n",
        "from joblib import dump\n",
        "dump(clf, '/content/drive/My Drive/estr3108 project/model/20201003_1000samples.joblib',compress=True) "
      ],
      "execution_count": null,
      "outputs": [
        {
          "output_type": "execute_result",
          "data": {
            "text/plain": [
              "['/content/drive/My Drive/estr3108 project/model/20201003_1000samples.joblib']"
            ]
          },
          "metadata": {
            "tags": []
          },
          "execution_count": 69
        }
      ]
    },
    {
      "cell_type": "code",
      "metadata": {
        "id": "61Z49ByanZWv"
      },
      "source": [
        "#load model\n",
        "from joblib import load\n",
        "clf=load( '/content/drive/My Drive/estr3108 project/model/20201003_1000sample.joblib') "
      ],
      "execution_count": null,
      "outputs": []
    },
    {
      "cell_type": "markdown",
      "metadata": {
        "id": "emGD3dQL7FN9"
      },
      "source": [
        "get P value"
      ]
    },
    {
      "cell_type": "code",
      "metadata": {
        "id": "UamV37GY7E_-"
      },
      "source": [
        "t_stat,pvalue = stats.ttest_ind(con_sample, case_sample, axis = 0, equal_var=True, nan_policy='raise')\n",
        "rejected, P_fdr = sm.fdrcorrection(pvalue, alpha=0.05, method='indep', is_sorted=False)\n"
      ],
      "execution_count": null,
      "outputs": []
    }
  ]
}