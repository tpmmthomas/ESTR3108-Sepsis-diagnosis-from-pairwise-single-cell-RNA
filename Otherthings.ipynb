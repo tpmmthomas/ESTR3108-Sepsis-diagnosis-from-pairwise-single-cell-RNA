{
 "cells": [
  {
   "cell_type": "markdown",
   "metadata": {},
   "source": [
    "# 401 CNN\n",
    "\n",
    "View more, visit my tutorial page: https://morvanzhou.github.io/tutorials/\n",
    "My Youtube Channel: https://www.youtube.com/user/MorvanZhou\n",
    "\n",
    "Dependencies:\n",
    "* torch: 0.1.11\n",
    "* torchvision\n",
    "* matplotlib"
   ]
  },
  {
   "cell_type": "code",
   "execution_count": 36,
   "metadata": {},
   "outputs": [],
   "source": [
    "# importing the libraries\n",
    "import pandas as pd\n",
    "import numpy as np\n",
    "\n",
    "# for reading and displaying images\n",
    "from skimage.io import imread\n",
    "import matplotlib.pyplot as plt\n",
    "\n",
    "# for creating validation set\n",
    "from sklearn.model_selection import train_test_split\n",
    "\n",
    "# for evaluating the model\n",
    "from sklearn.metrics import accuracy_score\n",
    "from tqdm import tqdm\n",
    "\n",
    "# PyTorch libraries and modules\n",
    "import torch\n",
    "from torch.autograd import Variable\n",
    "import torch.nn as nn\n",
    "from torch.optim import Adam, SGD"
   ]
  },
  {
   "cell_type": "code",
   "execution_count": 37,
   "metadata": {},
   "outputs": [
    {
     "name": "stdout",
     "output_type": "stream",
     "text": [
      "done\n",
      "(110301, 1)\n",
      "(12256, 1)\n"
     ]
    }
   ],
   "source": [
    "# Load training data set (small amount to test if it works first\n",
    "\n",
    "ytrain = r\"data/training_label2.csv.gz\"\n",
    "ytest = r\"data/testing_label2.csv.gz\"\n",
    "\n",
    "samplesdf = pd.read_csv(ytrain,compression =\"gzip\",delimiter=',', header=0)\n",
    "y_train = samplesdf.to_numpy()\n",
    "\n",
    "samplesdf = pd.read_csv(ytest,compression =\"gzip\",delimiter=',', header=0)\n",
    "y_test = samplesdf.to_numpy()\n",
    "print(\"done\")\n",
    "print(y_train.shape)\n",
    "print(y_test.shape)"
   ]
  },
  {
   "cell_type": "code",
   "execution_count": 38,
   "metadata": {},
   "outputs": [
    {
     "name": "stdout",
     "output_type": "stream",
     "text": [
      "[array(['ICU-SEP'], dtype=object), array(['Control'], dtype=object), array(['Leuk-UTI'], dtype=object), array(['Int-URO'], dtype=object), array(['URO'], dtype=object), array(['Bac-SEP'], dtype=object), array(['ICU-NoSEP'], dtype=object)]\n"
     ]
    }
   ],
   "source": [
    "a = []\n",
    "for s in y_train:\n",
    "    if (s in a)==False:\n",
    "        a.append(s)\n",
    "print(a)"
   ]
  },
  {
   "cell_type": "code",
   "execution_count": 39,
   "metadata": {},
   "outputs": [
    {
     "name": "stdout",
     "output_type": "stream",
     "text": [
      "[array(['ICU-SEP'], dtype=object), array(['Control'], dtype=object), array(['Leuk-UTI'], dtype=object), array(['Int-URO'], dtype=object), array(['URO'], dtype=object), array(['Bac-SEP'], dtype=object), array(['ICU-NoSEP'], dtype=object)]\n"
     ]
    }
   ],
   "source": [
    "for s in y_test:\n",
    "    if (s in a)==False:\n",
    "        a.append(s)\n",
    "print(a)"
   ]
  },
  {
   "cell_type": "code",
   "execution_count": 40,
   "metadata": {},
   "outputs": [
    {
     "data": {
      "text/plain": [
       "array([[1.],\n",
       "       [0.],\n",
       "       [0.],\n",
       "       ...,\n",
       "       [2.],\n",
       "       [0.],\n",
       "       [2.]])"
      ]
     },
     "execution_count": 40,
     "metadata": {},
     "output_type": "execute_result"
    }
   ],
   "source": [
    "ytrainl = np.empty(110301).reshape(110301,1)\n",
    "i = 0\n",
    "for s in y_train:\n",
    "    if s == \"Control\":\n",
    "        ytrainl[i] = 0\n",
    "    elif s == \"ICU-SEP\":\n",
    "        ytrainl[i] = 1\n",
    "    elif s == \"Leuk-UTI\":\n",
    "        ytrainl[i] = 2\n",
    "    elif s == \"Int-URO\":\n",
    "        ytrainl[i] = 3\n",
    "    elif s == \"URO\":\n",
    "        ytrainl[i] = 4\n",
    "    elif s == \"Bac-SEP\":\n",
    "        ytrainl[i] = 5\n",
    "    elif s == \"ICU-NoSEP\":\n",
    "        ytrainl[i] = 6\n",
    "    i = i + 1\n",
    "ytrainl"
   ]
  },
  {
   "cell_type": "code",
   "execution_count": 42,
   "metadata": {},
   "outputs": [
    {
     "data": {
      "text/plain": [
       "array([[0.],\n",
       "       [3.],\n",
       "       [0.],\n",
       "       ...,\n",
       "       [0.],\n",
       "       [2.],\n",
       "       [0.]])"
      ]
     },
     "execution_count": 42,
     "metadata": {},
     "output_type": "execute_result"
    }
   ],
   "source": [
    "ytestl = np.empty(12256).reshape(12256,1)\n",
    "i = 0\n",
    "for s in y_test:\n",
    "    if s == \"Control\":\n",
    "        ytestl[i] = 0\n",
    "    elif s == \"ICU-SEP\":\n",
    "        ytestl[i] = 1\n",
    "    elif s == \"Leuk-UTI\":\n",
    "        ytestl[i] = 2\n",
    "    elif s == \"Int-URO\":\n",
    "        ytestl[i] = 3\n",
    "    elif s == \"URO\":\n",
    "        ytestl[i] = 4\n",
    "    elif s == \"Bac-SEP\":\n",
    "        ytestl[i] = 5\n",
    "    elif s == \"ICU-NoSEP\":\n",
    "        ytestl[i] = 6\n",
    "    i = i + 1\n",
    "ytestl"
   ]
  },
  {
   "cell_type": "code",
   "execution_count": 43,
   "metadata": {},
   "outputs": [
    {
     "name": "stdout",
     "output_type": "stream",
     "text": [
      "Done\n"
     ]
    }
   ],
   "source": [
    "df = pd.DataFrame(ytrainl)\n",
    "df.to_csv(r\"data/training_label2_int.csv.gz\",index=False,sep=\",\",compression=\"gzip\")\n",
    "df = pd.DataFrame(ytestl)\n",
    "df.to_csv(r\"data/testing_label2_int.csv.gz\",index=False,sep=\",\",compression=\"gzip\")\n",
    "print(\"Done\")"
   ]
  }
 ],
 "metadata": {
  "kernelspec": {
   "display_name": "Python 3",
   "language": "python",
   "name": "python3"
  }
 },
 "nbformat": 4,
 "nbformat_minor": 2
}
