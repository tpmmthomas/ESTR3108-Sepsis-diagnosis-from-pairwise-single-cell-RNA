{
 "cells": [
  {
   "cell_type": "code",
   "execution_count": 1,
   "metadata": {},
   "outputs": [],
   "source": [
    "# importing the libraries\n",
    "import pandas as pd\n",
    "import numpy as np\n",
    "import os\n",
    "\n",
    "# for reading and displaying images\n",
    "from skimage.io import imread\n",
    "import matplotlib.pyplot as plt\n",
    "%matplotlib inline\n",
    "\n",
    "# for creating validation set\n",
    "from sklearn.model_selection import train_test_split\n",
    "\n",
    "# for evaluating the model\n",
    "from sklearn.metrics import accuracy_score\n",
    "from tqdm import tqdm\n",
    "\n",
    "# PyTorch libraries and modules\n",
    "import torch\n",
    "from torch.autograd import Variable\n",
    "import torch.nn as nn\n",
    "from torch.optim import Adam, SGD\n",
    "from torch.utils.data import Dataset, DataLoader\n",
    "\n",
    "from sklearn.metrics import *\n",
    "#Transformers\n",
    "from module import *"
   ]
  },
  {
   "cell_type": "code",
   "execution_count": 2,
   "metadata": {},
   "outputs": [],
   "source": [
    "# Load training data set (small amount to test if it works first)\n",
    "\n",
    "xtrain = r\"data/training_sample_4s.csv.gz\"\n",
    "ytrain = r\"data/training_label_4s.csv.gz\"\n",
    "xtest = r\"data/testing_sample2_4s.csv.gz\"\n",
    "ytest = r\"data/testing_label_4s.csv.gz\"\n"
   ]
  },
  {
   "cell_type": "code",
   "execution_count": 3,
   "metadata": {},
   "outputs": [
    {
     "data": {
      "text/plain": [
       "(3863, 3158)"
      ]
     },
     "execution_count": 3,
     "metadata": {},
     "output_type": "execute_result"
    }
   ],
   "source": [
    "#check balance\n",
    "samplesdf = pd.DataFrame()\n",
    "for df in  pd.read_csv(ytrain,compression =\"gzip\",delimiter=',', chunksize = 10000, header=0):\n",
    "    samplesdf = samplesdf.append(df)\n",
    "y_train = samplesdf.to_numpy()\n",
    "\n",
    "num0 = 0\n",
    "num1 = 0\n",
    "for x in y_train:\n",
    "    if x == 0:\n",
    "        num0 = num0 + 1\n",
    "    else:\n",
    "        num1 = num1 + 1\n",
    "num0,num1 #checking if it is balanced"
   ]
  },
  {
   "cell_type": "code",
   "execution_count": 4,
   "metadata": {
    "scrolled": true
   },
   "outputs": [
    {
     "name": "stdout",
     "output_type": "stream",
     "text": [
      "(123, 3271)\n"
     ]
    }
   ],
   "source": [
    "df = pd.read_csv(xtrain,compression =\"gzip\",delimiter=',', nrows=123, header=0)\n",
    "x_train = df.to_numpy()\n",
    "print(x_train.shape)"
   ]
  },
  {
   "cell_type": "code",
   "execution_count": 5,
   "metadata": {},
   "outputs": [],
   "source": [
    "class Dataset(Dataset):\n",
    "\n",
    "    def __init__(self,samples,labels):\n",
    "\n",
    "        self.data = pd.read_csv(samples,compression =\"gzip\",delimiter=',', header=0)\n",
    "        self.label = pd.read_csv(labels,compression =\"gzip\",delimiter=',', header=0)\n",
    "        \n",
    "    def __len__(self):\n",
    "        return len(self.data)\n",
    "\n",
    "    def __getitem__(self, idx):\n",
    "        if torch.is_tensor(idx):\n",
    "            idx = idx.tolist()\n",
    "\n",
    "        rna = self.data.iloc[idx]\n",
    "        seplb = self.label.iloc[idx]\n",
    "        rna = np.array([rna])\n",
    "        seplb = np.array([seplb])\n",
    "        rna = rna.astype('double').reshape(-1,3271)\n",
    "        i = 0\n",
    "        d = np.zeros((len(seplb),2))\n",
    "        for x in seplb:\n",
    "            if x == 0:\n",
    "                d[i] = [1,0]\n",
    "            else:\n",
    "                d[i] = [0,1]\n",
    "        sample = {'rna': rna, 'label': d}\n",
    "\n",
    "        return sample"
   ]
  },
  {
   "cell_type": "code",
   "execution_count": 6,
   "metadata": {},
   "outputs": [],
   "source": [
    "train_dataset = Dataset(samples=xtrain,labels=ytrain)\n",
    "test_dataset = Dataset(samples = xtest,labels = ytest)"
   ]
  },
  {
   "cell_type": "code",
   "execution_count": 7,
   "metadata": {},
   "outputs": [],
   "source": [
    "# Hyper Parameters\n",
    "EPOCH = 20             # train the training data n times, to save time, we just train 1 epoch\n",
    "LR = 0.0001              # learning rate\n",
    "batch_size = 32\n",
    "wd = LR / EPOCH"
   ]
  },
  {
   "cell_type": "code",
   "execution_count": 8,
   "metadata": {},
   "outputs": [],
   "source": [
    "train_loader = DataLoader(dataset=train_dataset, batch_size=batch_size, shuffle=True)\n",
    "test_loader = DataLoader(dataset=test_dataset, batch_size=batch_size, shuffle=False)"
   ]
  },
  {
   "cell_type": "code",
   "execution_count": 9,
   "metadata": {},
   "outputs": [],
   "source": [
    "class CNN(nn.Module):\n",
    "    def __init__(self):\n",
    "        super(CNN, self).__init__()\n",
    "        self.conv1 = nn.Sequential(         # input shape (x,1, 8949)\n",
    "            nn.Conv1d(\n",
    "                in_channels=1,              # input height\n",
    "                out_channels=4,            # n_filters\n",
    "                kernel_size=3,              # filter size\n",
    "                stride=1,                   # filter movement/step\n",
    "                padding=1,                  # if want same width and length of this image after con2d, padding=(kernel_size-1)/2 if stride=1\n",
    "            ),                              # output shape (x,64,8949)\n",
    "            nn.BatchNorm1d(4),\n",
    "            nn.ReLU(),                      # activation\n",
    "        )\n",
    "        self.conv2 = nn.Sequential(         # input shape (x,64, 8949)\n",
    "            nn.Conv1d(4,4,3,1,1),            \n",
    "            nn.ReLU(),  \n",
    "            nn.Dropout(p=0.1),\n",
    "            nn.MaxPool1d(kernel_size =2, stride=2,ceil_mode = True),                # output shape (x,64,4478)\n",
    "        )\n",
    "        self.conv3 = nn.Sequential(         # input shape (x,64,4478)\n",
    "            nn.Conv1d(4, 4, 3, 1, 1),     # output shape (x,128,4478)\n",
    "            nn.ReLU(),                      # activation\n",
    "            nn.MaxPool1d(kernel_size =2, stride=2,ceil_mode = True),                # output shape (x,128,2238)\n",
    "        )\n",
    "        self.out = nn.Linear(3276 , 2)   # fully connected layer, output 10 classes\n",
    "\n",
    "    def forward(self, x):\n",
    "        x = self.conv1(x)\n",
    "        x = self.conv2(x)\n",
    "        x = self.conv3(x)\n",
    "        x = x.view(x.size(0), -1)\n",
    "        output = self.out(x)\n",
    "        return output  "
   ]
  },
  {
   "cell_type": "markdown",
   "metadata": {},
   "source": [
    "cnn = CNN()\n",
    "optimizer = torch.optim.Adam(cnn.parameters(), lr=LR)   # optimize all cnn parameters\n",
    "loss_func = nn.CrossEntropyLoss()                       # the target label is not one-hotted\n",
    "if torch.cuda.is_available():\n",
    "    cnn = cnn.cuda()\n",
    "    loss_func = loss_func.cuda()\n",
    "cnn = cnn.double()    \n",
    "print(cnn)"
   ]
  },
  {
   "cell_type": "code",
   "execution_count": 10,
   "metadata": {},
   "outputs": [],
   "source": [
    "class SetTransformer(nn.Module):\n",
    "    def __init__(self, dim_input, num_outputs, dim_output,\n",
    "            num_inds=32, dim_hidden=128, num_heads=2, ln=False):\n",
    "        super(SetTransformer, self).__init__()\n",
    "        self.enc = nn.Sequential(\n",
    "                ISAB(dim_input, dim_hidden, num_heads, num_inds, ln=ln),\n",
    "                ISAB(dim_hidden, dim_hidden, num_heads, num_inds, ln=ln))\n",
    "        self.dec = nn.Sequential(\n",
    "                PMA(dim_hidden, num_heads, num_outputs, ln=ln),\n",
    "                SAB(dim_hidden, dim_hidden, num_heads, ln=ln),\n",
    "                SAB(dim_hidden, dim_hidden, num_heads, ln=ln),\n",
    "                nn.Linear(dim_hidden, dim_output))\n",
    "\n",
    "    def forward(self, X):\n",
    "        return self.dec(self.enc(X))"
   ]
  },
  {
   "cell_type": "markdown",
   "metadata": {},
   "source": [
    "trans = SetTransformer(3273,2,1)\n",
    "optimizer = torch.optim.Adam(trans.parameters(), lr=LR)   \n",
    "loss_func = nn.L1Loss()                      \n",
    "if torch.cuda.is_available():\n",
    "    loss_func = loss_func.cuda()\n",
    "    trans = trans.cuda()\n",
    "trans = trans.double()\n",
    "print(trans)"
   ]
  },
  {
   "cell_type": "code",
   "execution_count": 17,
   "metadata": {},
   "outputs": [],
   "source": [
    "class CNN_Trans(nn.Module):\n",
    "    def __init__(self, dim_input, num_outputs, dim_output,\n",
    "            num_inds=32, dim_hidden=128, num_heads=4, ln=False):\n",
    "        super(CNN_Trans, self).__init__()\n",
    "        self.conv1 = nn.Sequential(         # input shape (x,1, 8949)\n",
    "            nn.Conv1d(\n",
    "                in_channels=1,              # input height\n",
    "                out_channels=4,            # n_filters\n",
    "                kernel_size=3,              # filter size\n",
    "                stride=1,                   # filter movement/step\n",
    "                padding=1,                  # if want same width and length of this image after con2d, padding=(kernel_size-1)/2 if stride=1\n",
    "            ),                              # output shape (x,64,8949)\n",
    "            nn.BatchNorm1d(4),\n",
    "            nn.ReLU(),                      # activation\n",
    "        )\n",
    "        self.conv2 = nn.Sequential(         # input shape (x,64, 8949)\n",
    "            nn.Conv1d(4,4,3,1,1),            \n",
    "            nn.ReLU(),  \n",
    "            nn.Dropout(p=0.1),\n",
    "            nn.MaxPool1d(kernel_size =2, stride=2,ceil_mode = True),                # output shape (x,64,4478)\n",
    "        )\n",
    "        self.conv3 = nn.Sequential(         # input shape (x,64,4478)\n",
    "            nn.Conv1d(4, 8, 3, 1, 1),     # output shape (x,128,4478)\n",
    "            nn.ReLU(),                      # activation\n",
    "            nn.MaxPool1d(kernel_size =2, stride=2,ceil_mode = True),                # output shape (x,128,2238)\n",
    "        )\n",
    "        self.enc = nn.Sequential(\n",
    "                ISAB(dim_input, dim_hidden, num_heads, num_inds, ln=ln),\n",
    "                ISAB(dim_hidden, dim_hidden, num_heads, num_inds, ln=ln))\n",
    "        self.dec = nn.Sequential(\n",
    "                PMA(dim_hidden, num_heads, num_outputs, ln=ln),\n",
    "                SAB(dim_hidden, dim_hidden, num_heads, ln=ln),\n",
    "                SAB(dim_hidden, dim_hidden, num_heads, ln=ln),\n",
    "                nn.Linear(dim_hidden, dim_output))\n",
    "\n",
    "    def forward(self, x):\n",
    "        x = self.conv1(x)\n",
    "        x = self.conv2(x)\n",
    "        x = self.conv3(x)\n",
    "        x = x.view(x.size(0), -1)\n",
    "        x = x.reshape(-1,1,6544)\n",
    "        return self.dec(self.enc(x))"
   ]
  },
  {
   "cell_type": "code",
   "execution_count": 18,
   "metadata": {},
   "outputs": [
    {
     "name": "stdout",
     "output_type": "stream",
     "text": [
      "CNN_Trans(\n",
      "  (conv1): Sequential(\n",
      "    (0): Conv1d(1, 4, kernel_size=(3,), stride=(1,), padding=(1,))\n",
      "    (1): BatchNorm1d(4, eps=1e-05, momentum=0.1, affine=True, track_running_stats=True)\n",
      "    (2): ReLU()\n",
      "  )\n",
      "  (conv2): Sequential(\n",
      "    (0): Conv1d(4, 4, kernel_size=(3,), stride=(1,), padding=(1,))\n",
      "    (1): ReLU()\n",
      "    (2): Dropout(p=0.1, inplace=False)\n",
      "    (3): MaxPool1d(kernel_size=2, stride=2, padding=0, dilation=1, ceil_mode=True)\n",
      "  )\n",
      "  (conv3): Sequential(\n",
      "    (0): Conv1d(4, 8, kernel_size=(3,), stride=(1,), padding=(1,))\n",
      "    (1): ReLU()\n",
      "    (2): MaxPool1d(kernel_size=2, stride=2, padding=0, dilation=1, ceil_mode=True)\n",
      "  )\n",
      "  (enc): Sequential(\n",
      "    (0): ISAB(\n",
      "      (mab0): MAB(\n",
      "        (fc_q): Linear(in_features=128, out_features=128, bias=True)\n",
      "        (fc_k): Linear(in_features=6544, out_features=128, bias=True)\n",
      "        (fc_v): Linear(in_features=6544, out_features=128, bias=True)\n",
      "        (fc_o): Linear(in_features=128, out_features=128, bias=True)\n",
      "      )\n",
      "      (mab1): MAB(\n",
      "        (fc_q): Linear(in_features=6544, out_features=128, bias=True)\n",
      "        (fc_k): Linear(in_features=128, out_features=128, bias=True)\n",
      "        (fc_v): Linear(in_features=128, out_features=128, bias=True)\n",
      "        (fc_o): Linear(in_features=128, out_features=128, bias=True)\n",
      "      )\n",
      "    )\n",
      "    (1): ISAB(\n",
      "      (mab0): MAB(\n",
      "        (fc_q): Linear(in_features=128, out_features=128, bias=True)\n",
      "        (fc_k): Linear(in_features=128, out_features=128, bias=True)\n",
      "        (fc_v): Linear(in_features=128, out_features=128, bias=True)\n",
      "        (fc_o): Linear(in_features=128, out_features=128, bias=True)\n",
      "      )\n",
      "      (mab1): MAB(\n",
      "        (fc_q): Linear(in_features=128, out_features=128, bias=True)\n",
      "        (fc_k): Linear(in_features=128, out_features=128, bias=True)\n",
      "        (fc_v): Linear(in_features=128, out_features=128, bias=True)\n",
      "        (fc_o): Linear(in_features=128, out_features=128, bias=True)\n",
      "      )\n",
      "    )\n",
      "  )\n",
      "  (dec): Sequential(\n",
      "    (0): PMA(\n",
      "      (mab): MAB(\n",
      "        (fc_q): Linear(in_features=128, out_features=128, bias=True)\n",
      "        (fc_k): Linear(in_features=128, out_features=128, bias=True)\n",
      "        (fc_v): Linear(in_features=128, out_features=128, bias=True)\n",
      "        (fc_o): Linear(in_features=128, out_features=128, bias=True)\n",
      "      )\n",
      "    )\n",
      "    (1): SAB(\n",
      "      (mab): MAB(\n",
      "        (fc_q): Linear(in_features=128, out_features=128, bias=True)\n",
      "        (fc_k): Linear(in_features=128, out_features=128, bias=True)\n",
      "        (fc_v): Linear(in_features=128, out_features=128, bias=True)\n",
      "        (fc_o): Linear(in_features=128, out_features=128, bias=True)\n",
      "      )\n",
      "    )\n",
      "    (2): SAB(\n",
      "      (mab): MAB(\n",
      "        (fc_q): Linear(in_features=128, out_features=128, bias=True)\n",
      "        (fc_k): Linear(in_features=128, out_features=128, bias=True)\n",
      "        (fc_v): Linear(in_features=128, out_features=128, bias=True)\n",
      "        (fc_o): Linear(in_features=128, out_features=128, bias=True)\n",
      "      )\n",
      "    )\n",
      "    (3): Linear(in_features=128, out_features=2, bias=True)\n",
      "  )\n",
      ")\n"
     ]
    }
   ],
   "source": [
    "cnntrans = CNN_Trans(6544,1,2)\n",
    "optimizer = torch.optim.Adam(cnntrans.parameters(), lr=LR)   \n",
    "loss_func = nn.L1Loss()                      \n",
    "if torch.cuda.is_available():\n",
    "    loss_func = loss_func.cuda()\n",
    "    cnntrans = cnntrans.cuda()\n",
    "cnntrans = cnntrans.double()\n",
    "print(cnntrans)"
   ]
  },
  {
   "cell_type": "code",
   "execution_count": 19,
   "metadata": {},
   "outputs": [],
   "source": [
    "class SmallSetTransformer(nn.Module):\n",
    "    def __init__(self,):\n",
    "        super().__init__()\n",
    "        self.enc = nn.Sequential(\n",
    "            SAB(dim_in=1, dim_out=64, num_heads=4),\n",
    "            SAB(dim_in=64, dim_out=64, num_heads=4),\n",
    "        )\n",
    "        self.dec = nn.Sequential(\n",
    "            PMA(dim=64, num_heads=4, num_seeds=1),\n",
    "            nn.Linear(in_features=64, out_features=2),\n",
    "        )\n",
    "\n",
    "    def forward(self, x):\n",
    "        x = self.enc(x)\n",
    "        x = self.dec(x)\n",
    "        return x.squeeze(-1)"
   ]
  },
  {
   "cell_type": "markdown",
   "metadata": {},
   "source": [
    "smalltrans = SmallSetTransformer()\n",
    "optimizer = torch.optim.Adam(smalltrans.parameters(), lr=LR)   \n",
    "loss_func = nn.L1Loss()                      \n",
    "if torch.cuda.is_available():\n",
    "    loss_func = loss_func.cuda()\n",
    "    smalltrans = smalltrans.cuda()\n",
    "smalltrans = smalltrans.double()\n",
    "print(smalltrans)"
   ]
  },
  {
   "cell_type": "code",
   "execution_count": 20,
   "metadata": {},
   "outputs": [],
   "source": [
    "def test(model):\n",
    "    model.eval()\n",
    "    with torch.no_grad():\n",
    "        correct = 0\n",
    "        total = 0\n",
    "        for batch in train_loader:\n",
    "            rna,labels = batch[\"rna\"], batch[\"label\"] \n",
    "            if torch.cuda.is_available():\n",
    "                rna = rna.cuda()\n",
    "                labels = labels.cuda()\n",
    "            labels = labels.reshape(-1,2)\n",
    "            outputs = model(rna)\n",
    "            outputs = outputs.reshape(-1,2)\n",
    "            _, predicted = torch.max(outputs.data, 1)\n",
    "            _, labels = torch.max(labels.data, 1)\n",
    "            total += labels.size(0)\n",
    "            correct += (predicted == labels).sum().item()\n",
    "           # print(total,correct)\n",
    "        TrainaccTest.append(correct/total)\n",
    "        \n",
    "        print('Train Accuracy of the model on the train rna: {} %'.format((correct / total) * 100))\n",
    "    with torch.no_grad():\n",
    "        correct = 0\n",
    "        total = 0\n",
    "        for batch in test_loader:\n",
    "            rna,labels = batch[\"rna\"], batch[\"label\"] \n",
    "            if torch.cuda.is_available():\n",
    "                rna = rna.cuda()\n",
    "                labels = labels.cuda()\n",
    "            labels = labels.reshape(-1,2)\n",
    "            outputs = model(rna)\n",
    "            outputs = outputs.reshape(-1,2)\n",
    "            _, predicted = torch.max(outputs.data, 1)\n",
    "            _, labels = torch.max(labels.data, 1)\n",
    "            total += labels.size(0)\n",
    "            correct += (predicted == labels).sum().item()\n",
    "    #print(total,correct)\n",
    "        TestaccTest.append(correct/total)\n",
    "        print('Test Accuracy of the model on the test rna: {} %'.format((correct / total) * 100))\n",
    "\n"
   ]
  },
  {
   "cell_type": "code",
   "execution_count": 21,
   "metadata": {
    "scrolled": false
   },
   "outputs": [],
   "source": [
    "def train(model): \n",
    "    total_step = len(train_loader)\n",
    "    num_epoch = EPOCH\n",
    "    for epoch in range(num_epoch):\n",
    "        model.train()\n",
    "        for i, batch in enumerate(train_loader):\n",
    "            # Run the forward pass\n",
    "            rna,labels = batch[\"rna\"], batch[\"label\"] \n",
    "            if torch.cuda.is_available():\n",
    "                rna = rna.cuda()\n",
    "                labels = labels.cuda()\n",
    "            outputs = model(rna)\n",
    "            labels = labels.long()\n",
    "            #print(outputs)\n",
    "            outputs = outputs.reshape(-1,2)\n",
    "            labels = labels.reshape(-1,2)\n",
    "            loss = loss_func(outputs, labels)\n",
    "            train_losses.append(loss.item())\n",
    "\n",
    "            # Backprop and perform Adam optimisation\n",
    "            optimizer.zero_grad()\n",
    "            loss.backward()\n",
    "            optimizer.step()\n",
    "\n",
    "            # Track the accuracy\n",
    "            total = labels.size(0)\n",
    "            _, predicted = torch.max(outputs.data, 1)\n",
    "            _, labels = torch.max(labels.data, 1)\n",
    "            correct = (predicted == labels).sum().item()\n",
    "            train_acc.append(correct / total)\n",
    "            if i % 100 == 0:\n",
    "                print('Epoch [{}/{}], Step [{}/{}], Loss: {:.4f}, Accuracy: {:.2f}%'\n",
    "                        .format(epoch + 1, num_epoch , i + 1, total_step, loss.item(),\n",
    "                                (correct / total) * 100))\n",
    "        test(model)"
   ]
  },
  {
   "cell_type": "code",
   "execution_count": 22,
   "metadata": {},
   "outputs": [
    {
     "name": "stdout",
     "output_type": "stream",
     "text": [
      "Epoch [1/20], Step [1/220], Loss: 0.5246, Accuracy: 62.50%\n",
      "Epoch [1/20], Step [101/220], Loss: 0.3882, Accuracy: 62.50%\n",
      "Epoch [1/20], Step [201/220], Loss: 0.3060, Accuracy: 75.00%\n",
      "Train Accuracy of the model on the train rna: 78.83492380002849 %\n",
      "Test Accuracy of the model on the test rna: 75.27010804321729 %\n",
      "Epoch [2/20], Step [1/220], Loss: 0.3238, Accuracy: 68.75%\n",
      "Epoch [2/20], Step [101/220], Loss: 0.2057, Accuracy: 84.38%\n",
      "Epoch [2/20], Step [201/220], Loss: 0.2165, Accuracy: 78.12%\n",
      "Train Accuracy of the model on the train rna: 81.98262355789774 %\n",
      "Test Accuracy of the model on the test rna: 78.031212484994 %\n",
      "Epoch [3/20], Step [1/220], Loss: 0.2616, Accuracy: 71.88%\n",
      "Epoch [3/20], Step [101/220], Loss: 0.2234, Accuracy: 81.25%\n",
      "Epoch [3/20], Step [201/220], Loss: 0.2045, Accuracy: 81.25%\n",
      "Train Accuracy of the model on the train rna: 84.06209941603761 %\n",
      "Test Accuracy of the model on the test rna: 79.11164465786314 %\n",
      "Epoch [4/20], Step [1/220], Loss: 0.1597, Accuracy: 84.38%\n",
      "Epoch [4/20], Step [101/220], Loss: 0.3198, Accuracy: 68.75%\n",
      "Epoch [4/20], Step [201/220], Loss: 0.1707, Accuracy: 81.25%\n",
      "Train Accuracy of the model on the train rna: 83.32146417889189 %\n",
      "Test Accuracy of the model on the test rna: 78.39135654261705 %\n",
      "Epoch [5/20], Step [1/220], Loss: 0.2292, Accuracy: 78.12%\n",
      "Epoch [5/20], Step [101/220], Loss: 0.1841, Accuracy: 81.25%\n",
      "Epoch [5/20], Step [201/220], Loss: 0.1986, Accuracy: 81.25%\n",
      "Train Accuracy of the model on the train rna: 85.00213644779946 %\n",
      "Test Accuracy of the model on the test rna: 78.75150060024009 %\n",
      "Epoch [6/20], Step [1/220], Loss: 0.2340, Accuracy: 78.12%\n",
      "Epoch [6/20], Step [101/220], Loss: 0.2943, Accuracy: 71.88%\n",
      "Epoch [6/20], Step [201/220], Loss: 0.1626, Accuracy: 90.62%\n",
      "Train Accuracy of the model on the train rna: 87.89346246973365 %\n",
      "Test Accuracy of the model on the test rna: 81.87274909963985 %\n",
      "Epoch [7/20], Step [1/220], Loss: 0.1703, Accuracy: 84.38%\n",
      "Epoch [7/20], Step [101/220], Loss: 0.2244, Accuracy: 81.25%\n",
      "Epoch [7/20], Step [201/220], Loss: 0.2046, Accuracy: 81.25%\n",
      "Train Accuracy of the model on the train rna: 88.93320039880359 %\n",
      "Test Accuracy of the model on the test rna: 81.99279711884753 %\n",
      "Epoch [8/20], Step [1/220], Loss: 0.1014, Accuracy: 90.62%\n",
      "Epoch [8/20], Step [101/220], Loss: 0.1920, Accuracy: 84.38%\n",
      "Epoch [8/20], Step [201/220], Loss: 0.0732, Accuracy: 93.75%\n",
      "Train Accuracy of the model on the train rna: 89.84475145990599 %\n",
      "Test Accuracy of the model on the test rna: 82.47298919567827 %\n",
      "Epoch [9/20], Step [1/220], Loss: 0.1241, Accuracy: 87.50%\n",
      "Epoch [9/20], Step [101/220], Loss: 0.1622, Accuracy: 84.38%\n",
      "Epoch [9/20], Step [201/220], Loss: 0.1476, Accuracy: 87.50%\n",
      "Train Accuracy of the model on the train rna: 82.99387551630821 %\n",
      "Test Accuracy of the model on the test rna: 75.87034813925571 %\n",
      "Epoch [10/20], Step [1/220], Loss: 0.2033, Accuracy: 84.38%\n",
      "Epoch [10/20], Step [101/220], Loss: 0.0985, Accuracy: 90.62%\n",
      "Epoch [10/20], Step [201/220], Loss: 0.1405, Accuracy: 87.50%\n",
      "Train Accuracy of the model on the train rna: 89.48867682666287 %\n",
      "Test Accuracy of the model on the test rna: 81.75270108043217 %\n",
      "Epoch [11/20], Step [1/220], Loss: 0.1253, Accuracy: 87.50%\n",
      "Epoch [11/20], Step [101/220], Loss: 0.1367, Accuracy: 90.62%\n",
      "Epoch [11/20], Step [201/220], Loss: 0.0775, Accuracy: 93.75%\n",
      "Train Accuracy of the model on the train rna: 91.3829938755163 %\n",
      "Test Accuracy of the model on the test rna: 82.59303721488595 %\n",
      "Epoch [12/20], Step [1/220], Loss: 0.0700, Accuracy: 93.75%\n",
      "Epoch [12/20], Step [101/220], Loss: 0.2159, Accuracy: 81.25%\n",
      "Epoch [12/20], Step [201/220], Loss: 0.2054, Accuracy: 81.25%\n",
      "Train Accuracy of the model on the train rna: 86.51189289275032 %\n",
      "Test Accuracy of the model on the test rna: 78.39135654261705 %\n",
      "Epoch [13/20], Step [1/220], Loss: 0.1069, Accuracy: 90.62%\n",
      "Epoch [13/20], Step [101/220], Loss: 0.1099, Accuracy: 90.62%\n",
      "Epoch [13/20], Step [201/220], Loss: 0.1479, Accuracy: 84.38%\n",
      "Train Accuracy of the model on the train rna: 92.15211508332146 %\n",
      "Test Accuracy of the model on the test rna: 83.07322929171669 %\n",
      "Epoch [14/20], Step [1/220], Loss: 0.0665, Accuracy: 93.75%\n",
      "Epoch [14/20], Step [101/220], Loss: 0.1446, Accuracy: 87.50%\n",
      "Epoch [14/20], Step [201/220], Loss: 0.1136, Accuracy: 90.62%\n",
      "Train Accuracy of the model on the train rna: 92.33727389260788 %\n",
      "Test Accuracy of the model on the test rna: 83.31332533013205 %\n",
      "Epoch [15/20], Step [1/220], Loss: 0.0925, Accuracy: 90.62%\n",
      "Epoch [15/20], Step [101/220], Loss: 0.1723, Accuracy: 84.38%\n",
      "Epoch [15/20], Step [201/220], Loss: 0.3132, Accuracy: 68.75%\n",
      "Train Accuracy of the model on the train rna: 88.91895741347386 %\n",
      "Test Accuracy of the model on the test rna: 79.47178871548618 %\n",
      "Epoch [16/20], Step [1/220], Loss: 0.0629, Accuracy: 93.75%\n",
      "Epoch [16/20], Step [101/220], Loss: 0.1067, Accuracy: 90.62%\n",
      "Epoch [16/20], Step [201/220], Loss: 0.2740, Accuracy: 68.75%\n",
      "Train Accuracy of the model on the train rna: 90.57114371172197 %\n",
      "Test Accuracy of the model on the test rna: 81.27250900360144 %\n",
      "Epoch [17/20], Step [1/220], Loss: 0.0719, Accuracy: 90.62%\n",
      "Epoch [17/20], Step [101/220], Loss: 0.1550, Accuracy: 84.38%\n",
      "Epoch [17/20], Step [201/220], Loss: 0.0568, Accuracy: 96.88%\n",
      "Train Accuracy of the model on the train rna: 88.44893889759294 %\n",
      "Test Accuracy of the model on the test rna: 80.0720288115246 %\n",
      "Epoch [18/20], Step [1/220], Loss: 0.1986, Accuracy: 81.25%\n",
      "Epoch [18/20], Step [101/220], Loss: 0.0388, Accuracy: 96.88%\n",
      "Epoch [18/20], Step [201/220], Loss: 0.0964, Accuracy: 90.62%\n",
      "Train Accuracy of the model on the train rna: 92.35151687793761 %\n",
      "Test Accuracy of the model on the test rna: 83.55342136854742 %\n",
      "Epoch [19/20], Step [1/220], Loss: 0.0236, Accuracy: 100.00%\n",
      "Epoch [19/20], Step [101/220], Loss: 0.1335, Accuracy: 87.50%\n",
      "Epoch [19/20], Step [201/220], Loss: 0.0708, Accuracy: 93.75%\n",
      "Train Accuracy of the model on the train rna: 84.53211793191852 %\n",
      "Test Accuracy of the model on the test rna: 77.31092436974791 %\n",
      "Epoch [20/20], Step [1/220], Loss: 0.1612, Accuracy: 84.38%\n",
      "Epoch [20/20], Step [101/220], Loss: 0.0815, Accuracy: 93.75%\n",
      "Epoch [20/20], Step [201/220], Loss: 0.2130, Accuracy: 78.12%\n",
      "Train Accuracy of the model on the train rna: 91.75331149408916 %\n",
      "Test Accuracy of the model on the test rna: 81.39255702280911 %\n"
     ]
    }
   ],
   "source": [
    "train_losses = []\n",
    "train_acc = []\n",
    "test_acc = []\n",
    "TrainaccTest = []\n",
    "TestaccTest = []\n",
    "train(cnntrans)"
   ]
  },
  {
   "cell_type": "code",
   "execution_count": 17,
   "metadata": {},
   "outputs": [
    {
     "data": {
      "image/png": "[encoded data removed]",
      "text/plain": [
       "<Figure size 432x288 with 1 Axes>"
      ]
     },
     "metadata": {
      "needs_background": "light"
     },
     "output_type": "display_data"
    }
   ],
   "source": [
    "plt.plot(train_losses, label='Training loss')\n",
    "plt.plot(train_acc, label='Training accuracy')\n",
    "plt.legend()\n",
    "plt.show()"
   ]
  },
  {
   "cell_type": "code",
   "execution_count": 18,
   "metadata": {},
   "outputs": [
    {
     "data": {
      "image/png": "[encoded data removed]",
      "text/plain": [
       "<Figure size 432x288 with 1 Axes>"
      ]
     },
     "metadata": {
      "needs_background": "light"
     },
     "output_type": "display_data"
    }
   ],
   "source": [
    "plt.plot(TrainaccTest, label='Training loss')\n",
    "plt.plot(TestaccTest, label='Training accuracy')\n",
    "plt.legend()\n",
    "plt.show()"
   ]
  },
  {
   "cell_type": "code",
   "execution_count": 20,
   "metadata": {},
   "outputs": [
    {
     "name": "stdout",
     "output_type": "stream",
     "text": [
      "torch.Size([3551, 3148])\n",
      "torch.Size([3551, 1])\n",
      "tensor([[1.3464e-02, 9.7938e-01],\n",
      "        [9.9812e-01, 7.6774e-04],\n",
      "        [9.9734e-01, 1.0916e-03],\n",
      "        ...,\n",
      "        [9.9816e-01, 2.8634e-04],\n",
      "        [5.9138e-03, 9.9119e-01],\n",
      "        [9.9784e-01, 1.9570e-04]], dtype=torch.float64)\n",
      "[9.79381528e-01 7.67742787e-04 1.09162237e-03 ... 2.86339895e-04\n",
      " 9.91190411e-01 1.95701132e-04]\n"
     ]
    },
    {
     "data": {
      "image/png": "[encoded data removed]",
      "text/plain": [
       "<Figure size 432x288 with 1 Axes>"
      ]
     },
     "metadata": {
      "needs_background": "light"
     },
     "output_type": "display_data"
    },
    {
     "data": {
      "image/png": "[encoded data removed]",
      "text/plain": [
       "<Figure size 432x288 with 1 Axes>"
      ]
     },
     "metadata": {
      "needs_background": "light"
     },
     "output_type": "display_data"
    },
    {
     "name": "stdout",
     "output_type": "stream",
     "text": [
      "AUPRC = 0.84\n",
      "f1_score = 0.82\n"
     ]
    }
   ],
   "source": [
    "samplesdf = pd.DataFrame()\n",
    "samplesdf = pd.read_csv(xtest,compression =\"gzip\",delimiter=',',header=0)\n",
    "x_test = samplesdf.to_numpy()\n",
    "\n",
    "samplesdf = pd.DataFrame()\n",
    "samplesdf = pd.read_csv(ytest,compression =\"gzip\",delimiter=',', header=0)\n",
    "y_test = samplesdf.to_numpy()\n",
    "\n",
    "x_test = torch.from_numpy(x_test)\n",
    "y_test = torch.from_numpy(y_test)\n",
    "print(x_test.shape)\n",
    "print(y_test.shape)\n",
    "with torch.no_grad():\n",
    "    cnntrans.eval()\n",
    "    cnntrans = cnntrans.cpu()\n",
    "    x_test = x_test.reshape(-1,1,3148)\n",
    "    outputs = cnntrans(x_test)\n",
    "    out = outputs.data.reshape(-1,2)\n",
    "    print(out)\n",
    "    predicted = np.zeros((len(out)))\n",
    "    i = 0\n",
    "    for x in out:\n",
    "        predicted[i] = x[1]\n",
    "        i = i + 1\n",
    "    print(predicted)\n",
    "    y_test = y_test.cpu()\n",
    "    y_test = y_test.reshape(-1)\n",
    "    fpr, tpr, _ = roc_curve(y_test,predicted)\n",
    "    roc_auc = auc(fpr,tpr)\n",
    "    plt.figure()\n",
    "    lw = 2\n",
    "    plt.plot(fpr,tpr, color='darkorange',\n",
    "             lw=lw, label='ROC curve (area = %0.2f)' % roc_auc)\n",
    "    plt.plot([0, 1], [0, 1], color='navy', lw=lw, linestyle='--')\n",
    "    plt.xlim([0.0, 1.0])\n",
    "    plt.ylim([0.0, 1.05])\n",
    "    plt.xlabel('False Positive Rate')\n",
    "    plt.ylabel('True Positive Rate')\n",
    "    plt.title('AUROC curve for CNN + ISAB')\n",
    "    plt.legend(loc=\"lower right\")\n",
    "    plt.show()\n",
    "    precision, recall, _ = precision_recall_curve(y_test,predicted)\n",
    "    prc_auc = auc(recall,precision)\n",
    "    plt.plot(recall,precision, color='darkorange',\n",
    "             lw=lw, label='PRC curve (area = %0.2f)' % prc_auc)\n",
    "    plt.xlim([0.0, 1.0])\n",
    "    plt.ylim([0.0, 1.05])\n",
    "    plt.xlabel('Recall')\n",
    "    plt.ylabel('Precision')\n",
    "    plt.title('AUPRC curve for CNN+ISAB')\n",
    "    plt.legend(loc=\"lower right\")\n",
    "    plt.show()\n",
    "    print(\"AUPRC = %.02f\"% prc_auc)\n",
    "    ss = np.zeros((len(predicted)))\n",
    "    i = 0\n",
    "    for x in predicted:\n",
    "        if x >= 0.5:\n",
    "            ss[i] = 1\n",
    "        else:\n",
    "            ss[i] = 0\n",
    "        i = i + 1\n",
    "    f1s = f1_score(y_test,ss)\n",
    "    print(\"f1_score = %.02f\"% f1s)\n",
    "    df = pd.DataFrame(y_test)\n",
    "    df.to_csv(r\"data/cnnisablb.csv.gz\",index=False,sep=\",\",compression=\"gzip\")\n",
    "    df = pd.DataFrame(predicted)\n",
    "    df.to_csv(r\"data/cnnisabpredict.csv.gz\",index=False,sep=\",\",compression=\"gzip\")\n"
   ]
  },
  {
   "cell_type": "code",
   "execution_count": null,
   "metadata": {},
   "outputs": [],
   "source": []
  }
 ],
 "metadata": {
  "kernelspec": {
   "display_name": "Python 3",
   "language": "python",
   "name": "python3"
  },
  "language_info": {
   "codemirror_mode": {
    "name": "ipython",
    "version": 3
   },
   "file_extension": ".py",
   "mimetype": "text/x-python",
   "name": "python",
   "nbconvert_exporter": "python",
   "pygments_lexer": "ipython3",
   "version": "3.8.3"
  }
 },
 "nbformat": 4,
 "nbformat_minor": 2
}
